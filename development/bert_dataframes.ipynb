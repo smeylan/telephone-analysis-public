{
 "cells": [
  {
   "cell_type": "code",
   "execution_count": 48,
   "metadata": {},
   "outputs": [],
   "source": [
    "import pandas as pd\n",
    "import os\n",
    "from os.path import join, exists \n",
    "import numpy as np\n",
    "\n",
    "os.chdir('/home/nwong/chompsky/serial_chain/telephone-analysis-public/')\n",
    "from new_models import prep_probs\n",
    "import load_runs\n",
    "\n",
    "import importlib"
   ]
  },
  {
   "cell_type": "code",
   "execution_count": 34,
   "metadata": {},
   "outputs": [
    {
     "data": {
      "text/plain": [
       "<module 'load_runs' from '/home/nwong/chompsky/serial_chain/telephone-analysis-public/load_runs.py'>"
      ]
     },
     "execution_count": 34,
     "metadata": {},
     "output_type": "execute_result"
    }
   ],
   "source": [
    "importlib.reload(load_runs)"
   ]
  },
  {
   "cell_type": "code",
   "execution_count": 35,
   "metadata": {
    "scrolled": true
   },
   "outputs": [
    {
     "name": "stdout",
     "output_type": "stream",
     "text": [
      "0    0\n",
      "1    5\n",
      "2    4\n",
      "3    3\n",
      "4    1\n",
      "Name: index, dtype: int64\n"
     ]
    },
    {
     "name": "stderr",
     "output_type": "stream",
     "text": [
      "/home/nwong/chompsky/serial_chain/telephone-analysis-public/load_runs.py:30: FutureWarning: Sorting because non-concatenation axis is not aligned. A future version\n",
      "of pandas will change to not sort by default.\n",
      "\n",
      "To accept the future behavior, pass 'sort=False'.\n",
      "\n",
      "To retain the current behavior and silence the warning, pass 'sort=True'.\n",
      "\n",
      "  all_runs = pd.concat(dfs)\n"
     ]
    }
   ],
   "source": [
    "# Give all runs a sentence ID (internall in load_runs.load_runs)\n",
    "\n",
    "RESULTS_FOLDER = '/home/nwong/chompsky/serial_chain/telephone-analysis-public/intermediate_results/new_models_probs'\n",
    "all_runs = load_runs.load_runs()\n",
    "\n",
    "bert_scores = prep_probs.load_word_scores('bert', RESULTS_FOLDER)"
   ]
  },
  {
   "cell_type": "code",
   "execution_count": 63,
   "metadata": {},
   "outputs": [],
   "source": [
    "# Concatenate the BERT scores together, assign them each a sentence ID.\n",
    "\n",
    "bert_token_probs = pd.concat(bert_scores, axis = 0)\n",
    "# Need to make the indices here as well.\n",
    "\n",
    "bert_sentence_ids = np.concatenate([(np.ones((len(df),)) * sentence_id).astype('int')\n",
    "                      for sentence_id, df in enumerate(bert_scores)])\n",
    "\n",
    "bert_token_probs.insert(0, 'sentence_id', bert_sentence_ids)\n"
   ]
  },
  {
   "cell_type": "code",
   "execution_count": 69,
   "metadata": {},
   "outputs": [],
   "source": [
    "# Save the Dataframes into one folder.\n",
    "\n",
    "bert_results_path = join(RESULTS_FOLDER, 'bert_dataframes')\n",
    "if not exists(bert_results_path):\n",
    "    os.makedirs(bert_results_path)\n",
    "    \n",
    "all_runs.to_csv(join(bert_results_path, 'all_runs_with_indexing.csv'))\n",
    "bert_token_probs.to_csv(join(bert_results_path, 'bert_token_probs.csv'))\n"
   ]
  }
 ],
 "metadata": {
  "kernelspec": {
   "display_name": "telephone-env-3",
   "language": "python",
   "name": "telephone-env-3"
  },
  "language_info": {
   "codemirror_mode": {
    "name": "ipython",
    "version": 3
   },
   "file_extension": ".py",
   "mimetype": "text/x-python",
   "name": "python",
   "nbconvert_exporter": "python",
   "pygments_lexer": "ipython3",
   "version": "3.7.9"
  }
 },
 "nbformat": 4,
 "nbformat_minor": 2
}
