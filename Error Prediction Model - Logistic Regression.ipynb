{
 "cells": [
  {
   "cell_type": "code",
   "execution_count": 289,
   "metadata": {},
   "outputs": [],
   "source": [
    "library('pROC')\n",
    "library('IRdisplay')\n",
    "library('lme4')\n",
    "library('Hmisc')\n",
    "library('MLmetrics')\n",
    "library('ggExtra')"
   ]
  },
  {
   "cell_type": "code",
   "execution_count": 5,
   "metadata": {},
   "outputs": [],
   "source": [
    "# run after Error Prediction Model - Data Preparation, where wordLevelChanges.csv is built\n",
    "# Note that this notebook is in R, whereas data preparation was in Python"
   ]
  },
  {
   "cell_type": "code",
   "execution_count": 112,
   "metadata": {},
   "outputs": [],
   "source": [
    "wdfs = read.csv('output/wordLevelChanges.csv', stringsAsFactors=F)\n",
    "wdfs$change = sapply(wdfs$code, function(x){\n",
    "    if (x == 'M'){\n",
    "        return(0)\n",
    "    } else { \n",
    "        return(1)\n",
    "    }\n",
    "})\n",
    "wdfs$one =1"
   ]
  },
  {
   "cell_type": "code",
   "execution_count": 113,
   "metadata": {},
   "outputs": [
    {
     "data": {
      "text/html": [
       "<style>\n",
       ".list-inline {list-style: none; margin:0; padding: 0}\n",
       ".list-inline>li {display: inline-block}\n",
       ".list-inline>li:not(:last-child)::after {content: \"\\00b7\"; padding: 0 .5ex}\n",
       "</style>\n",
       "<ol class=list-inline><li>'X'</li><li>'bnc_unigram_index'</li><li>'bnc_unigram_prob'</li><li>'bnc_unigram_word'</li><li>'bnc_trigram_index'</li><li>'bnc_trigram_prob'</li><li>'bnc_trigram_word'</li><li>'roark_scores_prefix'</li><li>'roark_scores_word'</li><li>'roark_scores_prefix.1'</li><li>'roark_scores_srprsl'</li><li>'roark_scores_SynSp'</li><li>'roark_scores_LexSp'</li><li>'roark_scores_ambig'</li><li>'roark_scores_open'</li><li>'roark_scores_rernk'</li><li>'roark_scores_toprr'</li><li>'roark_scores_stps'</li><li>'big_lm_scores_Unnamed..0'</li><li>'big_lm_scores_prob'</li><li>'big_lm_scores_word'</li><li>'kenlm_scores_prob'</li><li>'kenlm_scores_preceding'</li><li>'kenlm_scores_unk'</li><li>'kenlm_scores_words'</li><li>'sCounter'</li><li>'sentence_index'</li><li>'word'</li><li>'code'</li><li>'input_subject'</li><li>'output_subject'</li><li>'conc_bigram'</li><li>'conc_conc_m'</li><li>'conc_conc_sd'</li><li>'conc_unknown'</li><li>'conc_total'</li><li>'conc_percent_known'</li><li>'conc_subtlex'</li><li>'conc_dom_pos'</li><li>'kpm_alternative_spelling'</li><li>'kpm_freq_pm'</li><li>'kpm_dom_pos_subtlex'</li><li>'kpm_nletters'</li><li>'kpm_nphon'</li><li>'kpm_nsyll'</li><li>'kpm_lemma_highest_pos'</li><li>'kpm_aoa_kup'</li><li>'kpm_perc_known'</li><li>'kpm_aoa_kup_lem'</li><li>'kpm_perc_known_lem'</li><li>'kpm_aoa_bird_lem'</li><li>'kpm_aoa_bristol_lem'</li><li>'kpm_aoa_cort_lem'</li><li>'kpm_aoa_schock'</li><li>'pic_ipa'</li><li>'pic_ipa_ss_array'</li><li>'pic_ipa_ss'</li><li>'pic_ipa_n'</li><li>'pic_ortho'</li><li>'pic_ortho_ss_array'</li><li>'pic_ortho_ss'</li><li>'pic_ortho_n'</li><li>'pic_character'</li><li>'pic_character_ss_array'</li><li>'pic_character_ss'</li><li>'pic_character_n'</li><li>'lic_mean_surprisal_weighted'</li><li>'lic_mean_surprisal_unweighted'</li><li>'lic_frequency'</li><li>'lic_numcontexts'</li><li>'lic_retrievaltime'</li><li>'childes_parentProb'</li><li>'childes_parentUnigramSurprisal'</li><li>'childes_childProb'</li><li>'childes_childUnigramSurprisal'</li><li>'childes_childEarliestUse'</li><li>'wordbank_median_aoa'</li><li>'propuse_childes_24'</li><li>'wordbank_prop_use'</li><li>'propuse_combined'</li><li>'in_mcdi'</li><li>'wn_lemma'</li><li>'aspell_inDictionary'</li><li>'has_apostrophe'</li><li>'pld20'</li><li>'SUBTLCD'</li><li>'Unnamed..0'</li><li>'chain'</li><li>'character_levdau'</li><li>'check_time'</li><li>'condition'</li><li>'flag_type'</li><li>'gold_candidate_transcription'</li><li>'gold_comparison_transcription'</li><li>'gold_dist'</li><li>'length_accept'</li><li>'reason'</li><li>'run'</li><li>'stimulus'</li><li>'stimulus_id'</li><li>'subject_id'</li><li>'target_length'</li><li>'upload_time'</li><li>'upstream_pointer'</li><li>'upstream_subject_id'</li><li>'user'</li><li>'user_candidate_transcription'</li><li>'user_comparison_transcription'</li><li>'user_dist'</li><li>'user_short'</li><li>'word_distances'</li><li>'unique_chain_identifier'</li><li>'global_chain'</li><li>'BNC_KNN_trigramProb'</li><li>'BNC_KNN_unigramProb'</li><li>'WSJ_gt_unigramProb'</li><li>'WSJ_gt_trigramProb'</li><li>'WSJ_gt_5gramProb'</li><li>'WSJ_Roark_Negative.Log.Probability'</li><li>'biglm_probability'</li><li>'kenlm_probability'</li><li>'bllip_probability'</li><li>'bllip_wsj_probability'</li><li>'mikolov_wsj_probability'</li><li>'length_in_words'</li><li>'normalized_biglm_probability'</li><li>'normalized_WSJ_Roark_Negative.Log.Probability'</li><li>'normalized_BNC_KNN_unigramProb'</li><li>'normalized_BNC_KNN_trigramProb'</li><li>'normalized_kenlm_probability'</li><li>'normalized_bllip_probability'</li><li>'normalized_bllip_wsj_probability'</li><li>'normalized_mikolov_wsj_probability'</li><li>'normalized_WSJ_gt_unigramProb'</li><li>'normalized_WSJ_gt_trigramProb'</li><li>'normalized_WSJ_gt_5gramProb'</li><li>'initial_biglm_probability'</li><li>'initial_biglm_probability_rank'</li><li>'initial_biglm_probability_quartile'</li><li>'initial_WSJ_Roark_Negative.Log.Probability'</li><li>'initial_WSJ_Roark_Negative.Log.Probability_rank'</li><li>'initial_WSJ_Roark_Negative.Log.Probability_quartile'</li><li>'initial_BNC_KNN_unigramProb'</li><li>'initial_BNC_KNN_unigramProb_rank'</li><li>'initial_BNC_KNN_unigramProb_quartile'</li><li>'initial_BNC_KNN_trigramProb'</li><li>'initial_BNC_KNN_trigramProb_rank'</li><li>'initial_BNC_KNN_trigramProb_quartile'</li><li>'initial_kenlm_probability'</li><li>'initial_kenlm_probability_rank'</li><li>'initial_kenlm_probability_quartile'</li><li>'initial_bllip_probability'</li><li>'initial_bllip_probability_rank'</li><li>'initial_bllip_probability_quartile'</li><li>'initial_bllip_wsj_probability'</li><li>'initial_bllip_wsj_probability_rank'</li><li>'initial_bllip_wsj_probability_quartile'</li><li>'initial_mikolov_wsj_probability'</li><li>'initial_mikolov_wsj_probability_rank'</li><li>'initial_mikolov_wsj_probability_quartile'</li><li>'initial_WSJ_gt_unigramProb'</li><li>'initial_WSJ_gt_unigramProb_rank'</li><li>'initial_WSJ_gt_unigramProb_quartile'</li><li>'initial_WSJ_gt_trigramProb'</li><li>'initial_WSJ_gt_trigramProb_rank'</li><li>'initial_WSJ_gt_trigramProb_quartile'</li><li>'initial_WSJ_gt_5gramProb'</li><li>'initial_WSJ_gt_5gramProb_rank'</li><li>'initial_WSJ_gt_5gramProb_quartile'</li><li>'thread_id'</li><li>'chain_length'</li><li>'change'</li><li>'one'</li></ol>\n"
      ],
      "text/latex": [
       "\\begin{enumerate*}\n",
       "\\item 'X'\n",
       "\\item 'bnc\\_unigram\\_index'\n",
       "\\item 'bnc\\_unigram\\_prob'\n",
       "\\item 'bnc\\_unigram\\_word'\n",
       "\\item 'bnc\\_trigram\\_index'\n",
       "\\item 'bnc\\_trigram\\_prob'\n",
       "\\item 'bnc\\_trigram\\_word'\n",
       "\\item 'roark\\_scores\\_prefix'\n",
       "\\item 'roark\\_scores\\_word'\n",
       "\\item 'roark\\_scores\\_prefix.1'\n",
       "\\item 'roark\\_scores\\_srprsl'\n",
       "\\item 'roark\\_scores\\_SynSp'\n",
       "\\item 'roark\\_scores\\_LexSp'\n",
       "\\item 'roark\\_scores\\_ambig'\n",
       "\\item 'roark\\_scores\\_open'\n",
       "\\item 'roark\\_scores\\_rernk'\n",
       "\\item 'roark\\_scores\\_toprr'\n",
       "\\item 'roark\\_scores\\_stps'\n",
       "\\item 'big\\_lm\\_scores\\_Unnamed..0'\n",
       "\\item 'big\\_lm\\_scores\\_prob'\n",
       "\\item 'big\\_lm\\_scores\\_word'\n",
       "\\item 'kenlm\\_scores\\_prob'\n",
       "\\item 'kenlm\\_scores\\_preceding'\n",
       "\\item 'kenlm\\_scores\\_unk'\n",
       "\\item 'kenlm\\_scores\\_words'\n",
       "\\item 'sCounter'\n",
       "\\item 'sentence\\_index'\n",
       "\\item 'word'\n",
       "\\item 'code'\n",
       "\\item 'input\\_subject'\n",
       "\\item 'output\\_subject'\n",
       "\\item 'conc\\_bigram'\n",
       "\\item 'conc\\_conc\\_m'\n",
       "\\item 'conc\\_conc\\_sd'\n",
       "\\item 'conc\\_unknown'\n",
       "\\item 'conc\\_total'\n",
       "\\item 'conc\\_percent\\_known'\n",
       "\\item 'conc\\_subtlex'\n",
       "\\item 'conc\\_dom\\_pos'\n",
       "\\item 'kpm\\_alternative\\_spelling'\n",
       "\\item 'kpm\\_freq\\_pm'\n",
       "\\item 'kpm\\_dom\\_pos\\_subtlex'\n",
       "\\item 'kpm\\_nletters'\n",
       "\\item 'kpm\\_nphon'\n",
       "\\item 'kpm\\_nsyll'\n",
       "\\item 'kpm\\_lemma\\_highest\\_pos'\n",
       "\\item 'kpm\\_aoa\\_kup'\n",
       "\\item 'kpm\\_perc\\_known'\n",
       "\\item 'kpm\\_aoa\\_kup\\_lem'\n",
       "\\item 'kpm\\_perc\\_known\\_lem'\n",
       "\\item 'kpm\\_aoa\\_bird\\_lem'\n",
       "\\item 'kpm\\_aoa\\_bristol\\_lem'\n",
       "\\item 'kpm\\_aoa\\_cort\\_lem'\n",
       "\\item 'kpm\\_aoa\\_schock'\n",
       "\\item 'pic\\_ipa'\n",
       "\\item 'pic\\_ipa\\_ss\\_array'\n",
       "\\item 'pic\\_ipa\\_ss'\n",
       "\\item 'pic\\_ipa\\_n'\n",
       "\\item 'pic\\_ortho'\n",
       "\\item 'pic\\_ortho\\_ss\\_array'\n",
       "\\item 'pic\\_ortho\\_ss'\n",
       "\\item 'pic\\_ortho\\_n'\n",
       "\\item 'pic\\_character'\n",
       "\\item 'pic\\_character\\_ss\\_array'\n",
       "\\item 'pic\\_character\\_ss'\n",
       "\\item 'pic\\_character\\_n'\n",
       "\\item 'lic\\_mean\\_surprisal\\_weighted'\n",
       "\\item 'lic\\_mean\\_surprisal\\_unweighted'\n",
       "\\item 'lic\\_frequency'\n",
       "\\item 'lic\\_numcontexts'\n",
       "\\item 'lic\\_retrievaltime'\n",
       "\\item 'childes\\_parentProb'\n",
       "\\item 'childes\\_parentUnigramSurprisal'\n",
       "\\item 'childes\\_childProb'\n",
       "\\item 'childes\\_childUnigramSurprisal'\n",
       "\\item 'childes\\_childEarliestUse'\n",
       "\\item 'wordbank\\_median\\_aoa'\n",
       "\\item 'propuse\\_childes\\_24'\n",
       "\\item 'wordbank\\_prop\\_use'\n",
       "\\item 'propuse\\_combined'\n",
       "\\item 'in\\_mcdi'\n",
       "\\item 'wn\\_lemma'\n",
       "\\item 'aspell\\_inDictionary'\n",
       "\\item 'has\\_apostrophe'\n",
       "\\item 'pld20'\n",
       "\\item 'SUBTLCD'\n",
       "\\item 'Unnamed..0'\n",
       "\\item 'chain'\n",
       "\\item 'character\\_levdau'\n",
       "\\item 'check\\_time'\n",
       "\\item 'condition'\n",
       "\\item 'flag\\_type'\n",
       "\\item 'gold\\_candidate\\_transcription'\n",
       "\\item 'gold\\_comparison\\_transcription'\n",
       "\\item 'gold\\_dist'\n",
       "\\item 'length\\_accept'\n",
       "\\item 'reason'\n",
       "\\item 'run'\n",
       "\\item 'stimulus'\n",
       "\\item 'stimulus\\_id'\n",
       "\\item 'subject\\_id'\n",
       "\\item 'target\\_length'\n",
       "\\item 'upload\\_time'\n",
       "\\item 'upstream\\_pointer'\n",
       "\\item 'upstream\\_subject\\_id'\n",
       "\\item 'user'\n",
       "\\item 'user\\_candidate\\_transcription'\n",
       "\\item 'user\\_comparison\\_transcription'\n",
       "\\item 'user\\_dist'\n",
       "\\item 'user\\_short'\n",
       "\\item 'word\\_distances'\n",
       "\\item 'unique\\_chain\\_identifier'\n",
       "\\item 'global\\_chain'\n",
       "\\item 'BNC\\_KNN\\_trigramProb'\n",
       "\\item 'BNC\\_KNN\\_unigramProb'\n",
       "\\item 'WSJ\\_gt\\_unigramProb'\n",
       "\\item 'WSJ\\_gt\\_trigramProb'\n",
       "\\item 'WSJ\\_gt\\_5gramProb'\n",
       "\\item 'WSJ\\_Roark\\_Negative.Log.Probability'\n",
       "\\item 'biglm\\_probability'\n",
       "\\item 'kenlm\\_probability'\n",
       "\\item 'bllip\\_probability'\n",
       "\\item 'bllip\\_wsj\\_probability'\n",
       "\\item 'mikolov\\_wsj\\_probability'\n",
       "\\item 'length\\_in\\_words'\n",
       "\\item 'normalized\\_biglm\\_probability'\n",
       "\\item 'normalized\\_WSJ\\_Roark\\_Negative.Log.Probability'\n",
       "\\item 'normalized\\_BNC\\_KNN\\_unigramProb'\n",
       "\\item 'normalized\\_BNC\\_KNN\\_trigramProb'\n",
       "\\item 'normalized\\_kenlm\\_probability'\n",
       "\\item 'normalized\\_bllip\\_probability'\n",
       "\\item 'normalized\\_bllip\\_wsj\\_probability'\n",
       "\\item 'normalized\\_mikolov\\_wsj\\_probability'\n",
       "\\item 'normalized\\_WSJ\\_gt\\_unigramProb'\n",
       "\\item 'normalized\\_WSJ\\_gt\\_trigramProb'\n",
       "\\item 'normalized\\_WSJ\\_gt\\_5gramProb'\n",
       "\\item 'initial\\_biglm\\_probability'\n",
       "\\item 'initial\\_biglm\\_probability\\_rank'\n",
       "\\item 'initial\\_biglm\\_probability\\_quartile'\n",
       "\\item 'initial\\_WSJ\\_Roark\\_Negative.Log.Probability'\n",
       "\\item 'initial\\_WSJ\\_Roark\\_Negative.Log.Probability\\_rank'\n",
       "\\item 'initial\\_WSJ\\_Roark\\_Negative.Log.Probability\\_quartile'\n",
       "\\item 'initial\\_BNC\\_KNN\\_unigramProb'\n",
       "\\item 'initial\\_BNC\\_KNN\\_unigramProb\\_rank'\n",
       "\\item 'initial\\_BNC\\_KNN\\_unigramProb\\_quartile'\n",
       "\\item 'initial\\_BNC\\_KNN\\_trigramProb'\n",
       "\\item 'initial\\_BNC\\_KNN\\_trigramProb\\_rank'\n",
       "\\item 'initial\\_BNC\\_KNN\\_trigramProb\\_quartile'\n",
       "\\item 'initial\\_kenlm\\_probability'\n",
       "\\item 'initial\\_kenlm\\_probability\\_rank'\n",
       "\\item 'initial\\_kenlm\\_probability\\_quartile'\n",
       "\\item 'initial\\_bllip\\_probability'\n",
       "\\item 'initial\\_bllip\\_probability\\_rank'\n",
       "\\item 'initial\\_bllip\\_probability\\_quartile'\n",
       "\\item 'initial\\_bllip\\_wsj\\_probability'\n",
       "\\item 'initial\\_bllip\\_wsj\\_probability\\_rank'\n",
       "\\item 'initial\\_bllip\\_wsj\\_probability\\_quartile'\n",
       "\\item 'initial\\_mikolov\\_wsj\\_probability'\n",
       "\\item 'initial\\_mikolov\\_wsj\\_probability\\_rank'\n",
       "\\item 'initial\\_mikolov\\_wsj\\_probability\\_quartile'\n",
       "\\item 'initial\\_WSJ\\_gt\\_unigramProb'\n",
       "\\item 'initial\\_WSJ\\_gt\\_unigramProb\\_rank'\n",
       "\\item 'initial\\_WSJ\\_gt\\_unigramProb\\_quartile'\n",
       "\\item 'initial\\_WSJ\\_gt\\_trigramProb'\n",
       "\\item 'initial\\_WSJ\\_gt\\_trigramProb\\_rank'\n",
       "\\item 'initial\\_WSJ\\_gt\\_trigramProb\\_quartile'\n",
       "\\item 'initial\\_WSJ\\_gt\\_5gramProb'\n",
       "\\item 'initial\\_WSJ\\_gt\\_5gramProb\\_rank'\n",
       "\\item 'initial\\_WSJ\\_gt\\_5gramProb\\_quartile'\n",
       "\\item 'thread\\_id'\n",
       "\\item 'chain\\_length'\n",
       "\\item 'change'\n",
       "\\item 'one'\n",
       "\\end{enumerate*}\n"
      ],
      "text/markdown": [
       "1. 'X'\n",
       "2. 'bnc_unigram_index'\n",
       "3. 'bnc_unigram_prob'\n",
       "4. 'bnc_unigram_word'\n",
       "5. 'bnc_trigram_index'\n",
       "6. 'bnc_trigram_prob'\n",
       "7. 'bnc_trigram_word'\n",
       "8. 'roark_scores_prefix'\n",
       "9. 'roark_scores_word'\n",
       "10. 'roark_scores_prefix.1'\n",
       "11. 'roark_scores_srprsl'\n",
       "12. 'roark_scores_SynSp'\n",
       "13. 'roark_scores_LexSp'\n",
       "14. 'roark_scores_ambig'\n",
       "15. 'roark_scores_open'\n",
       "16. 'roark_scores_rernk'\n",
       "17. 'roark_scores_toprr'\n",
       "18. 'roark_scores_stps'\n",
       "19. 'big_lm_scores_Unnamed..0'\n",
       "20. 'big_lm_scores_prob'\n",
       "21. 'big_lm_scores_word'\n",
       "22. 'kenlm_scores_prob'\n",
       "23. 'kenlm_scores_preceding'\n",
       "24. 'kenlm_scores_unk'\n",
       "25. 'kenlm_scores_words'\n",
       "26. 'sCounter'\n",
       "27. 'sentence_index'\n",
       "28. 'word'\n",
       "29. 'code'\n",
       "30. 'input_subject'\n",
       "31. 'output_subject'\n",
       "32. 'conc_bigram'\n",
       "33. 'conc_conc_m'\n",
       "34. 'conc_conc_sd'\n",
       "35. 'conc_unknown'\n",
       "36. 'conc_total'\n",
       "37. 'conc_percent_known'\n",
       "38. 'conc_subtlex'\n",
       "39. 'conc_dom_pos'\n",
       "40. 'kpm_alternative_spelling'\n",
       "41. 'kpm_freq_pm'\n",
       "42. 'kpm_dom_pos_subtlex'\n",
       "43. 'kpm_nletters'\n",
       "44. 'kpm_nphon'\n",
       "45. 'kpm_nsyll'\n",
       "46. 'kpm_lemma_highest_pos'\n",
       "47. 'kpm_aoa_kup'\n",
       "48. 'kpm_perc_known'\n",
       "49. 'kpm_aoa_kup_lem'\n",
       "50. 'kpm_perc_known_lem'\n",
       "51. 'kpm_aoa_bird_lem'\n",
       "52. 'kpm_aoa_bristol_lem'\n",
       "53. 'kpm_aoa_cort_lem'\n",
       "54. 'kpm_aoa_schock'\n",
       "55. 'pic_ipa'\n",
       "56. 'pic_ipa_ss_array'\n",
       "57. 'pic_ipa_ss'\n",
       "58. 'pic_ipa_n'\n",
       "59. 'pic_ortho'\n",
       "60. 'pic_ortho_ss_array'\n",
       "61. 'pic_ortho_ss'\n",
       "62. 'pic_ortho_n'\n",
       "63. 'pic_character'\n",
       "64. 'pic_character_ss_array'\n",
       "65. 'pic_character_ss'\n",
       "66. 'pic_character_n'\n",
       "67. 'lic_mean_surprisal_weighted'\n",
       "68. 'lic_mean_surprisal_unweighted'\n",
       "69. 'lic_frequency'\n",
       "70. 'lic_numcontexts'\n",
       "71. 'lic_retrievaltime'\n",
       "72. 'childes_parentProb'\n",
       "73. 'childes_parentUnigramSurprisal'\n",
       "74. 'childes_childProb'\n",
       "75. 'childes_childUnigramSurprisal'\n",
       "76. 'childes_childEarliestUse'\n",
       "77. 'wordbank_median_aoa'\n",
       "78. 'propuse_childes_24'\n",
       "79. 'wordbank_prop_use'\n",
       "80. 'propuse_combined'\n",
       "81. 'in_mcdi'\n",
       "82. 'wn_lemma'\n",
       "83. 'aspell_inDictionary'\n",
       "84. 'has_apostrophe'\n",
       "85. 'pld20'\n",
       "86. 'SUBTLCD'\n",
       "87. 'Unnamed..0'\n",
       "88. 'chain'\n",
       "89. 'character_levdau'\n",
       "90. 'check_time'\n",
       "91. 'condition'\n",
       "92. 'flag_type'\n",
       "93. 'gold_candidate_transcription'\n",
       "94. 'gold_comparison_transcription'\n",
       "95. 'gold_dist'\n",
       "96. 'length_accept'\n",
       "97. 'reason'\n",
       "98. 'run'\n",
       "99. 'stimulus'\n",
       "100. 'stimulus_id'\n",
       "101. 'subject_id'\n",
       "102. 'target_length'\n",
       "103. 'upload_time'\n",
       "104. 'upstream_pointer'\n",
       "105. 'upstream_subject_id'\n",
       "106. 'user'\n",
       "107. 'user_candidate_transcription'\n",
       "108. 'user_comparison_transcription'\n",
       "109. 'user_dist'\n",
       "110. 'user_short'\n",
       "111. 'word_distances'\n",
       "112. 'unique_chain_identifier'\n",
       "113. 'global_chain'\n",
       "114. 'BNC_KNN_trigramProb'\n",
       "115. 'BNC_KNN_unigramProb'\n",
       "116. 'WSJ_gt_unigramProb'\n",
       "117. 'WSJ_gt_trigramProb'\n",
       "118. 'WSJ_gt_5gramProb'\n",
       "119. 'WSJ_Roark_Negative.Log.Probability'\n",
       "120. 'biglm_probability'\n",
       "121. 'kenlm_probability'\n",
       "122. 'bllip_probability'\n",
       "123. 'bllip_wsj_probability'\n",
       "124. 'mikolov_wsj_probability'\n",
       "125. 'length_in_words'\n",
       "126. 'normalized_biglm_probability'\n",
       "127. 'normalized_WSJ_Roark_Negative.Log.Probability'\n",
       "128. 'normalized_BNC_KNN_unigramProb'\n",
       "129. 'normalized_BNC_KNN_trigramProb'\n",
       "130. 'normalized_kenlm_probability'\n",
       "131. 'normalized_bllip_probability'\n",
       "132. 'normalized_bllip_wsj_probability'\n",
       "133. 'normalized_mikolov_wsj_probability'\n",
       "134. 'normalized_WSJ_gt_unigramProb'\n",
       "135. 'normalized_WSJ_gt_trigramProb'\n",
       "136. 'normalized_WSJ_gt_5gramProb'\n",
       "137. 'initial_biglm_probability'\n",
       "138. 'initial_biglm_probability_rank'\n",
       "139. 'initial_biglm_probability_quartile'\n",
       "140. 'initial_WSJ_Roark_Negative.Log.Probability'\n",
       "141. 'initial_WSJ_Roark_Negative.Log.Probability_rank'\n",
       "142. 'initial_WSJ_Roark_Negative.Log.Probability_quartile'\n",
       "143. 'initial_BNC_KNN_unigramProb'\n",
       "144. 'initial_BNC_KNN_unigramProb_rank'\n",
       "145. 'initial_BNC_KNN_unigramProb_quartile'\n",
       "146. 'initial_BNC_KNN_trigramProb'\n",
       "147. 'initial_BNC_KNN_trigramProb_rank'\n",
       "148. 'initial_BNC_KNN_trigramProb_quartile'\n",
       "149. 'initial_kenlm_probability'\n",
       "150. 'initial_kenlm_probability_rank'\n",
       "151. 'initial_kenlm_probability_quartile'\n",
       "152. 'initial_bllip_probability'\n",
       "153. 'initial_bllip_probability_rank'\n",
       "154. 'initial_bllip_probability_quartile'\n",
       "155. 'initial_bllip_wsj_probability'\n",
       "156. 'initial_bllip_wsj_probability_rank'\n",
       "157. 'initial_bllip_wsj_probability_quartile'\n",
       "158. 'initial_mikolov_wsj_probability'\n",
       "159. 'initial_mikolov_wsj_probability_rank'\n",
       "160. 'initial_mikolov_wsj_probability_quartile'\n",
       "161. 'initial_WSJ_gt_unigramProb'\n",
       "162. 'initial_WSJ_gt_unigramProb_rank'\n",
       "163. 'initial_WSJ_gt_unigramProb_quartile'\n",
       "164. 'initial_WSJ_gt_trigramProb'\n",
       "165. 'initial_WSJ_gt_trigramProb_rank'\n",
       "166. 'initial_WSJ_gt_trigramProb_quartile'\n",
       "167. 'initial_WSJ_gt_5gramProb'\n",
       "168. 'initial_WSJ_gt_5gramProb_rank'\n",
       "169. 'initial_WSJ_gt_5gramProb_quartile'\n",
       "170. 'thread_id'\n",
       "171. 'chain_length'\n",
       "172. 'change'\n",
       "173. 'one'\n",
       "\n",
       "\n"
      ],
      "text/plain": [
       "  [1] \"X\"                                                  \n",
       "  [2] \"bnc_unigram_index\"                                  \n",
       "  [3] \"bnc_unigram_prob\"                                   \n",
       "  [4] \"bnc_unigram_word\"                                   \n",
       "  [5] \"bnc_trigram_index\"                                  \n",
       "  [6] \"bnc_trigram_prob\"                                   \n",
       "  [7] \"bnc_trigram_word\"                                   \n",
       "  [8] \"roark_scores_prefix\"                                \n",
       "  [9] \"roark_scores_word\"                                  \n",
       " [10] \"roark_scores_prefix.1\"                              \n",
       " [11] \"roark_scores_srprsl\"                                \n",
       " [12] \"roark_scores_SynSp\"                                 \n",
       " [13] \"roark_scores_LexSp\"                                 \n",
       " [14] \"roark_scores_ambig\"                                 \n",
       " [15] \"roark_scores_open\"                                  \n",
       " [16] \"roark_scores_rernk\"                                 \n",
       " [17] \"roark_scores_toprr\"                                 \n",
       " [18] \"roark_scores_stps\"                                  \n",
       " [19] \"big_lm_scores_Unnamed..0\"                           \n",
       " [20] \"big_lm_scores_prob\"                                 \n",
       " [21] \"big_lm_scores_word\"                                 \n",
       " [22] \"kenlm_scores_prob\"                                  \n",
       " [23] \"kenlm_scores_preceding\"                             \n",
       " [24] \"kenlm_scores_unk\"                                   \n",
       " [25] \"kenlm_scores_words\"                                 \n",
       " [26] \"sCounter\"                                           \n",
       " [27] \"sentence_index\"                                     \n",
       " [28] \"word\"                                               \n",
       " [29] \"code\"                                               \n",
       " [30] \"input_subject\"                                      \n",
       " [31] \"output_subject\"                                     \n",
       " [32] \"conc_bigram\"                                        \n",
       " [33] \"conc_conc_m\"                                        \n",
       " [34] \"conc_conc_sd\"                                       \n",
       " [35] \"conc_unknown\"                                       \n",
       " [36] \"conc_total\"                                         \n",
       " [37] \"conc_percent_known\"                                 \n",
       " [38] \"conc_subtlex\"                                       \n",
       " [39] \"conc_dom_pos\"                                       \n",
       " [40] \"kpm_alternative_spelling\"                           \n",
       " [41] \"kpm_freq_pm\"                                        \n",
       " [42] \"kpm_dom_pos_subtlex\"                                \n",
       " [43] \"kpm_nletters\"                                       \n",
       " [44] \"kpm_nphon\"                                          \n",
       " [45] \"kpm_nsyll\"                                          \n",
       " [46] \"kpm_lemma_highest_pos\"                              \n",
       " [47] \"kpm_aoa_kup\"                                        \n",
       " [48] \"kpm_perc_known\"                                     \n",
       " [49] \"kpm_aoa_kup_lem\"                                    \n",
       " [50] \"kpm_perc_known_lem\"                                 \n",
       " [51] \"kpm_aoa_bird_lem\"                                   \n",
       " [52] \"kpm_aoa_bristol_lem\"                                \n",
       " [53] \"kpm_aoa_cort_lem\"                                   \n",
       " [54] \"kpm_aoa_schock\"                                     \n",
       " [55] \"pic_ipa\"                                            \n",
       " [56] \"pic_ipa_ss_array\"                                   \n",
       " [57] \"pic_ipa_ss\"                                         \n",
       " [58] \"pic_ipa_n\"                                          \n",
       " [59] \"pic_ortho\"                                          \n",
       " [60] \"pic_ortho_ss_array\"                                 \n",
       " [61] \"pic_ortho_ss\"                                       \n",
       " [62] \"pic_ortho_n\"                                        \n",
       " [63] \"pic_character\"                                      \n",
       " [64] \"pic_character_ss_array\"                             \n",
       " [65] \"pic_character_ss\"                                   \n",
       " [66] \"pic_character_n\"                                    \n",
       " [67] \"lic_mean_surprisal_weighted\"                        \n",
       " [68] \"lic_mean_surprisal_unweighted\"                      \n",
       " [69] \"lic_frequency\"                                      \n",
       " [70] \"lic_numcontexts\"                                    \n",
       " [71] \"lic_retrievaltime\"                                  \n",
       " [72] \"childes_parentProb\"                                 \n",
       " [73] \"childes_parentUnigramSurprisal\"                     \n",
       " [74] \"childes_childProb\"                                  \n",
       " [75] \"childes_childUnigramSurprisal\"                      \n",
       " [76] \"childes_childEarliestUse\"                           \n",
       " [77] \"wordbank_median_aoa\"                                \n",
       " [78] \"propuse_childes_24\"                                 \n",
       " [79] \"wordbank_prop_use\"                                  \n",
       " [80] \"propuse_combined\"                                   \n",
       " [81] \"in_mcdi\"                                            \n",
       " [82] \"wn_lemma\"                                           \n",
       " [83] \"aspell_inDictionary\"                                \n",
       " [84] \"has_apostrophe\"                                     \n",
       " [85] \"pld20\"                                              \n",
       " [86] \"SUBTLCD\"                                            \n",
       " [87] \"Unnamed..0\"                                         \n",
       " [88] \"chain\"                                              \n",
       " [89] \"character_levdau\"                                   \n",
       " [90] \"check_time\"                                         \n",
       " [91] \"condition\"                                          \n",
       " [92] \"flag_type\"                                          \n",
       " [93] \"gold_candidate_transcription\"                       \n",
       " [94] \"gold_comparison_transcription\"                      \n",
       " [95] \"gold_dist\"                                          \n",
       " [96] \"length_accept\"                                      \n",
       " [97] \"reason\"                                             \n",
       " [98] \"run\"                                                \n",
       " [99] \"stimulus\"                                           \n",
       "[100] \"stimulus_id\"                                        \n",
       "[101] \"subject_id\"                                         \n",
       "[102] \"target_length\"                                      \n",
       "[103] \"upload_time\"                                        \n",
       "[104] \"upstream_pointer\"                                   \n",
       "[105] \"upstream_subject_id\"                                \n",
       "[106] \"user\"                                               \n",
       "[107] \"user_candidate_transcription\"                       \n",
       "[108] \"user_comparison_transcription\"                      \n",
       "[109] \"user_dist\"                                          \n",
       "[110] \"user_short\"                                         \n",
       "[111] \"word_distances\"                                     \n",
       "[112] \"unique_chain_identifier\"                            \n",
       "[113] \"global_chain\"                                       \n",
       "[114] \"BNC_KNN_trigramProb\"                                \n",
       "[115] \"BNC_KNN_unigramProb\"                                \n",
       "[116] \"WSJ_gt_unigramProb\"                                 \n",
       "[117] \"WSJ_gt_trigramProb\"                                 \n",
       "[118] \"WSJ_gt_5gramProb\"                                   \n",
       "[119] \"WSJ_Roark_Negative.Log.Probability\"                 \n",
       "[120] \"biglm_probability\"                                  \n",
       "[121] \"kenlm_probability\"                                  \n",
       "[122] \"bllip_probability\"                                  \n",
       "[123] \"bllip_wsj_probability\"                              \n",
       "[124] \"mikolov_wsj_probability\"                            \n",
       "[125] \"length_in_words\"                                    \n",
       "[126] \"normalized_biglm_probability\"                       \n",
       "[127] \"normalized_WSJ_Roark_Negative.Log.Probability\"      \n",
       "[128] \"normalized_BNC_KNN_unigramProb\"                     \n",
       "[129] \"normalized_BNC_KNN_trigramProb\"                     \n",
       "[130] \"normalized_kenlm_probability\"                       \n",
       "[131] \"normalized_bllip_probability\"                       \n",
       "[132] \"normalized_bllip_wsj_probability\"                   \n",
       "[133] \"normalized_mikolov_wsj_probability\"                 \n",
       "[134] \"normalized_WSJ_gt_unigramProb\"                      \n",
       "[135] \"normalized_WSJ_gt_trigramProb\"                      \n",
       "[136] \"normalized_WSJ_gt_5gramProb\"                        \n",
       "[137] \"initial_biglm_probability\"                          \n",
       "[138] \"initial_biglm_probability_rank\"                     \n",
       "[139] \"initial_biglm_probability_quartile\"                 \n",
       "[140] \"initial_WSJ_Roark_Negative.Log.Probability\"         \n",
       "[141] \"initial_WSJ_Roark_Negative.Log.Probability_rank\"    \n",
       "[142] \"initial_WSJ_Roark_Negative.Log.Probability_quartile\"\n",
       "[143] \"initial_BNC_KNN_unigramProb\"                        \n",
       "[144] \"initial_BNC_KNN_unigramProb_rank\"                   \n",
       "[145] \"initial_BNC_KNN_unigramProb_quartile\"               \n",
       "[146] \"initial_BNC_KNN_trigramProb\"                        \n",
       "[147] \"initial_BNC_KNN_trigramProb_rank\"                   \n",
       "[148] \"initial_BNC_KNN_trigramProb_quartile\"               \n",
       "[149] \"initial_kenlm_probability\"                          \n",
       "[150] \"initial_kenlm_probability_rank\"                     \n",
       "[151] \"initial_kenlm_probability_quartile\"                 \n",
       "[152] \"initial_bllip_probability\"                          \n",
       "[153] \"initial_bllip_probability_rank\"                     \n",
       "[154] \"initial_bllip_probability_quartile\"                 \n",
       "[155] \"initial_bllip_wsj_probability\"                      \n",
       "[156] \"initial_bllip_wsj_probability_rank\"                 \n",
       "[157] \"initial_bllip_wsj_probability_quartile\"             \n",
       "[158] \"initial_mikolov_wsj_probability\"                    \n",
       "[159] \"initial_mikolov_wsj_probability_rank\"               \n",
       "[160] \"initial_mikolov_wsj_probability_quartile\"           \n",
       "[161] \"initial_WSJ_gt_unigramProb\"                         \n",
       "[162] \"initial_WSJ_gt_unigramProb_rank\"                    \n",
       "[163] \"initial_WSJ_gt_unigramProb_quartile\"                \n",
       "[164] \"initial_WSJ_gt_trigramProb\"                         \n",
       "[165] \"initial_WSJ_gt_trigramProb_rank\"                    \n",
       "[166] \"initial_WSJ_gt_trigramProb_quartile\"                \n",
       "[167] \"initial_WSJ_gt_5gramProb\"                           \n",
       "[168] \"initial_WSJ_gt_5gramProb_rank\"                      \n",
       "[169] \"initial_WSJ_gt_5gramProb_quartile\"                  \n",
       "[170] \"thread_id\"                                          \n",
       "[171] \"chain_length\"                                       \n",
       "[172] \"change\"                                             \n",
       "[173] \"one\"                                                "
      ]
     },
     "metadata": {},
     "output_type": "display_data"
    }
   ],
   "source": [
    "names(wdfs)"
   ]
  },
  {
   "cell_type": "code",
   "execution_count": 8,
   "metadata": {},
   "outputs": [],
   "source": [
    "# convert log probabilities to surprisals\n",
    "wdfs$bnc_unigram_prob = -1 * wdfs$bnc_unigram_prob\n",
    "wdfs$bnc_trigram_prob = -1 * wdfs$bnc_trigram_prob\n",
    "wdfs$kenlm_scores_prob = -1 * wdfs$kenlm_scores_prob\n",
    "wdfs$big_lm_scores_prob = -1 * wdfs$big_lm_scores_prob"
   ]
  },
  {
   "cell_type": "code",
   "execution_count": 9,
   "metadata": {},
   "outputs": [
    {
     "data": {
      "text/html": [
       "<table>\n",
       "<caption>A data.frame: 1 × 4</caption>\n",
       "<thead>\n",
       "\t<tr><th></th><th scope=col>bnc_unigram_prob</th><th scope=col>bnc_trigram_prob</th><th scope=col>kenlm_scores_prob</th><th scope=col>big_lm_scores_prob</th></tr>\n",
       "\t<tr><th></th><th scope=col>&lt;dbl&gt;</th><th scope=col>&lt;dbl&gt;</th><th scope=col>&lt;dbl&gt;</th><th scope=col>&lt;dbl&gt;</th></tr>\n",
       "</thead>\n",
       "<tbody>\n",
       "\t<tr><th scope=row>1</th><td>3.310068</td><td>2.994068</td><td>3.516777</td><td>3.202744</td></tr>\n",
       "</tbody>\n",
       "</table>\n"
      ],
      "text/latex": [
       "A data.frame: 1 × 4\n",
       "\\begin{tabular}{r|llll}\n",
       "  & bnc\\_unigram\\_prob & bnc\\_trigram\\_prob & kenlm\\_scores\\_prob & big\\_lm\\_scores\\_prob\\\\\n",
       "  & <dbl> & <dbl> & <dbl> & <dbl>\\\\\n",
       "\\hline\n",
       "\t1 & 3.310068 & 2.994068 & 3.516777 & 3.202744\\\\\n",
       "\\end{tabular}\n"
      ],
      "text/markdown": [
       "\n",
       "A data.frame: 1 × 4\n",
       "\n",
       "| <!--/--> | bnc_unigram_prob &lt;dbl&gt; | bnc_trigram_prob &lt;dbl&gt; | kenlm_scores_prob &lt;dbl&gt; | big_lm_scores_prob &lt;dbl&gt; |\n",
       "|---|---|---|---|---|\n",
       "| 1 | 3.310068 | 2.994068 | 3.516777 | 3.202744 |\n",
       "\n"
      ],
      "text/plain": [
       "  bnc_unigram_prob bnc_trigram_prob kenlm_scores_prob big_lm_scores_prob\n",
       "1 3.310068         2.994068         3.516777          3.202744          "
      ]
     },
     "metadata": {},
     "output_type": "display_data"
    }
   ],
   "source": [
    "wdfs[1,c('bnc_unigram_prob','bnc_trigram_prob','kenlm_scores_prob','big_lm_scores_prob')]"
   ]
  },
  {
   "cell_type": "code",
   "execution_count": 10,
   "metadata": {},
   "outputs": [
    {
     "data": {
      "text/html": [
       "<style>\n",
       ".list-inline {list-style: none; margin:0; padding: 0}\n",
       ".list-inline>li {display: inline-block}\n",
       ".list-inline>li:not(:last-child)::after {content: \"\\00b7\"; padding: 0 .5ex}\n",
       "</style>\n",
       "<ol class=list-inline><li>27290</li><li>171</li></ol>\n"
      ],
      "text/latex": [
       "\\begin{enumerate*}\n",
       "\\item 27290\n",
       "\\item 171\n",
       "\\end{enumerate*}\n"
      ],
      "text/markdown": [
       "1. 27290\n",
       "2. 171\n",
       "\n",
       "\n"
      ],
      "text/plain": [
       "[1] 27290   171"
      ]
     },
     "metadata": {},
     "output_type": "display_data"
    }
   ],
   "source": [
    "dim(wdfs)"
   ]
  },
  {
   "cell_type": "markdown",
   "metadata": {},
   "source": [
    "[ ] part of speech  \n",
    "[X] number of syllables: kpm_nsyll  \n",
    "[X] word length: kpm_nphon  \n",
    "[X] aoa_rating: kpm_aoa_kup  \n",
    "[X] concreteness: conc_conc_m  \n",
    "[X] phonological neighborhood density: pld20  \n",
    "[X] contextual diversity: Need Subtlexus: SUBTLCD  \n",
    "\n",
    "random effects structure\n",
    "https://www4.stat.ncsu.edu/~reich/ABA/code/DICmixed"
   ]
  },
  {
   "cell_type": "code",
   "execution_count": 11,
   "metadata": {},
   "outputs": [
    {
     "data": {
      "text/html": [
       "<table>\n",
       "<caption>A data.frame: 27290 × 171</caption>\n",
       "<thead>\n",
       "\t<tr><th scope=col>X</th><th scope=col>bnc_unigram_index</th><th scope=col>bnc_unigram_prob</th><th scope=col>bnc_unigram_word</th><th scope=col>bnc_trigram_index</th><th scope=col>bnc_trigram_prob</th><th scope=col>bnc_trigram_word</th><th scope=col>roark_scores_prefix</th><th scope=col>roark_scores_word</th><th scope=col>roark_scores_prefix.1</th><th scope=col>⋯</th><th scope=col>initial_WSJ_gt_trigramProb</th><th scope=col>initial_WSJ_gt_trigramProb_rank</th><th scope=col>initial_WSJ_gt_trigramProb_quartile</th><th scope=col>initial_WSJ_gt_5gramProb</th><th scope=col>initial_WSJ_gt_5gramProb_rank</th><th scope=col>initial_WSJ_gt_5gramProb_quartile</th><th scope=col>thread_id</th><th scope=col>chain_length</th><th scope=col>change</th><th scope=col>one</th></tr>\n",
       "\t<tr><th scope=col>&lt;int&gt;</th><th scope=col>&lt;dbl&gt;</th><th scope=col>&lt;dbl&gt;</th><th scope=col>&lt;chr&gt;</th><th scope=col>&lt;dbl&gt;</th><th scope=col>&lt;dbl&gt;</th><th scope=col>&lt;chr&gt;</th><th scope=col>&lt;chr&gt;</th><th scope=col>&lt;chr&gt;</th><th scope=col>&lt;dbl&gt;</th><th scope=col>⋯</th><th scope=col>&lt;dbl&gt;</th><th scope=col>&lt;int&gt;</th><th scope=col>&lt;dbl&gt;</th><th scope=col>&lt;dbl&gt;</th><th scope=col>&lt;int&gt;</th><th scope=col>&lt;dbl&gt;</th><th scope=col>&lt;chr&gt;</th><th scope=col>&lt;int&gt;</th><th scope=col>&lt;dbl&gt;</th><th scope=col>&lt;dbl&gt;</th></tr>\n",
       "</thead>\n",
       "<tbody>\n",
       "\t<tr><td> 0</td><td> 0</td><td>3.310068</td><td>each      </td><td> 0</td><td>2.994068</td><td>each      </td><td>pfix:1 </td><td>each      </td><td> 6.566</td><td>⋯</td><td>-25.89379</td><td>17</td><td>1</td><td>-25.89379</td><td>17</td><td>1</td><td>0_0</td><td>24</td><td>0</td><td>1</td></tr>\n",
       "\t<tr><td> 1</td><td> 1</td><td>7.309903</td><td>nonfiction</td><td> 1</td><td>8.412464</td><td>nonfiction</td><td>pfix:2 </td><td>nonfiction</td><td>18.290</td><td>⋯</td><td>-25.89379</td><td>17</td><td>1</td><td>-25.89379</td><td>17</td><td>1</td><td>0_0</td><td>24</td><td>1</td><td>1</td></tr>\n",
       "\t<tr><td> 2</td><td> 2</td><td>3.631093</td><td>book      </td><td> 2</td><td>3.756868</td><td>book      </td><td>pfix:3 </td><td>book      </td><td>28.519</td><td>⋯</td><td>-25.89379</td><td>17</td><td>1</td><td>-25.89379</td><td>17</td><td>1</td><td>0_0</td><td>24</td><td>0</td><td>1</td></tr>\n",
       "\t<tr><td> 3</td><td> 3</td><td>2.600407</td><td>has       </td><td> 3</td><td>2.253614</td><td>has       </td><td>pfix:4 </td><td>has       </td><td>32.402</td><td>⋯</td><td>-25.89379</td><td>17</td><td>1</td><td>-25.89379</td><td>17</td><td>1</td><td>0_0</td><td>24</td><td>0</td><td>1</td></tr>\n",
       "\t<tr><td> 4</td><td> 4</td><td>1.681165</td><td>a         </td><td> 4</td><td>1.317157</td><td>a         </td><td>pfix:5 </td><td>a         </td><td>35.256</td><td>⋯</td><td>-25.89379</td><td>17</td><td>1</td><td>-25.89379</td><td>17</td><td>1</td><td>0_0</td><td>24</td><td>0</td><td>1</td></tr>\n",
       "\t<tr><td> 5</td><td> 5</td><td>3.737589</td><td>call      </td><td> 5</td><td>3.763689</td><td>call      </td><td>pfix:6 </td><td>call      </td><td>44.218</td><td>⋯</td><td>-25.89379</td><td>17</td><td>1</td><td>-25.89379</td><td>17</td><td>1</td><td>0_0</td><td>24</td><td>0</td><td>1</td></tr>\n",
       "\t<tr><td> 6</td><td> 6</td><td>3.321531</td><td>number    </td><td> 6</td><td>3.708286</td><td>number    </td><td>pfix:7 </td><td>number    </td><td>53.366</td><td>⋯</td><td>-25.89379</td><td>17</td><td>1</td><td>-25.89379</td><td>17</td><td>1</td><td>0_0</td><td>24</td><td>0</td><td>1</td></tr>\n",
       "\t<tr><td> 7</td><td> 7</td><td>2.162270</td><td>on        </td><td> 7</td><td>2.029635</td><td>on        </td><td>pfix:8 </td><td>on        </td><td>58.319</td><td>⋯</td><td>-25.89379</td><td>17</td><td>1</td><td>-25.89379</td><td>17</td><td>1</td><td>0_0</td><td>24</td><td>1</td><td>1</td></tr>\n",
       "\t<tr><td> 8</td><td> 8</td><td>2.804867</td><td>its       </td><td> 8</td><td>2.394903</td><td>its       </td><td>pfix:9 </td><td>its       </td><td>62.220</td><td>⋯</td><td>-25.89379</td><td>17</td><td>1</td><td>-25.89379</td><td>17</td><td>1</td><td>0_0</td><td>24</td><td>0</td><td>1</td></tr>\n",
       "\t<tr><td> 9</td><td> 9</td><td>5.034822</td><td>spine     </td><td> 9</td><td>4.401074</td><td>spine     </td><td>pfix:10</td><td>spine     </td><td>77.301</td><td>⋯</td><td>-25.89379</td><td>17</td><td>1</td><td>-25.89379</td><td>17</td><td>1</td><td>0_0</td><td>24</td><td>0</td><td>1</td></tr>\n",
       "\t<tr><td>10</td><td> 0</td><td>3.310068</td><td>each      </td><td> 0</td><td>2.994068</td><td>each      </td><td>pfix:1 </td><td>each      </td><td> 6.566</td><td>⋯</td><td>-25.89379</td><td>17</td><td>1</td><td>-25.89379</td><td>17</td><td>1</td><td>0_0</td><td>24</td><td>0</td><td>1</td></tr>\n",
       "\t<tr><td>11</td><td> 1</td><td>5.084593</td><td>non       </td><td> 1</td><td>5.391007</td><td>non       </td><td>pfix:2 </td><td>non       </td><td>11.537</td><td>⋯</td><td>-25.89379</td><td>17</td><td>1</td><td>-25.89379</td><td>17</td><td>1</td><td>0_0</td><td>24</td><td>1</td><td>1</td></tr>\n",
       "\t<tr><td>12</td><td> 2</td><td>4.733100</td><td>fiction   </td><td> 2</td><td>2.624665</td><td>fiction   </td><td>pfix:3 </td><td>fiction   </td><td>25.162</td><td>⋯</td><td>-25.89379</td><td>17</td><td>1</td><td>-25.89379</td><td>17</td><td>1</td><td>0_0</td><td>24</td><td>1</td><td>1</td></tr>\n",
       "\t<tr><td>13</td><td> 3</td><td>3.631093</td><td>book      </td><td> 3</td><td>4.116251</td><td>book      </td><td>pfix:4 </td><td>book      </td><td>35.430</td><td>⋯</td><td>-25.89379</td><td>17</td><td>1</td><td>-25.89379</td><td>17</td><td>1</td><td>0_0</td><td>24</td><td>0</td><td>1</td></tr>\n",
       "\t<tr><td>14</td><td> 4</td><td>2.600407</td><td>has       </td><td> 4</td><td>2.253614</td><td>has       </td><td>pfix:5 </td><td>has       </td><td>39.382</td><td>⋯</td><td>-25.89379</td><td>17</td><td>1</td><td>-25.89379</td><td>17</td><td>1</td><td>0_0</td><td>24</td><td>1</td><td>1</td></tr>\n",
       "\t<tr><td>15</td><td> 5</td><td>1.681165</td><td>a         </td><td> 5</td><td>1.317157</td><td>a         </td><td>pfix:6 </td><td>a         </td><td>42.241</td><td>⋯</td><td>-25.89379</td><td>17</td><td>1</td><td>-25.89379</td><td>17</td><td>1</td><td>0_0</td><td>24</td><td>0</td><td>1</td></tr>\n",
       "\t<tr><td>16</td><td> 6</td><td>3.737589</td><td>call      </td><td> 6</td><td>3.763689</td><td>call      </td><td>pfix:7 </td><td>call      </td><td>51.204</td><td>⋯</td><td>-25.89379</td><td>17</td><td>1</td><td>-25.89379</td><td>17</td><td>1</td><td>0_0</td><td>24</td><td>0</td><td>1</td></tr>\n",
       "\t<tr><td>17</td><td> 7</td><td>3.321531</td><td>number    </td><td> 7</td><td>3.708286</td><td>number    </td><td>pfix:8 </td><td>number    </td><td>60.358</td><td>⋯</td><td>-25.89379</td><td>17</td><td>1</td><td>-25.89379</td><td>17</td><td>1</td><td>0_0</td><td>24</td><td>0</td><td>1</td></tr>\n",
       "\t<tr><td>18</td><td> 8</td><td>1.746052</td><td>in        </td><td> 8</td><td>1.743438</td><td>in        </td><td>pfix:9 </td><td>in        </td><td>64.184</td><td>⋯</td><td>-25.89379</td><td>17</td><td>1</td><td>-25.89379</td><td>17</td><td>1</td><td>0_0</td><td>24</td><td>1</td><td>1</td></tr>\n",
       "\t<tr><td>19</td><td> 9</td><td>2.804867</td><td>its       </td><td> 9</td><td>2.384786</td><td>its       </td><td>pfix:10</td><td>its       </td><td>68.122</td><td>⋯</td><td>-25.89379</td><td>17</td><td>1</td><td>-25.89379</td><td>17</td><td>1</td><td>0_0</td><td>24</td><td>0</td><td>1</td></tr>\n",
       "\t<tr><td>20</td><td>10</td><td>5.034822</td><td>spine     </td><td>10</td><td>4.449113</td><td>spine     </td><td>pfix:11</td><td>spine     </td><td>83.209</td><td>⋯</td><td>-25.89379</td><td>17</td><td>1</td><td>-25.89379</td><td>17</td><td>1</td><td>0_0</td><td>24</td><td>0</td><td>1</td></tr>\n",
       "\t<tr><td>21</td><td> 0</td><td>3.310068</td><td>each      </td><td> 0</td><td>2.994068</td><td>each      </td><td>pfix:1 </td><td>each      </td><td> 6.566</td><td>⋯</td><td>-25.89379</td><td>17</td><td>1</td><td>-25.89379</td><td>17</td><td>1</td><td>0_0</td><td>24</td><td>0</td><td>1</td></tr>\n",
       "\t<tr><td>22</td><td> 1</td><td>7.309903</td><td>nonfiction</td><td> 1</td><td>8.412464</td><td>nonfiction</td><td>pfix:2 </td><td>nonfiction</td><td>18.290</td><td>⋯</td><td>-25.89379</td><td>17</td><td>1</td><td>-25.89379</td><td>17</td><td>1</td><td>0_0</td><td>24</td><td>0</td><td>1</td></tr>\n",
       "\t<tr><td>23</td><td> 2</td><td>3.631093</td><td>book      </td><td> 2</td><td>3.756868</td><td>book      </td><td>pfix:3 </td><td>book      </td><td>28.519</td><td>⋯</td><td>-25.89379</td><td>17</td><td>1</td><td>-25.89379</td><td>17</td><td>1</td><td>0_0</td><td>24</td><td>0</td><td>1</td></tr>\n",
       "\t<tr><td>24</td><td> 3</td><td>2.385910</td><td>had       </td><td> 3</td><td>2.403288</td><td>had       </td><td>pfix:4 </td><td>had       </td><td>33.164</td><td>⋯</td><td>-25.89379</td><td>17</td><td>1</td><td>-25.89379</td><td>17</td><td>1</td><td>0_0</td><td>24</td><td>0</td><td>1</td></tr>\n",
       "\t<tr><td>25</td><td> 4</td><td>1.681165</td><td>a         </td><td> 4</td><td>1.120770</td><td>a         </td><td>pfix:5 </td><td>a         </td><td>35.687</td><td>⋯</td><td>-25.89379</td><td>17</td><td>1</td><td>-25.89379</td><td>17</td><td>1</td><td>0_0</td><td>24</td><td>0</td><td>1</td></tr>\n",
       "\t<tr><td>26</td><td> 5</td><td>3.737589</td><td>call      </td><td> 5</td><td>3.065879</td><td>call      </td><td>pfix:6 </td><td>call      </td><td>44.740</td><td>⋯</td><td>-25.89379</td><td>17</td><td>1</td><td>-25.89379</td><td>17</td><td>1</td><td>0_0</td><td>24</td><td>0</td><td>1</td></tr>\n",
       "\t<tr><td>27</td><td> 6</td><td>3.321531</td><td>number    </td><td> 6</td><td>4.019646</td><td>number    </td><td>pfix:7 </td><td>number    </td><td>53.892</td><td>⋯</td><td>-25.89379</td><td>17</td><td>1</td><td>-25.89379</td><td>17</td><td>1</td><td>0_0</td><td>24</td><td>0</td><td>1</td></tr>\n",
       "\t<tr><td>28</td><td> 7</td><td>2.162270</td><td>on        </td><td> 7</td><td>2.029635</td><td>on        </td><td>pfix:8 </td><td>on        </td><td>57.955</td><td>⋯</td><td>-25.89379</td><td>17</td><td>1</td><td>-25.89379</td><td>17</td><td>1</td><td>0_0</td><td>24</td><td>0</td><td>1</td></tr>\n",
       "\t<tr><td>29</td><td> 8</td><td>2.804867</td><td>its       </td><td> 8</td><td>2.394903</td><td>its       </td><td>pfix:9 </td><td>its       </td><td>61.710</td><td>⋯</td><td>-25.89379</td><td>17</td><td>1</td><td>-25.89379</td><td>17</td><td>1</td><td>0_0</td><td>24</td><td>0</td><td>1</td></tr>\n",
       "\t<tr><td>⋮</td><td>⋮</td><td>⋮</td><td>⋮</td><td>⋮</td><td>⋮</td><td>⋮</td><td>⋮</td><td>⋮</td><td>⋮</td><td>⋱</td><td>⋮</td><td>⋮</td><td>⋮</td><td>⋮</td><td>⋮</td><td>⋮</td><td>⋮</td><td>⋮</td><td>⋮</td><td>⋮</td></tr>\n",
       "\t<tr><td>27260</td><td>6</td><td>3.701698</td><td>turn      </td><td>6</td><td>3.7375216</td><td>turn      </td><td>pfix:7</td><td>turn      </td><td>53.714</td><td>⋯</td><td>-20.88394</td><td>32</td><td>3</td><td>-20.79494</td><td>33</td><td>3</td><td>5_39</td><td>23</td><td>0</td><td>1</td></tr>\n",
       "\t<tr><td>27261</td><td>7</td><td>3.763360</td><td>everything</td><td>7</td><td>3.4552851</td><td>everything</td><td>pfix:8</td><td>everything</td><td>61.310</td><td>⋯</td><td>-20.88394</td><td>32</td><td>3</td><td>-20.79494</td><td>33</td><td>3</td><td>5_39</td><td>23</td><td>0</td><td>1</td></tr>\n",
       "\t<tr><td>27262</td><td>8</td><td>3.181633</td><td>off       </td><td>8</td><td>1.0538660</td><td>off       </td><td>pfix:9</td><td>off       </td><td>69.302</td><td>⋯</td><td>-20.88394</td><td>32</td><td>3</td><td>-20.79494</td><td>33</td><td>3</td><td>5_39</td><td>23</td><td>0</td><td>1</td></tr>\n",
       "\t<tr><td>27263</td><td>0</td><td>3.081292</td><td>before    </td><td>0</td><td>3.0377309</td><td>before    </td><td>pfix:1</td><td>before    </td><td> 6.993</td><td>⋯</td><td>-20.88394</td><td>32</td><td>3</td><td>-20.79494</td><td>33</td><td>3</td><td>5_39</td><td>23</td><td>0</td><td>1</td></tr>\n",
       "\t<tr><td>27264</td><td>1</td><td>2.186153</td><td>you       </td><td>1</td><td>1.1859210</td><td>you       </td><td>pfix:2</td><td>you       </td><td>13.198</td><td>⋯</td><td>-20.88394</td><td>32</td><td>3</td><td>-20.79494</td><td>33</td><td>3</td><td>5_39</td><td>23</td><td>0</td><td>1</td></tr>\n",
       "\t<tr><td>27265</td><td>2</td><td>3.713525</td><td>leave     </td><td>2</td><td>1.5071959</td><td>leave     </td><td>pfix:3</td><td>leave     </td><td>20.940</td><td>⋯</td><td>-20.88394</td><td>32</td><td>3</td><td>-20.79494</td><td>33</td><td>3</td><td>5_39</td><td>23</td><td>0</td><td>1</td></tr>\n",
       "\t<tr><td>27266</td><td>3</td><td>3.121925</td><td>make      </td><td>3</td><td>4.3368449</td><td>make      </td><td>pfix:4</td><td>make      </td><td>30.850</td><td>⋯</td><td>-20.88394</td><td>32</td><td>3</td><td>-20.79494</td><td>33</td><td>3</td><td>5_39</td><td>23</td><td>0</td><td>1</td></tr>\n",
       "\t<tr><td>27267</td><td>4</td><td>3.643197</td><td>sure      </td><td>4</td><td>1.5498590</td><td>sure      </td><td>pfix:5</td><td>sure      </td><td>36.383</td><td>⋯</td><td>-20.88394</td><td>32</td><td>3</td><td>-20.79494</td><td>33</td><td>3</td><td>5_39</td><td>23</td><td>0</td><td>1</td></tr>\n",
       "\t<tr><td>27268</td><td>5</td><td>2.186153</td><td>you       </td><td>5</td><td>0.7521181</td><td>you       </td><td>pfix:6</td><td>you       </td><td>43.568</td><td>⋯</td><td>-20.88394</td><td>32</td><td>3</td><td>-20.79494</td><td>33</td><td>3</td><td>5_39</td><td>23</td><td>0</td><td>1</td></tr>\n",
       "\t<tr><td>27269</td><td>6</td><td>3.701698</td><td>turn      </td><td>6</td><td>3.7375216</td><td>turn      </td><td>pfix:7</td><td>turn      </td><td>53.714</td><td>⋯</td><td>-20.88394</td><td>32</td><td>3</td><td>-20.79494</td><td>33</td><td>3</td><td>5_39</td><td>23</td><td>0</td><td>1</td></tr>\n",
       "\t<tr><td>27270</td><td>7</td><td>3.763360</td><td>everything</td><td>7</td><td>3.4552851</td><td>everything</td><td>pfix:8</td><td>everything</td><td>61.310</td><td>⋯</td><td>-20.88394</td><td>32</td><td>3</td><td>-20.79494</td><td>33</td><td>3</td><td>5_39</td><td>23</td><td>0</td><td>1</td></tr>\n",
       "\t<tr><td>27271</td><td>8</td><td>3.181633</td><td>off       </td><td>8</td><td>1.0538660</td><td>off       </td><td>pfix:9</td><td>off       </td><td>69.302</td><td>⋯</td><td>-20.88394</td><td>32</td><td>3</td><td>-20.79494</td><td>33</td><td>3</td><td>5_39</td><td>23</td><td>0</td><td>1</td></tr>\n",
       "\t<tr><td>27272</td><td>0</td><td>3.081292</td><td>before    </td><td>0</td><td>3.0377309</td><td>before    </td><td>pfix:1</td><td>before    </td><td> 6.993</td><td>⋯</td><td>-20.88394</td><td>32</td><td>3</td><td>-20.79494</td><td>33</td><td>3</td><td>5_39</td><td>23</td><td>0</td><td>1</td></tr>\n",
       "\t<tr><td>27273</td><td>1</td><td>2.186153</td><td>you       </td><td>1</td><td>1.1859210</td><td>you       </td><td>pfix:2</td><td>you       </td><td>13.198</td><td>⋯</td><td>-20.88394</td><td>32</td><td>3</td><td>-20.79494</td><td>33</td><td>3</td><td>5_39</td><td>23</td><td>0</td><td>1</td></tr>\n",
       "\t<tr><td>27274</td><td>2</td><td>3.713525</td><td>leave     </td><td>2</td><td>1.5071959</td><td>leave     </td><td>pfix:3</td><td>leave     </td><td>20.940</td><td>⋯</td><td>-20.88394</td><td>32</td><td>3</td><td>-20.79494</td><td>33</td><td>3</td><td>5_39</td><td>23</td><td>0</td><td>1</td></tr>\n",
       "\t<tr><td>27275</td><td>3</td><td>3.121925</td><td>make      </td><td>3</td><td>4.3368449</td><td>make      </td><td>pfix:4</td><td>make      </td><td>30.850</td><td>⋯</td><td>-20.88394</td><td>32</td><td>3</td><td>-20.79494</td><td>33</td><td>3</td><td>5_39</td><td>23</td><td>0</td><td>1</td></tr>\n",
       "\t<tr><td>27276</td><td>4</td><td>3.643197</td><td>sure      </td><td>4</td><td>1.5498590</td><td>sure      </td><td>pfix:5</td><td>sure      </td><td>36.383</td><td>⋯</td><td>-20.88394</td><td>32</td><td>3</td><td>-20.79494</td><td>33</td><td>3</td><td>5_39</td><td>23</td><td>0</td><td>1</td></tr>\n",
       "\t<tr><td>27277</td><td>5</td><td>2.186153</td><td>you       </td><td>5</td><td>0.7521181</td><td>you       </td><td>pfix:6</td><td>you       </td><td>43.568</td><td>⋯</td><td>-20.88394</td><td>32</td><td>3</td><td>-20.79494</td><td>33</td><td>3</td><td>5_39</td><td>23</td><td>0</td><td>1</td></tr>\n",
       "\t<tr><td>27278</td><td>6</td><td>3.701698</td><td>turn      </td><td>6</td><td>3.7375216</td><td>turn      </td><td>pfix:7</td><td>turn      </td><td>53.714</td><td>⋯</td><td>-20.88394</td><td>32</td><td>3</td><td>-20.79494</td><td>33</td><td>3</td><td>5_39</td><td>23</td><td>0</td><td>1</td></tr>\n",
       "\t<tr><td>27279</td><td>7</td><td>3.763360</td><td>everything</td><td>7</td><td>3.4552851</td><td>everything</td><td>pfix:8</td><td>everything</td><td>61.310</td><td>⋯</td><td>-20.88394</td><td>32</td><td>3</td><td>-20.79494</td><td>33</td><td>3</td><td>5_39</td><td>23</td><td>0</td><td>1</td></tr>\n",
       "\t<tr><td>27280</td><td>8</td><td>3.181633</td><td>off       </td><td>8</td><td>1.0538660</td><td>off       </td><td>pfix:9</td><td>off       </td><td>69.302</td><td>⋯</td><td>-20.88394</td><td>32</td><td>3</td><td>-20.79494</td><td>33</td><td>3</td><td>5_39</td><td>23</td><td>0</td><td>1</td></tr>\n",
       "\t<tr><td>27281</td><td>0</td><td>3.081292</td><td>before    </td><td>0</td><td>3.0377309</td><td>before    </td><td>pfix:1</td><td>before    </td><td> 6.993</td><td>⋯</td><td>-20.88394</td><td>32</td><td>3</td><td>-20.79494</td><td>33</td><td>3</td><td>5_39</td><td>23</td><td>0</td><td>1</td></tr>\n",
       "\t<tr><td>27282</td><td>1</td><td>2.186153</td><td>you       </td><td>1</td><td>1.1859210</td><td>you       </td><td>pfix:2</td><td>you       </td><td>13.198</td><td>⋯</td><td>-20.88394</td><td>32</td><td>3</td><td>-20.79494</td><td>33</td><td>3</td><td>5_39</td><td>23</td><td>0</td><td>1</td></tr>\n",
       "\t<tr><td>27283</td><td>2</td><td>3.713525</td><td>leave     </td><td>2</td><td>1.5071959</td><td>leave     </td><td>pfix:3</td><td>leave     </td><td>20.940</td><td>⋯</td><td>-20.88394</td><td>32</td><td>3</td><td>-20.79494</td><td>33</td><td>3</td><td>5_39</td><td>23</td><td>0</td><td>1</td></tr>\n",
       "\t<tr><td>27284</td><td>3</td><td>3.121925</td><td>make      </td><td>3</td><td>4.3368449</td><td>make      </td><td>pfix:4</td><td>make      </td><td>30.850</td><td>⋯</td><td>-20.88394</td><td>32</td><td>3</td><td>-20.79494</td><td>33</td><td>3</td><td>5_39</td><td>23</td><td>0</td><td>1</td></tr>\n",
       "\t<tr><td>27285</td><td>4</td><td>3.643197</td><td>sure      </td><td>4</td><td>1.5498590</td><td>sure      </td><td>pfix:5</td><td>sure      </td><td>36.383</td><td>⋯</td><td>-20.88394</td><td>32</td><td>3</td><td>-20.79494</td><td>33</td><td>3</td><td>5_39</td><td>23</td><td>0</td><td>1</td></tr>\n",
       "\t<tr><td>27286</td><td>5</td><td>2.186153</td><td>you       </td><td>5</td><td>0.7521181</td><td>you       </td><td>pfix:6</td><td>you       </td><td>43.568</td><td>⋯</td><td>-20.88394</td><td>32</td><td>3</td><td>-20.79494</td><td>33</td><td>3</td><td>5_39</td><td>23</td><td>0</td><td>1</td></tr>\n",
       "\t<tr><td>27287</td><td>6</td><td>3.701698</td><td>turn      </td><td>6</td><td>3.7375216</td><td>turn      </td><td>pfix:7</td><td>turn      </td><td>53.714</td><td>⋯</td><td>-20.88394</td><td>32</td><td>3</td><td>-20.79494</td><td>33</td><td>3</td><td>5_39</td><td>23</td><td>1</td><td>1</td></tr>\n",
       "\t<tr><td>27288</td><td>7</td><td>3.763360</td><td>everything</td><td>7</td><td>3.4552851</td><td>everything</td><td>pfix:8</td><td>everything</td><td>61.310</td><td>⋯</td><td>-20.88394</td><td>32</td><td>3</td><td>-20.79494</td><td>33</td><td>3</td><td>5_39</td><td>23</td><td>0</td><td>1</td></tr>\n",
       "\t<tr><td>27289</td><td>8</td><td>3.181633</td><td>off       </td><td>8</td><td>1.0538660</td><td>off       </td><td>pfix:9</td><td>off       </td><td>69.302</td><td>⋯</td><td>-20.88394</td><td>32</td><td>3</td><td>-20.79494</td><td>33</td><td>3</td><td>5_39</td><td>23</td><td>1</td><td>1</td></tr>\n",
       "</tbody>\n",
       "</table>\n"
      ],
      "text/latex": [
       "A data.frame: 27290 × 171\n",
       "\\begin{tabular}{lllllllllllllllllllll}\n",
       " X & bnc\\_unigram\\_index & bnc\\_unigram\\_prob & bnc\\_unigram\\_word & bnc\\_trigram\\_index & bnc\\_trigram\\_prob & bnc\\_trigram\\_word & roark\\_scores\\_prefix & roark\\_scores\\_word & roark\\_scores\\_prefix.1 & ⋯ & initial\\_WSJ\\_gt\\_trigramProb & initial\\_WSJ\\_gt\\_trigramProb\\_rank & initial\\_WSJ\\_gt\\_trigramProb\\_quartile & initial\\_WSJ\\_gt\\_5gramProb & initial\\_WSJ\\_gt\\_5gramProb\\_rank & initial\\_WSJ\\_gt\\_5gramProb\\_quartile & thread\\_id & chain\\_length & change & one\\\\\n",
       " <int> & <dbl> & <dbl> & <chr> & <dbl> & <dbl> & <chr> & <chr> & <chr> & <dbl> & ⋯ & <dbl> & <int> & <dbl> & <dbl> & <int> & <dbl> & <chr> & <int> & <dbl> & <dbl>\\\\\n",
       "\\hline\n",
       "\t  0 &  0 & 3.310068 & each       &  0 & 2.994068 & each       & pfix:1  & each       &  6.566 & ⋯ & -25.89379 & 17 & 1 & -25.89379 & 17 & 1 & 0\\_0 & 24 & 0 & 1\\\\\n",
       "\t  1 &  1 & 7.309903 & nonfiction &  1 & 8.412464 & nonfiction & pfix:2  & nonfiction & 18.290 & ⋯ & -25.89379 & 17 & 1 & -25.89379 & 17 & 1 & 0\\_0 & 24 & 1 & 1\\\\\n",
       "\t  2 &  2 & 3.631093 & book       &  2 & 3.756868 & book       & pfix:3  & book       & 28.519 & ⋯ & -25.89379 & 17 & 1 & -25.89379 & 17 & 1 & 0\\_0 & 24 & 0 & 1\\\\\n",
       "\t  3 &  3 & 2.600407 & has        &  3 & 2.253614 & has        & pfix:4  & has        & 32.402 & ⋯ & -25.89379 & 17 & 1 & -25.89379 & 17 & 1 & 0\\_0 & 24 & 0 & 1\\\\\n",
       "\t  4 &  4 & 1.681165 & a          &  4 & 1.317157 & a          & pfix:5  & a          & 35.256 & ⋯ & -25.89379 & 17 & 1 & -25.89379 & 17 & 1 & 0\\_0 & 24 & 0 & 1\\\\\n",
       "\t  5 &  5 & 3.737589 & call       &  5 & 3.763689 & call       & pfix:6  & call       & 44.218 & ⋯ & -25.89379 & 17 & 1 & -25.89379 & 17 & 1 & 0\\_0 & 24 & 0 & 1\\\\\n",
       "\t  6 &  6 & 3.321531 & number     &  6 & 3.708286 & number     & pfix:7  & number     & 53.366 & ⋯ & -25.89379 & 17 & 1 & -25.89379 & 17 & 1 & 0\\_0 & 24 & 0 & 1\\\\\n",
       "\t  7 &  7 & 2.162270 & on         &  7 & 2.029635 & on         & pfix:8  & on         & 58.319 & ⋯ & -25.89379 & 17 & 1 & -25.89379 & 17 & 1 & 0\\_0 & 24 & 1 & 1\\\\\n",
       "\t  8 &  8 & 2.804867 & its        &  8 & 2.394903 & its        & pfix:9  & its        & 62.220 & ⋯ & -25.89379 & 17 & 1 & -25.89379 & 17 & 1 & 0\\_0 & 24 & 0 & 1\\\\\n",
       "\t  9 &  9 & 5.034822 & spine      &  9 & 4.401074 & spine      & pfix:10 & spine      & 77.301 & ⋯ & -25.89379 & 17 & 1 & -25.89379 & 17 & 1 & 0\\_0 & 24 & 0 & 1\\\\\n",
       "\t 10 &  0 & 3.310068 & each       &  0 & 2.994068 & each       & pfix:1  & each       &  6.566 & ⋯ & -25.89379 & 17 & 1 & -25.89379 & 17 & 1 & 0\\_0 & 24 & 0 & 1\\\\\n",
       "\t 11 &  1 & 5.084593 & non        &  1 & 5.391007 & non        & pfix:2  & non        & 11.537 & ⋯ & -25.89379 & 17 & 1 & -25.89379 & 17 & 1 & 0\\_0 & 24 & 1 & 1\\\\\n",
       "\t 12 &  2 & 4.733100 & fiction    &  2 & 2.624665 & fiction    & pfix:3  & fiction    & 25.162 & ⋯ & -25.89379 & 17 & 1 & -25.89379 & 17 & 1 & 0\\_0 & 24 & 1 & 1\\\\\n",
       "\t 13 &  3 & 3.631093 & book       &  3 & 4.116251 & book       & pfix:4  & book       & 35.430 & ⋯ & -25.89379 & 17 & 1 & -25.89379 & 17 & 1 & 0\\_0 & 24 & 0 & 1\\\\\n",
       "\t 14 &  4 & 2.600407 & has        &  4 & 2.253614 & has        & pfix:5  & has        & 39.382 & ⋯ & -25.89379 & 17 & 1 & -25.89379 & 17 & 1 & 0\\_0 & 24 & 1 & 1\\\\\n",
       "\t 15 &  5 & 1.681165 & a          &  5 & 1.317157 & a          & pfix:6  & a          & 42.241 & ⋯ & -25.89379 & 17 & 1 & -25.89379 & 17 & 1 & 0\\_0 & 24 & 0 & 1\\\\\n",
       "\t 16 &  6 & 3.737589 & call       &  6 & 3.763689 & call       & pfix:7  & call       & 51.204 & ⋯ & -25.89379 & 17 & 1 & -25.89379 & 17 & 1 & 0\\_0 & 24 & 0 & 1\\\\\n",
       "\t 17 &  7 & 3.321531 & number     &  7 & 3.708286 & number     & pfix:8  & number     & 60.358 & ⋯ & -25.89379 & 17 & 1 & -25.89379 & 17 & 1 & 0\\_0 & 24 & 0 & 1\\\\\n",
       "\t 18 &  8 & 1.746052 & in         &  8 & 1.743438 & in         & pfix:9  & in         & 64.184 & ⋯ & -25.89379 & 17 & 1 & -25.89379 & 17 & 1 & 0\\_0 & 24 & 1 & 1\\\\\n",
       "\t 19 &  9 & 2.804867 & its        &  9 & 2.384786 & its        & pfix:10 & its        & 68.122 & ⋯ & -25.89379 & 17 & 1 & -25.89379 & 17 & 1 & 0\\_0 & 24 & 0 & 1\\\\\n",
       "\t 20 & 10 & 5.034822 & spine      & 10 & 4.449113 & spine      & pfix:11 & spine      & 83.209 & ⋯ & -25.89379 & 17 & 1 & -25.89379 & 17 & 1 & 0\\_0 & 24 & 0 & 1\\\\\n",
       "\t 21 &  0 & 3.310068 & each       &  0 & 2.994068 & each       & pfix:1  & each       &  6.566 & ⋯ & -25.89379 & 17 & 1 & -25.89379 & 17 & 1 & 0\\_0 & 24 & 0 & 1\\\\\n",
       "\t 22 &  1 & 7.309903 & nonfiction &  1 & 8.412464 & nonfiction & pfix:2  & nonfiction & 18.290 & ⋯ & -25.89379 & 17 & 1 & -25.89379 & 17 & 1 & 0\\_0 & 24 & 0 & 1\\\\\n",
       "\t 23 &  2 & 3.631093 & book       &  2 & 3.756868 & book       & pfix:3  & book       & 28.519 & ⋯ & -25.89379 & 17 & 1 & -25.89379 & 17 & 1 & 0\\_0 & 24 & 0 & 1\\\\\n",
       "\t 24 &  3 & 2.385910 & had        &  3 & 2.403288 & had        & pfix:4  & had        & 33.164 & ⋯ & -25.89379 & 17 & 1 & -25.89379 & 17 & 1 & 0\\_0 & 24 & 0 & 1\\\\\n",
       "\t 25 &  4 & 1.681165 & a          &  4 & 1.120770 & a          & pfix:5  & a          & 35.687 & ⋯ & -25.89379 & 17 & 1 & -25.89379 & 17 & 1 & 0\\_0 & 24 & 0 & 1\\\\\n",
       "\t 26 &  5 & 3.737589 & call       &  5 & 3.065879 & call       & pfix:6  & call       & 44.740 & ⋯ & -25.89379 & 17 & 1 & -25.89379 & 17 & 1 & 0\\_0 & 24 & 0 & 1\\\\\n",
       "\t 27 &  6 & 3.321531 & number     &  6 & 4.019646 & number     & pfix:7  & number     & 53.892 & ⋯ & -25.89379 & 17 & 1 & -25.89379 & 17 & 1 & 0\\_0 & 24 & 0 & 1\\\\\n",
       "\t 28 &  7 & 2.162270 & on         &  7 & 2.029635 & on         & pfix:8  & on         & 57.955 & ⋯ & -25.89379 & 17 & 1 & -25.89379 & 17 & 1 & 0\\_0 & 24 & 0 & 1\\\\\n",
       "\t 29 &  8 & 2.804867 & its        &  8 & 2.394903 & its        & pfix:9  & its        & 61.710 & ⋯ & -25.89379 & 17 & 1 & -25.89379 & 17 & 1 & 0\\_0 & 24 & 0 & 1\\\\\n",
       "\t ⋮ & ⋮ & ⋮ & ⋮ & ⋮ & ⋮ & ⋮ & ⋮ & ⋮ & ⋮ & ⋱ & ⋮ & ⋮ & ⋮ & ⋮ & ⋮ & ⋮ & ⋮ & ⋮ & ⋮ & ⋮\\\\\n",
       "\t 27260 & 6 & 3.701698 & turn       & 6 & 3.7375216 & turn       & pfix:7 & turn       & 53.714 & ⋯ & -20.88394 & 32 & 3 & -20.79494 & 33 & 3 & 5\\_39 & 23 & 0 & 1\\\\\n",
       "\t 27261 & 7 & 3.763360 & everything & 7 & 3.4552851 & everything & pfix:8 & everything & 61.310 & ⋯ & -20.88394 & 32 & 3 & -20.79494 & 33 & 3 & 5\\_39 & 23 & 0 & 1\\\\\n",
       "\t 27262 & 8 & 3.181633 & off        & 8 & 1.0538660 & off        & pfix:9 & off        & 69.302 & ⋯ & -20.88394 & 32 & 3 & -20.79494 & 33 & 3 & 5\\_39 & 23 & 0 & 1\\\\\n",
       "\t 27263 & 0 & 3.081292 & before     & 0 & 3.0377309 & before     & pfix:1 & before     &  6.993 & ⋯ & -20.88394 & 32 & 3 & -20.79494 & 33 & 3 & 5\\_39 & 23 & 0 & 1\\\\\n",
       "\t 27264 & 1 & 2.186153 & you        & 1 & 1.1859210 & you        & pfix:2 & you        & 13.198 & ⋯ & -20.88394 & 32 & 3 & -20.79494 & 33 & 3 & 5\\_39 & 23 & 0 & 1\\\\\n",
       "\t 27265 & 2 & 3.713525 & leave      & 2 & 1.5071959 & leave      & pfix:3 & leave      & 20.940 & ⋯ & -20.88394 & 32 & 3 & -20.79494 & 33 & 3 & 5\\_39 & 23 & 0 & 1\\\\\n",
       "\t 27266 & 3 & 3.121925 & make       & 3 & 4.3368449 & make       & pfix:4 & make       & 30.850 & ⋯ & -20.88394 & 32 & 3 & -20.79494 & 33 & 3 & 5\\_39 & 23 & 0 & 1\\\\\n",
       "\t 27267 & 4 & 3.643197 & sure       & 4 & 1.5498590 & sure       & pfix:5 & sure       & 36.383 & ⋯ & -20.88394 & 32 & 3 & -20.79494 & 33 & 3 & 5\\_39 & 23 & 0 & 1\\\\\n",
       "\t 27268 & 5 & 2.186153 & you        & 5 & 0.7521181 & you        & pfix:6 & you        & 43.568 & ⋯ & -20.88394 & 32 & 3 & -20.79494 & 33 & 3 & 5\\_39 & 23 & 0 & 1\\\\\n",
       "\t 27269 & 6 & 3.701698 & turn       & 6 & 3.7375216 & turn       & pfix:7 & turn       & 53.714 & ⋯ & -20.88394 & 32 & 3 & -20.79494 & 33 & 3 & 5\\_39 & 23 & 0 & 1\\\\\n",
       "\t 27270 & 7 & 3.763360 & everything & 7 & 3.4552851 & everything & pfix:8 & everything & 61.310 & ⋯ & -20.88394 & 32 & 3 & -20.79494 & 33 & 3 & 5\\_39 & 23 & 0 & 1\\\\\n",
       "\t 27271 & 8 & 3.181633 & off        & 8 & 1.0538660 & off        & pfix:9 & off        & 69.302 & ⋯ & -20.88394 & 32 & 3 & -20.79494 & 33 & 3 & 5\\_39 & 23 & 0 & 1\\\\\n",
       "\t 27272 & 0 & 3.081292 & before     & 0 & 3.0377309 & before     & pfix:1 & before     &  6.993 & ⋯ & -20.88394 & 32 & 3 & -20.79494 & 33 & 3 & 5\\_39 & 23 & 0 & 1\\\\\n",
       "\t 27273 & 1 & 2.186153 & you        & 1 & 1.1859210 & you        & pfix:2 & you        & 13.198 & ⋯ & -20.88394 & 32 & 3 & -20.79494 & 33 & 3 & 5\\_39 & 23 & 0 & 1\\\\\n",
       "\t 27274 & 2 & 3.713525 & leave      & 2 & 1.5071959 & leave      & pfix:3 & leave      & 20.940 & ⋯ & -20.88394 & 32 & 3 & -20.79494 & 33 & 3 & 5\\_39 & 23 & 0 & 1\\\\\n",
       "\t 27275 & 3 & 3.121925 & make       & 3 & 4.3368449 & make       & pfix:4 & make       & 30.850 & ⋯ & -20.88394 & 32 & 3 & -20.79494 & 33 & 3 & 5\\_39 & 23 & 0 & 1\\\\\n",
       "\t 27276 & 4 & 3.643197 & sure       & 4 & 1.5498590 & sure       & pfix:5 & sure       & 36.383 & ⋯ & -20.88394 & 32 & 3 & -20.79494 & 33 & 3 & 5\\_39 & 23 & 0 & 1\\\\\n",
       "\t 27277 & 5 & 2.186153 & you        & 5 & 0.7521181 & you        & pfix:6 & you        & 43.568 & ⋯ & -20.88394 & 32 & 3 & -20.79494 & 33 & 3 & 5\\_39 & 23 & 0 & 1\\\\\n",
       "\t 27278 & 6 & 3.701698 & turn       & 6 & 3.7375216 & turn       & pfix:7 & turn       & 53.714 & ⋯ & -20.88394 & 32 & 3 & -20.79494 & 33 & 3 & 5\\_39 & 23 & 0 & 1\\\\\n",
       "\t 27279 & 7 & 3.763360 & everything & 7 & 3.4552851 & everything & pfix:8 & everything & 61.310 & ⋯ & -20.88394 & 32 & 3 & -20.79494 & 33 & 3 & 5\\_39 & 23 & 0 & 1\\\\\n",
       "\t 27280 & 8 & 3.181633 & off        & 8 & 1.0538660 & off        & pfix:9 & off        & 69.302 & ⋯ & -20.88394 & 32 & 3 & -20.79494 & 33 & 3 & 5\\_39 & 23 & 0 & 1\\\\\n",
       "\t 27281 & 0 & 3.081292 & before     & 0 & 3.0377309 & before     & pfix:1 & before     &  6.993 & ⋯ & -20.88394 & 32 & 3 & -20.79494 & 33 & 3 & 5\\_39 & 23 & 0 & 1\\\\\n",
       "\t 27282 & 1 & 2.186153 & you        & 1 & 1.1859210 & you        & pfix:2 & you        & 13.198 & ⋯ & -20.88394 & 32 & 3 & -20.79494 & 33 & 3 & 5\\_39 & 23 & 0 & 1\\\\\n",
       "\t 27283 & 2 & 3.713525 & leave      & 2 & 1.5071959 & leave      & pfix:3 & leave      & 20.940 & ⋯ & -20.88394 & 32 & 3 & -20.79494 & 33 & 3 & 5\\_39 & 23 & 0 & 1\\\\\n",
       "\t 27284 & 3 & 3.121925 & make       & 3 & 4.3368449 & make       & pfix:4 & make       & 30.850 & ⋯ & -20.88394 & 32 & 3 & -20.79494 & 33 & 3 & 5\\_39 & 23 & 0 & 1\\\\\n",
       "\t 27285 & 4 & 3.643197 & sure       & 4 & 1.5498590 & sure       & pfix:5 & sure       & 36.383 & ⋯ & -20.88394 & 32 & 3 & -20.79494 & 33 & 3 & 5\\_39 & 23 & 0 & 1\\\\\n",
       "\t 27286 & 5 & 2.186153 & you        & 5 & 0.7521181 & you        & pfix:6 & you        & 43.568 & ⋯ & -20.88394 & 32 & 3 & -20.79494 & 33 & 3 & 5\\_39 & 23 & 0 & 1\\\\\n",
       "\t 27287 & 6 & 3.701698 & turn       & 6 & 3.7375216 & turn       & pfix:7 & turn       & 53.714 & ⋯ & -20.88394 & 32 & 3 & -20.79494 & 33 & 3 & 5\\_39 & 23 & 1 & 1\\\\\n",
       "\t 27288 & 7 & 3.763360 & everything & 7 & 3.4552851 & everything & pfix:8 & everything & 61.310 & ⋯ & -20.88394 & 32 & 3 & -20.79494 & 33 & 3 & 5\\_39 & 23 & 0 & 1\\\\\n",
       "\t 27289 & 8 & 3.181633 & off        & 8 & 1.0538660 & off        & pfix:9 & off        & 69.302 & ⋯ & -20.88394 & 32 & 3 & -20.79494 & 33 & 3 & 5\\_39 & 23 & 1 & 1\\\\\n",
       "\\end{tabular}\n"
      ],
      "text/markdown": [
       "\n",
       "A data.frame: 27290 × 171\n",
       "\n",
       "| X &lt;int&gt; | bnc_unigram_index &lt;dbl&gt; | bnc_unigram_prob &lt;dbl&gt; | bnc_unigram_word &lt;chr&gt; | bnc_trigram_index &lt;dbl&gt; | bnc_trigram_prob &lt;dbl&gt; | bnc_trigram_word &lt;chr&gt; | roark_scores_prefix &lt;chr&gt; | roark_scores_word &lt;chr&gt; | roark_scores_prefix.1 &lt;dbl&gt; | ⋯ ⋯ | initial_WSJ_gt_trigramProb &lt;dbl&gt; | initial_WSJ_gt_trigramProb_rank &lt;int&gt; | initial_WSJ_gt_trigramProb_quartile &lt;dbl&gt; | initial_WSJ_gt_5gramProb &lt;dbl&gt; | initial_WSJ_gt_5gramProb_rank &lt;int&gt; | initial_WSJ_gt_5gramProb_quartile &lt;dbl&gt; | thread_id &lt;chr&gt; | chain_length &lt;int&gt; | change &lt;dbl&gt; | one &lt;dbl&gt; |\n",
       "|---|---|---|---|---|---|---|---|---|---|---|---|---|---|---|---|---|---|---|---|---|\n",
       "|  0 |  0 | 3.310068 | each       |  0 | 2.994068 | each       | pfix:1  | each       |  6.566 | ⋯ | -25.89379 | 17 | 1 | -25.89379 | 17 | 1 | 0_0 | 24 | 0 | 1 |\n",
       "|  1 |  1 | 7.309903 | nonfiction |  1 | 8.412464 | nonfiction | pfix:2  | nonfiction | 18.290 | ⋯ | -25.89379 | 17 | 1 | -25.89379 | 17 | 1 | 0_0 | 24 | 1 | 1 |\n",
       "|  2 |  2 | 3.631093 | book       |  2 | 3.756868 | book       | pfix:3  | book       | 28.519 | ⋯ | -25.89379 | 17 | 1 | -25.89379 | 17 | 1 | 0_0 | 24 | 0 | 1 |\n",
       "|  3 |  3 | 2.600407 | has        |  3 | 2.253614 | has        | pfix:4  | has        | 32.402 | ⋯ | -25.89379 | 17 | 1 | -25.89379 | 17 | 1 | 0_0 | 24 | 0 | 1 |\n",
       "|  4 |  4 | 1.681165 | a          |  4 | 1.317157 | a          | pfix:5  | a          | 35.256 | ⋯ | -25.89379 | 17 | 1 | -25.89379 | 17 | 1 | 0_0 | 24 | 0 | 1 |\n",
       "|  5 |  5 | 3.737589 | call       |  5 | 3.763689 | call       | pfix:6  | call       | 44.218 | ⋯ | -25.89379 | 17 | 1 | -25.89379 | 17 | 1 | 0_0 | 24 | 0 | 1 |\n",
       "|  6 |  6 | 3.321531 | number     |  6 | 3.708286 | number     | pfix:7  | number     | 53.366 | ⋯ | -25.89379 | 17 | 1 | -25.89379 | 17 | 1 | 0_0 | 24 | 0 | 1 |\n",
       "|  7 |  7 | 2.162270 | on         |  7 | 2.029635 | on         | pfix:8  | on         | 58.319 | ⋯ | -25.89379 | 17 | 1 | -25.89379 | 17 | 1 | 0_0 | 24 | 1 | 1 |\n",
       "|  8 |  8 | 2.804867 | its        |  8 | 2.394903 | its        | pfix:9  | its        | 62.220 | ⋯ | -25.89379 | 17 | 1 | -25.89379 | 17 | 1 | 0_0 | 24 | 0 | 1 |\n",
       "|  9 |  9 | 5.034822 | spine      |  9 | 4.401074 | spine      | pfix:10 | spine      | 77.301 | ⋯ | -25.89379 | 17 | 1 | -25.89379 | 17 | 1 | 0_0 | 24 | 0 | 1 |\n",
       "| 10 |  0 | 3.310068 | each       |  0 | 2.994068 | each       | pfix:1  | each       |  6.566 | ⋯ | -25.89379 | 17 | 1 | -25.89379 | 17 | 1 | 0_0 | 24 | 0 | 1 |\n",
       "| 11 |  1 | 5.084593 | non        |  1 | 5.391007 | non        | pfix:2  | non        | 11.537 | ⋯ | -25.89379 | 17 | 1 | -25.89379 | 17 | 1 | 0_0 | 24 | 1 | 1 |\n",
       "| 12 |  2 | 4.733100 | fiction    |  2 | 2.624665 | fiction    | pfix:3  | fiction    | 25.162 | ⋯ | -25.89379 | 17 | 1 | -25.89379 | 17 | 1 | 0_0 | 24 | 1 | 1 |\n",
       "| 13 |  3 | 3.631093 | book       |  3 | 4.116251 | book       | pfix:4  | book       | 35.430 | ⋯ | -25.89379 | 17 | 1 | -25.89379 | 17 | 1 | 0_0 | 24 | 0 | 1 |\n",
       "| 14 |  4 | 2.600407 | has        |  4 | 2.253614 | has        | pfix:5  | has        | 39.382 | ⋯ | -25.89379 | 17 | 1 | -25.89379 | 17 | 1 | 0_0 | 24 | 1 | 1 |\n",
       "| 15 |  5 | 1.681165 | a          |  5 | 1.317157 | a          | pfix:6  | a          | 42.241 | ⋯ | -25.89379 | 17 | 1 | -25.89379 | 17 | 1 | 0_0 | 24 | 0 | 1 |\n",
       "| 16 |  6 | 3.737589 | call       |  6 | 3.763689 | call       | pfix:7  | call       | 51.204 | ⋯ | -25.89379 | 17 | 1 | -25.89379 | 17 | 1 | 0_0 | 24 | 0 | 1 |\n",
       "| 17 |  7 | 3.321531 | number     |  7 | 3.708286 | number     | pfix:8  | number     | 60.358 | ⋯ | -25.89379 | 17 | 1 | -25.89379 | 17 | 1 | 0_0 | 24 | 0 | 1 |\n",
       "| 18 |  8 | 1.746052 | in         |  8 | 1.743438 | in         | pfix:9  | in         | 64.184 | ⋯ | -25.89379 | 17 | 1 | -25.89379 | 17 | 1 | 0_0 | 24 | 1 | 1 |\n",
       "| 19 |  9 | 2.804867 | its        |  9 | 2.384786 | its        | pfix:10 | its        | 68.122 | ⋯ | -25.89379 | 17 | 1 | -25.89379 | 17 | 1 | 0_0 | 24 | 0 | 1 |\n",
       "| 20 | 10 | 5.034822 | spine      | 10 | 4.449113 | spine      | pfix:11 | spine      | 83.209 | ⋯ | -25.89379 | 17 | 1 | -25.89379 | 17 | 1 | 0_0 | 24 | 0 | 1 |\n",
       "| 21 |  0 | 3.310068 | each       |  0 | 2.994068 | each       | pfix:1  | each       |  6.566 | ⋯ | -25.89379 | 17 | 1 | -25.89379 | 17 | 1 | 0_0 | 24 | 0 | 1 |\n",
       "| 22 |  1 | 7.309903 | nonfiction |  1 | 8.412464 | nonfiction | pfix:2  | nonfiction | 18.290 | ⋯ | -25.89379 | 17 | 1 | -25.89379 | 17 | 1 | 0_0 | 24 | 0 | 1 |\n",
       "| 23 |  2 | 3.631093 | book       |  2 | 3.756868 | book       | pfix:3  | book       | 28.519 | ⋯ | -25.89379 | 17 | 1 | -25.89379 | 17 | 1 | 0_0 | 24 | 0 | 1 |\n",
       "| 24 |  3 | 2.385910 | had        |  3 | 2.403288 | had        | pfix:4  | had        | 33.164 | ⋯ | -25.89379 | 17 | 1 | -25.89379 | 17 | 1 | 0_0 | 24 | 0 | 1 |\n",
       "| 25 |  4 | 1.681165 | a          |  4 | 1.120770 | a          | pfix:5  | a          | 35.687 | ⋯ | -25.89379 | 17 | 1 | -25.89379 | 17 | 1 | 0_0 | 24 | 0 | 1 |\n",
       "| 26 |  5 | 3.737589 | call       |  5 | 3.065879 | call       | pfix:6  | call       | 44.740 | ⋯ | -25.89379 | 17 | 1 | -25.89379 | 17 | 1 | 0_0 | 24 | 0 | 1 |\n",
       "| 27 |  6 | 3.321531 | number     |  6 | 4.019646 | number     | pfix:7  | number     | 53.892 | ⋯ | -25.89379 | 17 | 1 | -25.89379 | 17 | 1 | 0_0 | 24 | 0 | 1 |\n",
       "| 28 |  7 | 2.162270 | on         |  7 | 2.029635 | on         | pfix:8  | on         | 57.955 | ⋯ | -25.89379 | 17 | 1 | -25.89379 | 17 | 1 | 0_0 | 24 | 0 | 1 |\n",
       "| 29 |  8 | 2.804867 | its        |  8 | 2.394903 | its        | pfix:9  | its        | 61.710 | ⋯ | -25.89379 | 17 | 1 | -25.89379 | 17 | 1 | 0_0 | 24 | 0 | 1 |\n",
       "| ⋮ | ⋮ | ⋮ | ⋮ | ⋮ | ⋮ | ⋮ | ⋮ | ⋮ | ⋮ | ⋱ | ⋮ | ⋮ | ⋮ | ⋮ | ⋮ | ⋮ | ⋮ | ⋮ | ⋮ | ⋮ |\n",
       "| 27260 | 6 | 3.701698 | turn       | 6 | 3.7375216 | turn       | pfix:7 | turn       | 53.714 | ⋯ | -20.88394 | 32 | 3 | -20.79494 | 33 | 3 | 5_39 | 23 | 0 | 1 |\n",
       "| 27261 | 7 | 3.763360 | everything | 7 | 3.4552851 | everything | pfix:8 | everything | 61.310 | ⋯ | -20.88394 | 32 | 3 | -20.79494 | 33 | 3 | 5_39 | 23 | 0 | 1 |\n",
       "| 27262 | 8 | 3.181633 | off        | 8 | 1.0538660 | off        | pfix:9 | off        | 69.302 | ⋯ | -20.88394 | 32 | 3 | -20.79494 | 33 | 3 | 5_39 | 23 | 0 | 1 |\n",
       "| 27263 | 0 | 3.081292 | before     | 0 | 3.0377309 | before     | pfix:1 | before     |  6.993 | ⋯ | -20.88394 | 32 | 3 | -20.79494 | 33 | 3 | 5_39 | 23 | 0 | 1 |\n",
       "| 27264 | 1 | 2.186153 | you        | 1 | 1.1859210 | you        | pfix:2 | you        | 13.198 | ⋯ | -20.88394 | 32 | 3 | -20.79494 | 33 | 3 | 5_39 | 23 | 0 | 1 |\n",
       "| 27265 | 2 | 3.713525 | leave      | 2 | 1.5071959 | leave      | pfix:3 | leave      | 20.940 | ⋯ | -20.88394 | 32 | 3 | -20.79494 | 33 | 3 | 5_39 | 23 | 0 | 1 |\n",
       "| 27266 | 3 | 3.121925 | make       | 3 | 4.3368449 | make       | pfix:4 | make       | 30.850 | ⋯ | -20.88394 | 32 | 3 | -20.79494 | 33 | 3 | 5_39 | 23 | 0 | 1 |\n",
       "| 27267 | 4 | 3.643197 | sure       | 4 | 1.5498590 | sure       | pfix:5 | sure       | 36.383 | ⋯ | -20.88394 | 32 | 3 | -20.79494 | 33 | 3 | 5_39 | 23 | 0 | 1 |\n",
       "| 27268 | 5 | 2.186153 | you        | 5 | 0.7521181 | you        | pfix:6 | you        | 43.568 | ⋯ | -20.88394 | 32 | 3 | -20.79494 | 33 | 3 | 5_39 | 23 | 0 | 1 |\n",
       "| 27269 | 6 | 3.701698 | turn       | 6 | 3.7375216 | turn       | pfix:7 | turn       | 53.714 | ⋯ | -20.88394 | 32 | 3 | -20.79494 | 33 | 3 | 5_39 | 23 | 0 | 1 |\n",
       "| 27270 | 7 | 3.763360 | everything | 7 | 3.4552851 | everything | pfix:8 | everything | 61.310 | ⋯ | -20.88394 | 32 | 3 | -20.79494 | 33 | 3 | 5_39 | 23 | 0 | 1 |\n",
       "| 27271 | 8 | 3.181633 | off        | 8 | 1.0538660 | off        | pfix:9 | off        | 69.302 | ⋯ | -20.88394 | 32 | 3 | -20.79494 | 33 | 3 | 5_39 | 23 | 0 | 1 |\n",
       "| 27272 | 0 | 3.081292 | before     | 0 | 3.0377309 | before     | pfix:1 | before     |  6.993 | ⋯ | -20.88394 | 32 | 3 | -20.79494 | 33 | 3 | 5_39 | 23 | 0 | 1 |\n",
       "| 27273 | 1 | 2.186153 | you        | 1 | 1.1859210 | you        | pfix:2 | you        | 13.198 | ⋯ | -20.88394 | 32 | 3 | -20.79494 | 33 | 3 | 5_39 | 23 | 0 | 1 |\n",
       "| 27274 | 2 | 3.713525 | leave      | 2 | 1.5071959 | leave      | pfix:3 | leave      | 20.940 | ⋯ | -20.88394 | 32 | 3 | -20.79494 | 33 | 3 | 5_39 | 23 | 0 | 1 |\n",
       "| 27275 | 3 | 3.121925 | make       | 3 | 4.3368449 | make       | pfix:4 | make       | 30.850 | ⋯ | -20.88394 | 32 | 3 | -20.79494 | 33 | 3 | 5_39 | 23 | 0 | 1 |\n",
       "| 27276 | 4 | 3.643197 | sure       | 4 | 1.5498590 | sure       | pfix:5 | sure       | 36.383 | ⋯ | -20.88394 | 32 | 3 | -20.79494 | 33 | 3 | 5_39 | 23 | 0 | 1 |\n",
       "| 27277 | 5 | 2.186153 | you        | 5 | 0.7521181 | you        | pfix:6 | you        | 43.568 | ⋯ | -20.88394 | 32 | 3 | -20.79494 | 33 | 3 | 5_39 | 23 | 0 | 1 |\n",
       "| 27278 | 6 | 3.701698 | turn       | 6 | 3.7375216 | turn       | pfix:7 | turn       | 53.714 | ⋯ | -20.88394 | 32 | 3 | -20.79494 | 33 | 3 | 5_39 | 23 | 0 | 1 |\n",
       "| 27279 | 7 | 3.763360 | everything | 7 | 3.4552851 | everything | pfix:8 | everything | 61.310 | ⋯ | -20.88394 | 32 | 3 | -20.79494 | 33 | 3 | 5_39 | 23 | 0 | 1 |\n",
       "| 27280 | 8 | 3.181633 | off        | 8 | 1.0538660 | off        | pfix:9 | off        | 69.302 | ⋯ | -20.88394 | 32 | 3 | -20.79494 | 33 | 3 | 5_39 | 23 | 0 | 1 |\n",
       "| 27281 | 0 | 3.081292 | before     | 0 | 3.0377309 | before     | pfix:1 | before     |  6.993 | ⋯ | -20.88394 | 32 | 3 | -20.79494 | 33 | 3 | 5_39 | 23 | 0 | 1 |\n",
       "| 27282 | 1 | 2.186153 | you        | 1 | 1.1859210 | you        | pfix:2 | you        | 13.198 | ⋯ | -20.88394 | 32 | 3 | -20.79494 | 33 | 3 | 5_39 | 23 | 0 | 1 |\n",
       "| 27283 | 2 | 3.713525 | leave      | 2 | 1.5071959 | leave      | pfix:3 | leave      | 20.940 | ⋯ | -20.88394 | 32 | 3 | -20.79494 | 33 | 3 | 5_39 | 23 | 0 | 1 |\n",
       "| 27284 | 3 | 3.121925 | make       | 3 | 4.3368449 | make       | pfix:4 | make       | 30.850 | ⋯ | -20.88394 | 32 | 3 | -20.79494 | 33 | 3 | 5_39 | 23 | 0 | 1 |\n",
       "| 27285 | 4 | 3.643197 | sure       | 4 | 1.5498590 | sure       | pfix:5 | sure       | 36.383 | ⋯ | -20.88394 | 32 | 3 | -20.79494 | 33 | 3 | 5_39 | 23 | 0 | 1 |\n",
       "| 27286 | 5 | 2.186153 | you        | 5 | 0.7521181 | you        | pfix:6 | you        | 43.568 | ⋯ | -20.88394 | 32 | 3 | -20.79494 | 33 | 3 | 5_39 | 23 | 0 | 1 |\n",
       "| 27287 | 6 | 3.701698 | turn       | 6 | 3.7375216 | turn       | pfix:7 | turn       | 53.714 | ⋯ | -20.88394 | 32 | 3 | -20.79494 | 33 | 3 | 5_39 | 23 | 1 | 1 |\n",
       "| 27288 | 7 | 3.763360 | everything | 7 | 3.4552851 | everything | pfix:8 | everything | 61.310 | ⋯ | -20.88394 | 32 | 3 | -20.79494 | 33 | 3 | 5_39 | 23 | 0 | 1 |\n",
       "| 27289 | 8 | 3.181633 | off        | 8 | 1.0538660 | off        | pfix:9 | off        | 69.302 | ⋯ | -20.88394 | 32 | 3 | -20.79494 | 33 | 3 | 5_39 | 23 | 1 | 1 |\n",
       "\n"
      ],
      "text/plain": [
       "      X     bnc_unigram_index bnc_unigram_prob bnc_unigram_word\n",
       "1      0     0                3.310068         each            \n",
       "2      1     1                7.309903         nonfiction      \n",
       "3      2     2                3.631093         book            \n",
       "4      3     3                2.600407         has             \n",
       "5      4     4                1.681165         a               \n",
       "6      5     5                3.737589         call            \n",
       "7      6     6                3.321531         number          \n",
       "8      7     7                2.162270         on              \n",
       "9      8     8                2.804867         its             \n",
       "10     9     9                5.034822         spine           \n",
       "11    10     0                3.310068         each            \n",
       "12    11     1                5.084593         non             \n",
       "13    12     2                4.733100         fiction         \n",
       "14    13     3                3.631093         book            \n",
       "15    14     4                2.600407         has             \n",
       "16    15     5                1.681165         a               \n",
       "17    16     6                3.737589         call            \n",
       "18    17     7                3.321531         number          \n",
       "19    18     8                1.746052         in              \n",
       "20    19     9                2.804867         its             \n",
       "21    20    10                5.034822         spine           \n",
       "22    21     0                3.310068         each            \n",
       "23    22     1                7.309903         nonfiction      \n",
       "24    23     2                3.631093         book            \n",
       "25    24     3                2.385910         had             \n",
       "26    25     4                1.681165         a               \n",
       "27    26     5                3.737589         call            \n",
       "28    27     6                3.321531         number          \n",
       "29    28     7                2.162270         on              \n",
       "30    29     8                2.804867         its             \n",
       "⋮     ⋮     ⋮                 ⋮                ⋮               \n",
       "27261 27260 6                 3.701698         turn            \n",
       "27262 27261 7                 3.763360         everything      \n",
       "27263 27262 8                 3.181633         off             \n",
       "27264 27263 0                 3.081292         before          \n",
       "27265 27264 1                 2.186153         you             \n",
       "27266 27265 2                 3.713525         leave           \n",
       "27267 27266 3                 3.121925         make            \n",
       "27268 27267 4                 3.643197         sure            \n",
       "27269 27268 5                 2.186153         you             \n",
       "27270 27269 6                 3.701698         turn            \n",
       "27271 27270 7                 3.763360         everything      \n",
       "27272 27271 8                 3.181633         off             \n",
       "27273 27272 0                 3.081292         before          \n",
       "27274 27273 1                 2.186153         you             \n",
       "27275 27274 2                 3.713525         leave           \n",
       "27276 27275 3                 3.121925         make            \n",
       "27277 27276 4                 3.643197         sure            \n",
       "27278 27277 5                 2.186153         you             \n",
       "27279 27278 6                 3.701698         turn            \n",
       "27280 27279 7                 3.763360         everything      \n",
       "27281 27280 8                 3.181633         off             \n",
       "27282 27281 0                 3.081292         before          \n",
       "27283 27282 1                 2.186153         you             \n",
       "27284 27283 2                 3.713525         leave           \n",
       "27285 27284 3                 3.121925         make            \n",
       "27286 27285 4                 3.643197         sure            \n",
       "27287 27286 5                 2.186153         you             \n",
       "27288 27287 6                 3.701698         turn            \n",
       "27289 27288 7                 3.763360         everything      \n",
       "27290 27289 8                 3.181633         off             \n",
       "      bnc_trigram_index bnc_trigram_prob bnc_trigram_word roark_scores_prefix\n",
       "1      0                2.994068         each             pfix:1             \n",
       "2      1                8.412464         nonfiction       pfix:2             \n",
       "3      2                3.756868         book             pfix:3             \n",
       "4      3                2.253614         has              pfix:4             \n",
       "5      4                1.317157         a                pfix:5             \n",
       "6      5                3.763689         call             pfix:6             \n",
       "7      6                3.708286         number           pfix:7             \n",
       "8      7                2.029635         on               pfix:8             \n",
       "9      8                2.394903         its              pfix:9             \n",
       "10     9                4.401074         spine            pfix:10            \n",
       "11     0                2.994068         each             pfix:1             \n",
       "12     1                5.391007         non              pfix:2             \n",
       "13     2                2.624665         fiction          pfix:3             \n",
       "14     3                4.116251         book             pfix:4             \n",
       "15     4                2.253614         has              pfix:5             \n",
       "16     5                1.317157         a                pfix:6             \n",
       "17     6                3.763689         call             pfix:7             \n",
       "18     7                3.708286         number           pfix:8             \n",
       "19     8                1.743438         in               pfix:9             \n",
       "20     9                2.384786         its              pfix:10            \n",
       "21    10                4.449113         spine            pfix:11            \n",
       "22     0                2.994068         each             pfix:1             \n",
       "23     1                8.412464         nonfiction       pfix:2             \n",
       "24     2                3.756868         book             pfix:3             \n",
       "25     3                2.403288         had              pfix:4             \n",
       "26     4                1.120770         a                pfix:5             \n",
       "27     5                3.065879         call             pfix:6             \n",
       "28     6                4.019646         number           pfix:7             \n",
       "29     7                2.029635         on               pfix:8             \n",
       "30     8                2.394903         its              pfix:9             \n",
       "⋮     ⋮                 ⋮                ⋮                ⋮                  \n",
       "27261 6                 3.7375216        turn             pfix:7             \n",
       "27262 7                 3.4552851        everything       pfix:8             \n",
       "27263 8                 1.0538660        off              pfix:9             \n",
       "27264 0                 3.0377309        before           pfix:1             \n",
       "27265 1                 1.1859210        you              pfix:2             \n",
       "27266 2                 1.5071959        leave            pfix:3             \n",
       "27267 3                 4.3368449        make             pfix:4             \n",
       "27268 4                 1.5498590        sure             pfix:5             \n",
       "27269 5                 0.7521181        you              pfix:6             \n",
       "27270 6                 3.7375216        turn             pfix:7             \n",
       "27271 7                 3.4552851        everything       pfix:8             \n",
       "27272 8                 1.0538660        off              pfix:9             \n",
       "27273 0                 3.0377309        before           pfix:1             \n",
       "27274 1                 1.1859210        you              pfix:2             \n",
       "27275 2                 1.5071959        leave            pfix:3             \n",
       "27276 3                 4.3368449        make             pfix:4             \n",
       "27277 4                 1.5498590        sure             pfix:5             \n",
       "27278 5                 0.7521181        you              pfix:6             \n",
       "27279 6                 3.7375216        turn             pfix:7             \n",
       "27280 7                 3.4552851        everything       pfix:8             \n",
       "27281 8                 1.0538660        off              pfix:9             \n",
       "27282 0                 3.0377309        before           pfix:1             \n",
       "27283 1                 1.1859210        you              pfix:2             \n",
       "27284 2                 1.5071959        leave            pfix:3             \n",
       "27285 3                 4.3368449        make             pfix:4             \n",
       "27286 4                 1.5498590        sure             pfix:5             \n",
       "27287 5                 0.7521181        you              pfix:6             \n",
       "27288 6                 3.7375216        turn             pfix:7             \n",
       "27289 7                 3.4552851        everything       pfix:8             \n",
       "27290 8                 1.0538660        off              pfix:9             \n",
       "      roark_scores_word roark_scores_prefix.1 ⋯ initial_WSJ_gt_trigramProb\n",
       "1     each               6.566                ⋯ -25.89379                 \n",
       "2     nonfiction        18.290                ⋯ -25.89379                 \n",
       "3     book              28.519                ⋯ -25.89379                 \n",
       "4     has               32.402                ⋯ -25.89379                 \n",
       "5     a                 35.256                ⋯ -25.89379                 \n",
       "6     call              44.218                ⋯ -25.89379                 \n",
       "7     number            53.366                ⋯ -25.89379                 \n",
       "8     on                58.319                ⋯ -25.89379                 \n",
       "9     its               62.220                ⋯ -25.89379                 \n",
       "10    spine             77.301                ⋯ -25.89379                 \n",
       "11    each               6.566                ⋯ -25.89379                 \n",
       "12    non               11.537                ⋯ -25.89379                 \n",
       "13    fiction           25.162                ⋯ -25.89379                 \n",
       "14    book              35.430                ⋯ -25.89379                 \n",
       "15    has               39.382                ⋯ -25.89379                 \n",
       "16    a                 42.241                ⋯ -25.89379                 \n",
       "17    call              51.204                ⋯ -25.89379                 \n",
       "18    number            60.358                ⋯ -25.89379                 \n",
       "19    in                64.184                ⋯ -25.89379                 \n",
       "20    its               68.122                ⋯ -25.89379                 \n",
       "21    spine             83.209                ⋯ -25.89379                 \n",
       "22    each               6.566                ⋯ -25.89379                 \n",
       "23    nonfiction        18.290                ⋯ -25.89379                 \n",
       "24    book              28.519                ⋯ -25.89379                 \n",
       "25    had               33.164                ⋯ -25.89379                 \n",
       "26    a                 35.687                ⋯ -25.89379                 \n",
       "27    call              44.740                ⋯ -25.89379                 \n",
       "28    number            53.892                ⋯ -25.89379                 \n",
       "29    on                57.955                ⋯ -25.89379                 \n",
       "30    its               61.710                ⋯ -25.89379                 \n",
       "⋮     ⋮                 ⋮                     ⋱ ⋮                         \n",
       "27261 turn              53.714                ⋯ -20.88394                 \n",
       "27262 everything        61.310                ⋯ -20.88394                 \n",
       "27263 off               69.302                ⋯ -20.88394                 \n",
       "27264 before             6.993                ⋯ -20.88394                 \n",
       "27265 you               13.198                ⋯ -20.88394                 \n",
       "27266 leave             20.940                ⋯ -20.88394                 \n",
       "27267 make              30.850                ⋯ -20.88394                 \n",
       "27268 sure              36.383                ⋯ -20.88394                 \n",
       "27269 you               43.568                ⋯ -20.88394                 \n",
       "27270 turn              53.714                ⋯ -20.88394                 \n",
       "27271 everything        61.310                ⋯ -20.88394                 \n",
       "27272 off               69.302                ⋯ -20.88394                 \n",
       "27273 before             6.993                ⋯ -20.88394                 \n",
       "27274 you               13.198                ⋯ -20.88394                 \n",
       "27275 leave             20.940                ⋯ -20.88394                 \n",
       "27276 make              30.850                ⋯ -20.88394                 \n",
       "27277 sure              36.383                ⋯ -20.88394                 \n",
       "27278 you               43.568                ⋯ -20.88394                 \n",
       "27279 turn              53.714                ⋯ -20.88394                 \n",
       "27280 everything        61.310                ⋯ -20.88394                 \n",
       "27281 off               69.302                ⋯ -20.88394                 \n",
       "27282 before             6.993                ⋯ -20.88394                 \n",
       "27283 you               13.198                ⋯ -20.88394                 \n",
       "27284 leave             20.940                ⋯ -20.88394                 \n",
       "27285 make              30.850                ⋯ -20.88394                 \n",
       "27286 sure              36.383                ⋯ -20.88394                 \n",
       "27287 you               43.568                ⋯ -20.88394                 \n",
       "27288 turn              53.714                ⋯ -20.88394                 \n",
       "27289 everything        61.310                ⋯ -20.88394                 \n",
       "27290 off               69.302                ⋯ -20.88394                 \n",
       "      initial_WSJ_gt_trigramProb_rank initial_WSJ_gt_trigramProb_quartile\n",
       "1     17                              1                                  \n",
       "2     17                              1                                  \n",
       "3     17                              1                                  \n",
       "4     17                              1                                  \n",
       "5     17                              1                                  \n",
       "6     17                              1                                  \n",
       "7     17                              1                                  \n",
       "8     17                              1                                  \n",
       "9     17                              1                                  \n",
       "10    17                              1                                  \n",
       "11    17                              1                                  \n",
       "12    17                              1                                  \n",
       "13    17                              1                                  \n",
       "14    17                              1                                  \n",
       "15    17                              1                                  \n",
       "16    17                              1                                  \n",
       "17    17                              1                                  \n",
       "18    17                              1                                  \n",
       "19    17                              1                                  \n",
       "20    17                              1                                  \n",
       "21    17                              1                                  \n",
       "22    17                              1                                  \n",
       "23    17                              1                                  \n",
       "24    17                              1                                  \n",
       "25    17                              1                                  \n",
       "26    17                              1                                  \n",
       "27    17                              1                                  \n",
       "28    17                              1                                  \n",
       "29    17                              1                                  \n",
       "30    17                              1                                  \n",
       "⋮     ⋮                               ⋮                                  \n",
       "27261 32                              3                                  \n",
       "27262 32                              3                                  \n",
       "27263 32                              3                                  \n",
       "27264 32                              3                                  \n",
       "27265 32                              3                                  \n",
       "27266 32                              3                                  \n",
       "27267 32                              3                                  \n",
       "27268 32                              3                                  \n",
       "27269 32                              3                                  \n",
       "27270 32                              3                                  \n",
       "27271 32                              3                                  \n",
       "27272 32                              3                                  \n",
       "27273 32                              3                                  \n",
       "27274 32                              3                                  \n",
       "27275 32                              3                                  \n",
       "27276 32                              3                                  \n",
       "27277 32                              3                                  \n",
       "27278 32                              3                                  \n",
       "27279 32                              3                                  \n",
       "27280 32                              3                                  \n",
       "27281 32                              3                                  \n",
       "27282 32                              3                                  \n",
       "27283 32                              3                                  \n",
       "27284 32                              3                                  \n",
       "27285 32                              3                                  \n",
       "27286 32                              3                                  \n",
       "27287 32                              3                                  \n",
       "27288 32                              3                                  \n",
       "27289 32                              3                                  \n",
       "27290 32                              3                                  \n",
       "      initial_WSJ_gt_5gramProb initial_WSJ_gt_5gramProb_rank\n",
       "1     -25.89379                17                           \n",
       "2     -25.89379                17                           \n",
       "3     -25.89379                17                           \n",
       "4     -25.89379                17                           \n",
       "5     -25.89379                17                           \n",
       "6     -25.89379                17                           \n",
       "7     -25.89379                17                           \n",
       "8     -25.89379                17                           \n",
       "9     -25.89379                17                           \n",
       "10    -25.89379                17                           \n",
       "11    -25.89379                17                           \n",
       "12    -25.89379                17                           \n",
       "13    -25.89379                17                           \n",
       "14    -25.89379                17                           \n",
       "15    -25.89379                17                           \n",
       "16    -25.89379                17                           \n",
       "17    -25.89379                17                           \n",
       "18    -25.89379                17                           \n",
       "19    -25.89379                17                           \n",
       "20    -25.89379                17                           \n",
       "21    -25.89379                17                           \n",
       "22    -25.89379                17                           \n",
       "23    -25.89379                17                           \n",
       "24    -25.89379                17                           \n",
       "25    -25.89379                17                           \n",
       "26    -25.89379                17                           \n",
       "27    -25.89379                17                           \n",
       "28    -25.89379                17                           \n",
       "29    -25.89379                17                           \n",
       "30    -25.89379                17                           \n",
       "⋮     ⋮                        ⋮                            \n",
       "27261 -20.79494                33                           \n",
       "27262 -20.79494                33                           \n",
       "27263 -20.79494                33                           \n",
       "27264 -20.79494                33                           \n",
       "27265 -20.79494                33                           \n",
       "27266 -20.79494                33                           \n",
       "27267 -20.79494                33                           \n",
       "27268 -20.79494                33                           \n",
       "27269 -20.79494                33                           \n",
       "27270 -20.79494                33                           \n",
       "27271 -20.79494                33                           \n",
       "27272 -20.79494                33                           \n",
       "27273 -20.79494                33                           \n",
       "27274 -20.79494                33                           \n",
       "27275 -20.79494                33                           \n",
       "27276 -20.79494                33                           \n",
       "27277 -20.79494                33                           \n",
       "27278 -20.79494                33                           \n",
       "27279 -20.79494                33                           \n",
       "27280 -20.79494                33                           \n",
       "27281 -20.79494                33                           \n",
       "27282 -20.79494                33                           \n",
       "27283 -20.79494                33                           \n",
       "27284 -20.79494                33                           \n",
       "27285 -20.79494                33                           \n",
       "27286 -20.79494                33                           \n",
       "27287 -20.79494                33                           \n",
       "27288 -20.79494                33                           \n",
       "27289 -20.79494                33                           \n",
       "27290 -20.79494                33                           \n",
       "      initial_WSJ_gt_5gramProb_quartile thread_id chain_length change one\n",
       "1     1                                 0_0       24           0      1  \n",
       "2     1                                 0_0       24           1      1  \n",
       "3     1                                 0_0       24           0      1  \n",
       "4     1                                 0_0       24           0      1  \n",
       "5     1                                 0_0       24           0      1  \n",
       "6     1                                 0_0       24           0      1  \n",
       "7     1                                 0_0       24           0      1  \n",
       "8     1                                 0_0       24           1      1  \n",
       "9     1                                 0_0       24           0      1  \n",
       "10    1                                 0_0       24           0      1  \n",
       "11    1                                 0_0       24           0      1  \n",
       "12    1                                 0_0       24           1      1  \n",
       "13    1                                 0_0       24           1      1  \n",
       "14    1                                 0_0       24           0      1  \n",
       "15    1                                 0_0       24           1      1  \n",
       "16    1                                 0_0       24           0      1  \n",
       "17    1                                 0_0       24           0      1  \n",
       "18    1                                 0_0       24           0      1  \n",
       "19    1                                 0_0       24           1      1  \n",
       "20    1                                 0_0       24           0      1  \n",
       "21    1                                 0_0       24           0      1  \n",
       "22    1                                 0_0       24           0      1  \n",
       "23    1                                 0_0       24           0      1  \n",
       "24    1                                 0_0       24           0      1  \n",
       "25    1                                 0_0       24           0      1  \n",
       "26    1                                 0_0       24           0      1  \n",
       "27    1                                 0_0       24           0      1  \n",
       "28    1                                 0_0       24           0      1  \n",
       "29    1                                 0_0       24           0      1  \n",
       "30    1                                 0_0       24           0      1  \n",
       "⋮     ⋮                                 ⋮         ⋮            ⋮      ⋮  \n",
       "27261 3                                 5_39      23           0      1  \n",
       "27262 3                                 5_39      23           0      1  \n",
       "27263 3                                 5_39      23           0      1  \n",
       "27264 3                                 5_39      23           0      1  \n",
       "27265 3                                 5_39      23           0      1  \n",
       "27266 3                                 5_39      23           0      1  \n",
       "27267 3                                 5_39      23           0      1  \n",
       "27268 3                                 5_39      23           0      1  \n",
       "27269 3                                 5_39      23           0      1  \n",
       "27270 3                                 5_39      23           0      1  \n",
       "27271 3                                 5_39      23           0      1  \n",
       "27272 3                                 5_39      23           0      1  \n",
       "27273 3                                 5_39      23           0      1  \n",
       "27274 3                                 5_39      23           0      1  \n",
       "27275 3                                 5_39      23           0      1  \n",
       "27276 3                                 5_39      23           0      1  \n",
       "27277 3                                 5_39      23           0      1  \n",
       "27278 3                                 5_39      23           0      1  \n",
       "27279 3                                 5_39      23           0      1  \n",
       "27280 3                                 5_39      23           0      1  \n",
       "27281 3                                 5_39      23           0      1  \n",
       "27282 3                                 5_39      23           0      1  \n",
       "27283 3                                 5_39      23           0      1  \n",
       "27284 3                                 5_39      23           0      1  \n",
       "27285 3                                 5_39      23           0      1  \n",
       "27286 3                                 5_39      23           0      1  \n",
       "27287 3                                 5_39      23           0      1  \n",
       "27288 3                                 5_39      23           1      1  \n",
       "27289 3                                 5_39      23           0      1  \n",
       "27290 3                                 5_39      23           1      1  "
      ]
     },
     "metadata": {},
     "output_type": "display_data"
    }
   ],
   "source": [
    "wdfs"
   ]
  },
  {
   "cell_type": "code",
   "execution_count": 12,
   "metadata": {},
   "outputs": [
    {
     "name": "stdout",
     "output_type": "stream",
     "text": [
      "[1] \"one missing 0 observations\"\n",
      "[1] \"word missing 0 observations\"\n"
     ]
    },
    {
     "name": "stderr",
     "output_type": "stream",
     "text": [
      "Warning message in mean.default(wdfs[, fixed_effect], na.rm = TRUE):\n",
      "“argument is not numeric or logical: returning NA”\n"
     ]
    },
    {
     "name": "stdout",
     "output_type": "stream",
     "text": [
      "[1] \"bnc_unigram_prob missing 0 observations\"\n",
      "[1] \"bnc_trigram_prob missing 0 observations\"\n",
      "[1] \"roark_scores_SynSp missing 0 observations\"\n",
      "[1] \"roark_scores_LexSp missing 0 observations\"\n",
      "[1] \"big_lm_scores_prob missing 0 observations\"\n",
      "[1] \"kenlm_scores_prob missing 0 observations\"\n",
      "[1] \"sCounter missing 0 observations\"\n",
      "[1] \"kpm_aoa_kup missing 5562 observations\"\n",
      "[1] \"kpm_nphon missing 435 observations\"\n",
      "[1] \"kpm_nsyll missing 435 observations\"\n",
      "[1] \"conc_conc_m missing 2457 observations\"\n",
      "[1] \"pld20 missing 253 observations\"\n",
      "[1] \"SUBTLCD missing 45 observations\"\n",
      "[1] \"normalized_biglm_probability missing 0 observations\"\n",
      "[1] \"normalized_WSJ_Roark_Negative.Log.Probability missing 0 observations\"\n",
      "[1] \"normalized_BNC_KNN_unigramProb missing 0 observations\"\n",
      "[1] \"normalized_BNC_KNN_trigramProb missing 0 observations\"\n",
      "[1] \"normalized_kenlm_probability missing 0 observations\"\n",
      "[1] \"normalized_bllip_probability missing 0 observations\"\n",
      "[1] \"normalized_bllip_wsj_probability missing 0 observations\"\n",
      "[1] \"normalized_mikolov_wsj_probability missing 0 observations\"\n",
      "[1] \"pic_ipa_ss missing 190 observations\"\n",
      "[1] \"kenlm_scores_prob missing 0 observations\"\n"
     ]
    }
   ],
   "source": [
    "# interpolate missing values in the input\n",
    "fixed_effects = c('one','word','bnc_unigram_prob', 'bnc_trigram_prob', 'roark_scores_SynSp', \n",
    "'roark_scores_LexSp', 'big_lm_scores_prob', 'kenlm_scores_prob','sCounter', \n",
    "'kpm_aoa_kup','kpm_nphon', 'kpm_nsyll','conc_conc_m','pld20', 'SUBTLCD', \n",
    "'normalized_biglm_probability', 'normalized_WSJ_Roark_Negative.Log.Probability',\n",
    "'normalized_BNC_KNN_unigramProb', 'normalized_BNC_KNN_trigramProb',\n",
    "'normalized_kenlm_probability', 'normalized_bllip_probability', \n",
    "'normalized_bllip_wsj_probability', 'normalized_mikolov_wsj_probability','pic_ipa_ss','kenlm_scores_prob')\n",
    "\n",
    "for(fixed_effect in fixed_effects){\n",
    "    print(paste(fixed_effect, 'missing', length(which(is.na(wdfs[,fixed_effect]))), 'observations'))\n",
    "  wdfs[is.na(wdfs[,fixed_effect]), fixed_effect] <- mean(wdfs[,fixed_effect], na.rm = TRUE)\n",
    "}"
   ]
  },
  {
   "cell_type": "markdown",
   "metadata": {},
   "source": [
    "# Fixed Effects Logistic Regression"
   ]
  },
  {
   "cell_type": "code",
   "execution_count": 13,
   "metadata": {},
   "outputs": [
    {
     "data": {
      "text/html": [
       "<style>\n",
       ".list-inline {list-style: none; margin:0; padding: 0}\n",
       ".list-inline>li {display: inline-block}\n",
       ".list-inline>li:not(:last-child)::after {content: \"\\00b7\"; padding: 0 .5ex}\n",
       "</style>\n",
       "<ol class=list-inline><li>'one'</li><li>'word'</li><li>'bnc_unigram_prob'</li><li>'bnc_trigram_prob'</li><li>'roark_scores_SynSp'</li><li>'roark_scores_LexSp'</li><li>'big_lm_scores_prob'</li><li>'kenlm_scores_prob'</li><li>'sCounter'</li><li>'kpm_aoa_kup'</li><li>'kpm_nphon'</li><li>'kpm_nsyll'</li><li>'conc_conc_m'</li><li>'pld20'</li><li>'SUBTLCD'</li><li>'normalized_biglm_probability'</li><li>'normalized_WSJ_Roark_Negative.Log.Probability'</li><li>'normalized_BNC_KNN_unigramProb'</li><li>'normalized_BNC_KNN_trigramProb'</li><li>'normalized_kenlm_probability'</li><li>'normalized_bllip_probability'</li><li>'normalized_bllip_wsj_probability'</li><li>'normalized_mikolov_wsj_probability'</li><li>'pic_ipa_ss'</li><li>'kenlm_scores_prob'</li></ol>\n"
      ],
      "text/latex": [
       "\\begin{enumerate*}\n",
       "\\item 'one'\n",
       "\\item 'word'\n",
       "\\item 'bnc\\_unigram\\_prob'\n",
       "\\item 'bnc\\_trigram\\_prob'\n",
       "\\item 'roark\\_scores\\_SynSp'\n",
       "\\item 'roark\\_scores\\_LexSp'\n",
       "\\item 'big\\_lm\\_scores\\_prob'\n",
       "\\item 'kenlm\\_scores\\_prob'\n",
       "\\item 'sCounter'\n",
       "\\item 'kpm\\_aoa\\_kup'\n",
       "\\item 'kpm\\_nphon'\n",
       "\\item 'kpm\\_nsyll'\n",
       "\\item 'conc\\_conc\\_m'\n",
       "\\item 'pld20'\n",
       "\\item 'SUBTLCD'\n",
       "\\item 'normalized\\_biglm\\_probability'\n",
       "\\item 'normalized\\_WSJ\\_Roark\\_Negative.Log.Probability'\n",
       "\\item 'normalized\\_BNC\\_KNN\\_unigramProb'\n",
       "\\item 'normalized\\_BNC\\_KNN\\_trigramProb'\n",
       "\\item 'normalized\\_kenlm\\_probability'\n",
       "\\item 'normalized\\_bllip\\_probability'\n",
       "\\item 'normalized\\_bllip\\_wsj\\_probability'\n",
       "\\item 'normalized\\_mikolov\\_wsj\\_probability'\n",
       "\\item 'pic\\_ipa\\_ss'\n",
       "\\item 'kenlm\\_scores\\_prob'\n",
       "\\end{enumerate*}\n"
      ],
      "text/markdown": [
       "1. 'one'\n",
       "2. 'word'\n",
       "3. 'bnc_unigram_prob'\n",
       "4. 'bnc_trigram_prob'\n",
       "5. 'roark_scores_SynSp'\n",
       "6. 'roark_scores_LexSp'\n",
       "7. 'big_lm_scores_prob'\n",
       "8. 'kenlm_scores_prob'\n",
       "9. 'sCounter'\n",
       "10. 'kpm_aoa_kup'\n",
       "11. 'kpm_nphon'\n",
       "12. 'kpm_nsyll'\n",
       "13. 'conc_conc_m'\n",
       "14. 'pld20'\n",
       "15. 'SUBTLCD'\n",
       "16. 'normalized_biglm_probability'\n",
       "17. 'normalized_WSJ_Roark_Negative.Log.Probability'\n",
       "18. 'normalized_BNC_KNN_unigramProb'\n",
       "19. 'normalized_BNC_KNN_trigramProb'\n",
       "20. 'normalized_kenlm_probability'\n",
       "21. 'normalized_bllip_probability'\n",
       "22. 'normalized_bllip_wsj_probability'\n",
       "23. 'normalized_mikolov_wsj_probability'\n",
       "24. 'pic_ipa_ss'\n",
       "25. 'kenlm_scores_prob'\n",
       "\n",
       "\n"
      ],
      "text/plain": [
       " [1] \"one\"                                          \n",
       " [2] \"word\"                                         \n",
       " [3] \"bnc_unigram_prob\"                             \n",
       " [4] \"bnc_trigram_prob\"                             \n",
       " [5] \"roark_scores_SynSp\"                           \n",
       " [6] \"roark_scores_LexSp\"                           \n",
       " [7] \"big_lm_scores_prob\"                           \n",
       " [8] \"kenlm_scores_prob\"                            \n",
       " [9] \"sCounter\"                                     \n",
       "[10] \"kpm_aoa_kup\"                                  \n",
       "[11] \"kpm_nphon\"                                    \n",
       "[12] \"kpm_nsyll\"                                    \n",
       "[13] \"conc_conc_m\"                                  \n",
       "[14] \"pld20\"                                        \n",
       "[15] \"SUBTLCD\"                                      \n",
       "[16] \"normalized_biglm_probability\"                 \n",
       "[17] \"normalized_WSJ_Roark_Negative.Log.Probability\"\n",
       "[18] \"normalized_BNC_KNN_unigramProb\"               \n",
       "[19] \"normalized_BNC_KNN_trigramProb\"               \n",
       "[20] \"normalized_kenlm_probability\"                 \n",
       "[21] \"normalized_bllip_probability\"                 \n",
       "[22] \"normalized_bllip_wsj_probability\"             \n",
       "[23] \"normalized_mikolov_wsj_probability\"           \n",
       "[24] \"pic_ipa_ss\"                                   \n",
       "[25] \"kenlm_scores_prob\"                            "
      ]
     },
     "metadata": {},
     "output_type": "display_data"
    }
   ],
   "source": [
    "fixed_effects"
   ]
  },
  {
   "cell_type": "code",
   "execution_count": 14,
   "metadata": {},
   "outputs": [],
   "source": [
    "# basic fixed effects logistic regression\n",
    "wdf = wdfs[,fixed_effects]\n",
    "wdf$changed = as.numeric(wdfs$code != 'M')\n",
    "model <- glm(changed ~ bnc_unigram_prob + bnc_trigram_prob + roark_scores_LexSp +  roark_scores_SynSp\n",
    "+ big_lm_scores_prob + sCounter + kpm_aoa_kup + kpm_nphon + kpm_nsyll + conc_conc_m\n",
    ", family=binomial(link='logit'),data=wdf)"
   ]
  },
  {
   "cell_type": "code",
   "execution_count": 15,
   "metadata": {},
   "outputs": [
    {
     "data": {
      "text/plain": [
       "\n",
       "Call:\n",
       "glm(formula = changed ~ bnc_unigram_prob + bnc_trigram_prob + \n",
       "    roark_scores_LexSp + roark_scores_SynSp + big_lm_scores_prob + \n",
       "    sCounter + kpm_aoa_kup + kpm_nphon + kpm_nsyll + conc_conc_m, \n",
       "    family = binomial(link = \"logit\"), data = wdf)\n",
       "\n",
       "Deviance Residuals: \n",
       "    Min       1Q   Median       3Q      Max  \n",
       "-1.5706  -0.6444  -0.5315  -0.4295   2.4168  \n",
       "\n",
       "Coefficients:\n",
       "                    Estimate Std. Error z value Pr(>|z|)    \n",
       "(Intercept)        -2.492294   0.081356 -30.634  < 2e-16 ***\n",
       "bnc_unigram_prob   -0.064418   0.032682  -1.971  0.04872 *  \n",
       "bnc_trigram_prob    0.202444   0.021231   9.535  < 2e-16 ***\n",
       "roark_scores_LexSp  0.029362   0.017753   1.654  0.09814 .  \n",
       "roark_scores_SynSp  0.116196   0.025557   4.547 5.45e-06 ***\n",
       "big_lm_scores_prob  0.216211   0.016845  12.836  < 2e-16 ***\n",
       "sCounter            0.091441   0.006155  14.856  < 2e-16 ***\n",
       "kpm_aoa_kup         0.058568   0.013289   4.407 1.05e-05 ***\n",
       "kpm_nphon          -0.065788   0.020369  -3.230  0.00124 ** \n",
       "kpm_nsyll          -0.278506   0.047952  -5.808 6.32e-09 ***\n",
       "conc_conc_m        -0.075158   0.018960  -3.964 7.37e-05 ***\n",
       "---\n",
       "Signif. codes:  0 ‘***’ 0.001 ‘**’ 0.01 ‘*’ 0.05 ‘.’ 0.1 ‘ ’ 1\n",
       "\n",
       "(Dispersion parameter for binomial family taken to be 1)\n",
       "\n",
       "    Null deviance: 25410  on 27289  degrees of freedom\n",
       "Residual deviance: 24169  on 27279  degrees of freedom\n",
       "AIC: 24191\n",
       "\n",
       "Number of Fisher Scoring iterations: 4\n"
      ]
     },
     "metadata": {},
     "output_type": "display_data"
    }
   ],
   "source": [
    "summary(model)"
   ]
  },
  {
   "cell_type": "code",
   "execution_count": 16,
   "metadata": {},
   "outputs": [
    {
     "name": "stderr",
     "output_type": "stream",
     "text": [
      "Setting levels: control = 0, case = 1\n",
      "\n",
      "Setting direction: controls < cases\n",
      "\n"
     ]
    },
    {
     "data": {
      "image/png": "[encoded data removed]",
      "text/plain": [
       "plot without title"
      ]
     },
     "metadata": {
      "image/png": {
       "height": 420,
       "width": 420
      },
      "text/plain": {
       "height": 420,
       "width": 420
      }
     },
     "output_type": "display_data"
    }
   ],
   "source": [
    "wdfs$predicted = predict(model, wdf, type='response')\n",
    "df = data.frame(prob=wdfs$predicted, change=wdfs$change)\n",
    "g <- roc(change ~prob, data = df)\n",
    "plot(g)    "
   ]
  },
  {
   "cell_type": "code",
   "execution_count": 17,
   "metadata": {},
   "outputs": [
    {
     "data": {
      "text/html": [
       "0.647735442004926"
      ],
      "text/latex": [
       "0.647735442004926"
      ],
      "text/markdown": [
       "0.647735442004926"
      ],
      "text/plain": [
       "Area under the curve: 0.6477"
      ]
     },
     "metadata": {},
     "output_type": "display_data"
    }
   ],
   "source": [
    "auc(g)"
   ]
  },
  {
   "cell_type": "code",
   "execution_count": 18,
   "metadata": {},
   "outputs": [
    {
     "data": {
      "text/html": [
       "'{color[HTML]{38C600}a} {color[HTML]{28D600}single} {color[HTML]{FF0000}soothe} {color[HTML]{DD2100}has} {color[HTML]{F40A00}iron} {color[HTML]{C13D00}rods} {color[HTML]{778700}and} {color[HTML]{F70700}wraps}'"
      ],
      "text/latex": [
       "'\\{color{[}HTML{]}\\{38C600\\}a\\} \\{color{[}HTML{]}\\{28D600\\}single\\} \\{color{[}HTML{]}\\{FF0000\\}soothe\\} \\{color{[}HTML{]}\\{DD2100\\}has\\} \\{color{[}HTML{]}\\{F40A00\\}iron\\} \\{color{[}HTML{]}\\{C13D00\\}rods\\} \\{color{[}HTML{]}\\{778700\\}and\\} \\{color{[}HTML{]}\\{F70700\\}wraps\\}'"
      ],
      "text/markdown": [
       "'{color[HTML]{38C600}a} {color[HTML]{28D600}single} {color[HTML]{FF0000}soothe} {color[HTML]{DD2100}has} {color[HTML]{F40A00}iron} {color[HTML]{C13D00}rods} {color[HTML]{778700}and} {color[HTML]{F70700}wraps}'"
      ],
      "text/plain": [
       "[1] \"{color[HTML]{38C600}a} {color[HTML]{28D600}single} {color[HTML]{FF0000}soothe} {color[HTML]{DD2100}has} {color[HTML]{F40A00}iron} {color[HTML]{C13D00}rods} {color[HTML]{778700}and} {color[HTML]{F70700}wraps}\""
      ]
     },
     "metadata": {},
     "output_type": "display_data"
    },
    {
     "data": {
      "text/html": [
       "<font color=\"#38C600\">a</font> <font color=\"#28D600\">single</font> <font color=\"#FF0000\">soothe</font> <font color=\"#DD2100\">has</font> <font color=\"#F40A00\">iron</font> <font color=\"#C13D00\">rods</font> <font color=\"#778700\">and</font> <font color=\"#F70700\">wraps</font>"
      ]
     },
     "metadata": {},
     "output_type": "display_data"
    }
   ],
   "source": [
    "colorizeVector = function(vector){\n",
    "    colorramp = colorRampPalette(c(\"green\", \"red\"))(n = 101)\n",
    "    quantiles = quantile(vector, probs=seq(0,1,.01), na.rm=T)\n",
    "    percentile_limits = sapply(vector, function(x){\n",
    "        which.max(x <= quantiles)\t\n",
    "    })\n",
    "    percentile = sapply(percentile_limits, function(x){ifelse(length(x) > 0, x, NA)})\n",
    "    colors = colorramp[percentile]\n",
    "    return(colors)\n",
    "}\n",
    "wdfs$color = colorizeVector(wdfs$predicted)\n",
    "\n",
    "colorizeSentence = function(df, sentenceIndex, format = 'HTML'){\n",
    "    sentence = subset(df, sentence_index == sentenceIndex)\n",
    "    sentence = sentence[order(sentence$bnc_unigram_index),]\n",
    "    if (format =='HTML'){\n",
    "        html_pieces = paste0('<font color=\"',sentence$color,'\">',sentence$word, '</font>')    \n",
    "        return(paste(html_pieces, collapse =' '))\n",
    "    } else if (format == 'latex'){\n",
    "        latex_pieces = paste0('{color[HTML]{',gsub('#','',sentence$color),'}',sentence$word,'}')\n",
    "        #{\\color[HTML]{color}text}\n",
    "        return(paste(latex_pieces, collapse =' '))\n",
    "    }\n",
    "}\n",
    "\n",
    "colorizeSentence(wdfs,1661,'latex')\n",
    "display_html(colorizeSentence(wdfs,1661))"
   ]
  },
  {
   "cell_type": "markdown",
   "metadata": {},
   "source": [
    "# Mixed Effects Logistic Regression Model"
   ]
  },
  {
   "cell_type": "code",
   "execution_count": 19,
   "metadata": {},
   "outputs": [
    {
     "name": "stdout",
     "output_type": "stream",
     "text": [
      " [1] \"one\"                                          \n",
      " [2] \"word\"                                         \n",
      " [3] \"bnc_unigram_prob\"                             \n",
      " [4] \"bnc_trigram_prob\"                             \n",
      " [5] \"roark_scores_SynSp\"                           \n",
      " [6] \"roark_scores_LexSp\"                           \n",
      " [7] \"big_lm_scores_prob\"                           \n",
      " [8] \"kenlm_scores_prob\"                            \n",
      " [9] \"sCounter\"                                     \n",
      "[10] \"kpm_aoa_kup\"                                  \n",
      "[11] \"kpm_nphon\"                                    \n",
      "[12] \"kpm_nsyll\"                                    \n",
      "[13] \"conc_conc_m\"                                  \n",
      "[14] \"pld20\"                                        \n",
      "[15] \"SUBTLCD\"                                      \n",
      "[16] \"normalized_biglm_probability\"                 \n",
      "[17] \"normalized_WSJ_Roark_Negative.Log.Probability\"\n",
      "[18] \"normalized_BNC_KNN_unigramProb\"               \n",
      "[19] \"normalized_BNC_KNN_trigramProb\"               \n",
      "[20] \"normalized_kenlm_probability\"                 \n",
      "[21] \"normalized_bllip_probability\"                 \n",
      "[22] \"normalized_bllip_wsj_probability\"             \n",
      "[23] \"normalized_mikolov_wsj_probability\"           \n",
      "[24] \"pic_ipa_ss\"                                   \n",
      "[25] \"kenlm_scores_prob.1\"                          \n",
      "[26] \"changed\"                                      \n",
      "[1] 27290\n"
     ]
    }
   ],
   "source": [
    "print(names(wdf))\n",
    "print(nrow(wdf))"
   ]
  },
  {
   "cell_type": "code",
   "execution_count": 20,
   "metadata": {},
   "outputs": [],
   "source": [
    "# add residuals \n",
    "wdf$resid_bnc_trigram_prob = lm(bnc_trigram_prob ~ bnc_unigram_prob, data=wdf)$residuals\n",
    "\n",
    "for (structuredModel in c('roark_scores_SynSp','big_lm_scores_prob','kenlm_scores_prob')){\n",
    "    wdf[[paste0('resid_',structuredModel)]] = lm(as.formula(paste0(structuredModel, \n",
    "        ' ~ bnc_trigram_prob + bnc_unigram_prob')), data=wdf)$residuals\n",
    "}"
   ]
  },
  {
   "cell_type": "code",
   "execution_count": 21,
   "metadata": {},
   "outputs": [],
   "source": [
    "wdf$subject_id = as.factor(wdfs$user)\n",
    "wdf$upstream_subject_id = as.factor(wdfs$upstream_subject_id)\n",
    "\n",
    "mixed_model <- glmer(changed ~ bnc_unigram_prob + resid_bnc_trigram_prob + resid_roark_scores_SynSp \n",
    "+ resid_big_lm_scores_prob + resid_kenlm_scores_prob + sCounter + kpm_aoa_kup + kpm_nphon + kpm_nsyll + conc_conc_m + pld20 \n",
    "+ (1|subject_id) + (1|upstream_subject_id)\n",
    ",family=binomial(link='logit'),data=wdf, control=glmerControl(optimizer=\"bobyqa\",\n",
    "                            optCtrl=list(maxfun=2e5)))"
   ]
  },
  {
   "cell_type": "code",
   "execution_count": 22,
   "metadata": {},
   "outputs": [],
   "source": [
    "# how useful is knowing the probability of the sentence -- takes forever to run\n",
    "#+ normalized_biglm_probability + normalized_WSJ_Roark_Negative.Log.Probability \n",
    "#+ normalized_BNC_KNN_unigramProb + normalized_BNC_KNN_trigramProb \n",
    "#+ normalized_kenlm_probability + normalized_bllip_probability\n",
    "#+ normalized_bllip_wsj_probability + normalized_mikolov_wsj_probability        "
   ]
  },
  {
   "cell_type": "code",
   "execution_count": 23,
   "metadata": {},
   "outputs": [
    {
     "data": {
      "text/plain": [
       "Generalized linear mixed model fit by maximum likelihood (Laplace\n",
       "  Approximation) [glmerMod]\n",
       " Family: binomial  ( logit )\n",
       "Formula: \n",
       "changed ~ bnc_unigram_prob + resid_bnc_trigram_prob + resid_roark_scores_SynSp +  \n",
       "    resid_big_lm_scores_prob + resid_kenlm_scores_prob + sCounter +  \n",
       "    kpm_aoa_kup + kpm_nphon + kpm_nsyll + conc_conc_m + pld20 +  \n",
       "    (1 | subject_id) + (1 | upstream_subject_id)\n",
       "   Data: wdf\n",
       "Control: glmerControl(optimizer = \"bobyqa\", optCtrl = list(maxfun = 2e+05))\n",
       "\n",
       "     AIC      BIC   logLik deviance df.resid \n",
       " 23504.8  23619.8 -11738.4  23476.8    27276 \n",
       "\n",
       "Scaled residuals: \n",
       "    Min      1Q  Median      3Q     Max \n",
       "-1.7924 -0.4763 -0.3563 -0.2505  7.2071 \n",
       "\n",
       "Random effects:\n",
       " Groups              Name        Variance Std.Dev.\n",
       " subject_id          (Intercept) 0.38308  0.6189  \n",
       " upstream_subject_id (Intercept) 0.08795  0.2966  \n",
       "Number of obs: 27290, groups:  subject_id, 261; upstream_subject_id, 258\n",
       "\n",
       "Fixed effects:\n",
       "                          Estimate Std. Error z value Pr(>|z|)    \n",
       "(Intercept)              -2.655398   0.093333 -28.451  < 2e-16 ***\n",
       "bnc_unigram_prob          0.382704   0.022186  17.250  < 2e-16 ***\n",
       "resid_bnc_trigram_prob    0.372890   0.019253  19.368  < 2e-16 ***\n",
       "resid_roark_scores_SynSp  0.115856   0.026555   4.363 1.28e-05 ***\n",
       "resid_big_lm_scores_prob  0.195896   0.018109  10.817  < 2e-16 ***\n",
       "resid_kenlm_scores_prob   0.159325   0.026238   6.072 1.26e-09 ***\n",
       "sCounter                  0.098914   0.006352  15.571  < 2e-16 ***\n",
       "kpm_aoa_kup               0.054416   0.013743   3.959 7.51e-05 ***\n",
       "kpm_nphon                -0.060871   0.023061  -2.640   0.0083 ** \n",
       "kpm_nsyll                -0.248999   0.050687  -4.912 8.99e-07 ***\n",
       "conc_conc_m              -0.085551   0.019179  -4.461 8.17e-06 ***\n",
       "pld20                    -0.094789   0.042714  -2.219   0.0265 *  \n",
       "---\n",
       "Signif. codes:  0 ‘***’ 0.001 ‘**’ 0.01 ‘*’ 0.05 ‘.’ 0.1 ‘ ’ 1\n",
       "\n",
       "Correlation of Fixed Effects:\n",
       "            (Intr) bnc_n_ rsd_b__ r___SS rs____ rsd_k__ sContr kpm__k kpm_np\n",
       "bnc_ngrm_pr -0.007                                                          \n",
       "rsd_bnc_tr_ -0.036 -0.101                                                   \n",
       "rsd_rrk__SS -0.080  0.000 -0.023                                            \n",
       "rsd_bg_lm__ -0.070  0.024  0.068  -0.075                                    \n",
       "rsd_knlm_s_  0.045  0.053  0.026  -0.009 -0.249                             \n",
       "sCounter    -0.264 -0.011  0.109   0.027  0.283  0.018                      \n",
       "kpm_aoa_kup -0.422 -0.280  0.022   0.053  0.061 -0.055   0.008              \n",
       "kpm_nphon    0.163 -0.494  0.066  -0.013  0.005 -0.049   0.005 -0.001       \n",
       "kpm_nsyll   -0.036  0.069 -0.060  -0.028 -0.047  0.004  -0.008 -0.157 -0.503\n",
       "conc_conc_m -0.346 -0.500  0.076   0.037 -0.071 -0.016  -0.039  0.086  0.027\n",
       "pld20       -0.283  0.145 -0.042   0.058 -0.035 -0.012  -0.025 -0.047 -0.428\n",
       "            kpm_ns cnc_c_\n",
       "bnc_ngrm_pr              \n",
       "rsd_bnc_tr_              \n",
       "rsd_rrk__SS              \n",
       "rsd_bg_lm__              \n",
       "rsd_knlm_s_              \n",
       "sCounter                 \n",
       "kpm_aoa_kup              \n",
       "kpm_nphon                \n",
       "kpm_nsyll                \n",
       "conc_conc_m -0.011       \n",
       "pld20       -0.254  0.137"
      ]
     },
     "metadata": {},
     "output_type": "display_data"
    }
   ],
   "source": [
    "summary(mixed_model)"
   ]
  },
  {
   "cell_type": "code",
   "execution_count": 24,
   "metadata": {},
   "outputs": [
    {
     "data": {
      "text/html": [
       "<font color=\"#9B6300\">each</font> <font color=\"#EF0F00\">nonfiction</font> <font color=\"#44BA00\">book</font> <font color=\"#56A800\">has</font> <font color=\"#47B700\">a</font> <font color=\"#DB2300\">call</font> <font color=\"#996600\">number</font> <font color=\"#A35B00\">on</font> <font color=\"#B54900\">its</font> <font color=\"#F70700\">spine</font>"
      ]
     },
     "metadata": {},
     "output_type": "display_data"
    },
    {
     "data": {
      "text/html": [
       "<font color=\"#38C600\">a</font> <font color=\"#2BD300\">dietitian</font> <font color=\"#D32B00\">goes</font> <font color=\"#56A800\">to</font> <font color=\"#CC3200\">college</font> <font color=\"#758900\">for</font> <font color=\"#E51900\">at</font> <font color=\"#897500\">least</font> <font color=\"#C63800\">four</font> <font color=\"#827C00\">years</font>"
      ]
     },
     "metadata": {},
     "output_type": "display_data"
    },
    {
     "data": {
      "text/html": [
       "<font color=\"#0FEF00\">the</font> <font color=\"#F40A00\">iris</font> <font color=\"#DB2300\">absorbs</font> <font color=\"#A35B00\">all</font> <font color=\"#7A8400\">of</font> <font color=\"#42BC00\">the</font> <font color=\"#7A8400\">light</font> <font color=\"#E51900\">waves</font> <font color=\"#EF0F00\">except</font> <font color=\"#F40A00\">blue</font>"
      ]
     },
     "metadata": {},
     "output_type": "display_data"
    },
    {
     "data": {
      "text/html": [
       "<font color=\"#56A800\">some</font> <font color=\"#F40A00\">acids</font> <font color=\"#B74700\">you</font> <font color=\"#4FAF00\">may</font> <font color=\"#996600\">know</font> <font color=\"#E51900\">are</font> <font color=\"#E51900\">vinegar</font> <font color=\"#7F7F00\">and</font> <font color=\"#AF4F00\">lemon</font> <font color=\"#33CC00\">juice</font>"
      ]
     },
     "metadata": {},
     "output_type": "display_data"
    },
    {
     "data": {
      "text/html": [
       "<font color=\"#0CF200\">the</font> <font color=\"#ED1100\">chase</font> <font color=\"#CC3200\">leads</font> <font color=\"#778700\">across</font> <font color=\"#56A800\">a</font> <font color=\"#5BA300\">field</font> <font color=\"#D12D00\">toward</font> <font color=\"#669900\">a</font> <font color=\"#CC3200\">nearby</font> <font color=\"#996600\">farm</font>"
      ]
     },
     "metadata": {},
     "output_type": "display_data"
    },
    {
     "data": {
      "text/html": [
       "<font color=\"#966800\">your</font> <font color=\"#C63800\">teeth</font> <font color=\"#847A00\">begin</font> <font color=\"#6B9300\">breaking</font> <font color=\"#47B700\">up</font> <font color=\"#728C00\">the</font> <font color=\"#8E7000\">food</font> <font color=\"#EA1400\">by</font> <font color=\"#EF0F00\">chewing</font> <font color=\"#F70700\">it</font>"
      ]
     },
     "metadata": {},
     "output_type": "display_data"
    },
    {
     "data": {
      "text/html": [
       "<font color=\"#0FEF00\">the</font> <font color=\"#D12D00\">raspberry</font> <font color=\"#897500\">leaves</font> <font color=\"#B54900\">are</font> <font color=\"#6B9300\">not</font> <font color=\"#56A800\">very</font> <font color=\"#708E00\">tasty</font> <font color=\"#D32B00\">to</font> <font color=\"#B54900\">a</font> <font color=\"#C93500\">rabbit</font>"
      ]
     },
     "metadata": {},
     "output_type": "display_data"
    },
    {
     "data": {
      "text/html": [
       "<font color=\"#38C600\">a</font> <font color=\"#A55900\">fly</font> <font color=\"#966800\">buzzed</font> <font color=\"#609E00\">over</font> <font color=\"#28D600\">the</font> <font color=\"#FF0000\">oilcloth</font> <font color=\"#916D00\">on</font> <font color=\"#689600\">the</font> <font color=\"#B24C00\">kitchen</font> <font color=\"#05F900\">table</font>"
      ]
     },
     "metadata": {},
     "output_type": "display_data"
    },
    {
     "data": {
      "text/html": [
       "<font color=\"#0FEF00\">the</font> <font color=\"#DD2100\">brain</font> <font color=\"#D32B00\">helps</font> <font color=\"#BC4200\">all</font> <font color=\"#AF4F00\">parts</font> <font color=\"#21DD00\">of</font> <font color=\"#30CE00\">the</font> <font color=\"#07F700\">body</font> <font color=\"#DD2100\">work</font> <font color=\"#3AC400\">together</font>"
      ]
     },
     "metadata": {},
     "output_type": "display_data"
    },
    {
     "data": {
      "text/html": [
       "<font color=\"#9E6000\">often</font> <font color=\"#21DD00\">the</font> <font color=\"#A85600\">village</font> <font color=\"#51AD00\">was</font> <font color=\"#A05E00\">burned</font> <font color=\"#4FAF00\">to</font> <font color=\"#5EA000\">the</font> <font color=\"#02FC00\">ground</font> <font color=\"#AA5400\">by</font> <font color=\"#F20C00\">fires</font>"
      ]
     },
     "metadata": {},
     "output_type": "display_data"
    },
    {
     "data": {
      "text/html": [
       "<font color=\"#E51900\">goods</font> <font color=\"#35C900\">are</font> <font color=\"#9E6000\">exchanged</font> <font color=\"#44BA00\">in</font> <font color=\"#2BD300\">the</font> <font color=\"#3FBF00\">market</font> <font color=\"#49B500\">place</font> <font color=\"#B24C00\">of</font> <font color=\"#D62800\">an</font> <font color=\"#F20C00\">oasis</font>"
      ]
     },
     "metadata": {},
     "output_type": "display_data"
    },
    {
     "data": {
      "text/html": [
       "<font color=\"#3AC400\">you</font> <font color=\"#51AD00\">may</font> <font color=\"#21DD00\">not</font> <font color=\"#28D600\">notice</font> <font color=\"#996600\">yourself</font> <font color=\"#E21C00\">growing</font> <font color=\"#B24C00\">from</font> <font color=\"#D62800\">day</font> <font color=\"#6B9300\">to</font> <font color=\"#30CE00\">day</font>"
      ]
     },
     "metadata": {},
     "output_type": "display_data"
    },
    {
     "data": {
      "text/html": [
       "<font color=\"#0CF200\">the</font> <font color=\"#38C600\">discovery</font> <font color=\"#1CE200\">of</font> <font color=\"#8C7200\">oil</font> <font color=\"#7C8200\">has</font> <font color=\"#936B00\">caused</font> <font color=\"#877700\">many</font> <font color=\"#BA4400\">cities</font> <font color=\"#8E7000\">to</font> <font color=\"#EA1400\">grow</font>"
      ]
     },
     "metadata": {},
     "output_type": "display_data"
    },
    {
     "data": {
      "text/html": [
       "<font color=\"#3DC100\">they</font> <font color=\"#2DD100\">can</font> <font color=\"#639B00\">read</font> <font color=\"#728C00\">the</font> <font color=\"#3FBF00\">label</font> <font color=\"#54AA00\">and</font> <font color=\"#B74700\">use</font> <font color=\"#9E6000\">the</font> <font color=\"#5BA300\">medicine</font> <font color=\"#FC0200\">safely</font>"
      ]
     },
     "metadata": {},
     "output_type": "display_data"
    },
    {
     "data": {
      "text/html": [
       "<font color=\"#38C600\">a</font> <font color=\"#9E6000\">county</font> <font color=\"#CE3000\">may</font> <font color=\"#14EA00\">have</font> <font color=\"#669900\">several</font> <font color=\"#D62800\">towns</font> <font color=\"#AD5100\">or</font> <font color=\"#14EA00\">cities</font> <font color=\"#AA5400\">within</font> <font color=\"#D62800\">it</font>"
      ]
     },
     "metadata": {},
     "output_type": "display_data"
    },
    {
     "data": {
      "text/html": [
       "<font color=\"#897500\">now</font> <font color=\"#54AA00\">the</font> <font color=\"#C13D00\">plane</font> <font color=\"#59A500\">was</font> <font color=\"#56A800\">going</font> <font color=\"#B74700\">one</font> <font color=\"#A85600\">thousand</font> <font color=\"#59A500\">miles</font> <font color=\"#CC3200\">an</font> <font color=\"#07F700\">hour</font>"
      ]
     },
     "metadata": {},
     "output_type": "display_data"
    },
    {
     "data": {
      "text/html": [
       "<font color=\"#0CF200\">the</font> <font color=\"#BF3F00\">molecules</font> <font color=\"#3FBF00\">that</font> <font color=\"#7A8400\">make</font> <font color=\"#05F900\">up</font> <font color=\"#38C600\">the</font> <font color=\"#AD5100\">matter</font> <font color=\"#D82600\">do</font> <font color=\"#7A8400\">not</font> <font color=\"#C63800\">change</font>"
      ]
     },
     "metadata": {},
     "output_type": "display_data"
    },
    {
     "data": {
      "text/html": [
       "<font color=\"#0FEF00\">the</font> <font color=\"#8E7000\">captain</font> <font color=\"#CC3200\">closed</font> <font color=\"#2BD300\">the</font> <font color=\"#07F700\">door</font> <font color=\"#14EA00\">behind</font> <font color=\"#9B6300\">us</font> <font color=\"#708E00\">and</font> <font color=\"#EA1400\">bolted</font> <font color=\"#D82600\">it</font>"
      ]
     },
     "metadata": {},
     "output_type": "display_data"
    },
    {
     "data": {
      "text/html": [
       "<font color=\"#11ED00\">the</font> <font color=\"#AA5400\">third</font> <font color=\"#758900\">and</font> <font color=\"#02FC00\">fourth</font> <font color=\"#E51900\">waves</font> <font color=\"#D82600\">seemed</font> <font color=\"#30CE00\">to</font> <font color=\"#56A800\">be</font> <font color=\"#AA5400\">the</font> <font color=\"#BC4200\">highest</font>"
      ]
     },
     "metadata": {},
     "output_type": "display_data"
    },
    {
     "data": {
      "text/html": [
       "<font color=\"#A35B00\">how</font> <font color=\"#669900\">do</font> <font color=\"#02FC00\">you</font> <font color=\"#19E500\">know</font> <font color=\"#7F7F00\">the</font> <font color=\"#14EA00\">difference</font> <font color=\"#02FC00\">between</font> <font color=\"#EF0F00\">hot</font> <font color=\"#669900\">and</font> <font color=\"#1CE200\">cold</font>"
      ]
     },
     "metadata": {},
     "output_type": "display_data"
    },
    {
     "data": {
      "text/html": [
       "<font color=\"#D82600\">meadow</font> <font color=\"#EF0F00\">mice</font> <font color=\"#42BC00\">and</font> <font color=\"#D12D00\">gophers</font> <font color=\"#C13D00\">eat</font> <font color=\"#708E00\">the</font> <font color=\"#E81600\">roots</font> <font color=\"#5EA000\">of</font> <font color=\"#D62800\">some</font> <font color=\"#EA1400\">weeds</font>"
      ]
     },
     "metadata": {},
     "output_type": "display_data"
    },
    {
     "data": {
      "text/html": [
       "<font color=\"#F20C00\">stainless</font> <font color=\"#02FC00\">steel</font> <font color=\"#30CE00\">is</font> <font color=\"#847A00\">an</font> <font color=\"#847A00\">iron</font> <font color=\"#E51900\">alloy</font> <font color=\"#8C7200\">that</font> <font color=\"#C93500\">does</font> <font color=\"#30CE00\">not</font> <font color=\"#F70700\">rust</font>"
      ]
     },
     "metadata": {},
     "output_type": "display_data"
    },
    {
     "data": {
      "text/html": [
       "<font color=\"#16E800\">he</font> <font color=\"#ED1100\">rides</font> <font color=\"#A55900\">his</font> <font color=\"#996600\">golden</font> <font color=\"#A85600\">chariot</font> <font color=\"#B54900\">across</font> <font color=\"#33CC00\">the</font> <font color=\"#8E7000\">sky</font> <font color=\"#E81600\">each</font> <font color=\"#38C600\">day</font>"
      ]
     },
     "metadata": {},
     "output_type": "display_data"
    },
    {
     "data": {
      "text/html": [
       "<font color=\"#3FBF00\">they</font> <font color=\"#689600\">went</font> <font color=\"#19E500\">on</font> <font color=\"#38C600\">a</font> <font color=\"#827C00\">short</font> <font color=\"#F90500\">hike</font> <font color=\"#BA4400\">one</font> <font color=\"#F90500\">warm</font> <font color=\"#A85600\">autumn</font> <font color=\"#23DB00\">afternoon</font>"
      ]
     },
     "metadata": {},
     "output_type": "display_data"
    },
    {
     "data": {
      "text/html": [
       "<font color=\"#0FEF00\">the</font> <font color=\"#C93500\">nearest</font> <font color=\"#F40A00\">patch</font> <font color=\"#4CB200\">of</font> <font color=\"#D82600\">native</font> <font color=\"#669900\">grasses</font> <font color=\"#728C00\">is</font> <font color=\"#C93500\">not</font> <font color=\"#B24C00\">far</font> <font color=\"#3FBF00\">away</font>"
      ]
     },
     "metadata": {},
     "output_type": "display_data"
    },
    {
     "data": {
      "text/html": [
       "<font color=\"#C43A00\">failure</font> <font color=\"#07F700\">to</font> <font color=\"#7C8200\">be</font> <font color=\"#44BA00\">informed</font> <font color=\"#7F7F00\">on</font> <font color=\"#F20C00\">tax</font> <font color=\"#609E00\">matters</font> <font color=\"#EA1400\">can</font> <font color=\"#4CB200\">be</font> <font color=\"#E21C00\">costly</font>"
      ]
     },
     "metadata": {},
     "output_type": "display_data"
    },
    {
     "data": {
      "text/html": [
       "<font color=\"#609E00\">someone</font> <font color=\"#A05E00\">probably</font> <font color=\"#7A8400\">will</font> <font color=\"#936B00\">hear</font> <font color=\"#6D9100\">you</font> <font color=\"#E51900\">if</font> <font color=\"#16E800\">you</font> <font color=\"#F90500\">yell</font> <font color=\"#CC3200\">for</font> <font color=\"#CC3200\">help</font>"
      ]
     },
     "metadata": {},
     "output_type": "display_data"
    },
    {
     "data": {
      "text/html": [
       "<font color=\"#3DC100\">they</font> <font color=\"#6B9300\">may</font> <font color=\"#A35B00\">extend</font> <font color=\"#6D9100\">across</font> <font color=\"#1CE200\">the</font> <font color=\"#7C8200\">whole</font> <font color=\"#BF3F00\">width</font> <font color=\"#30CE00\">of</font> <font color=\"#CC3200\">a</font> <font color=\"#E01E00\">glacier</font>"
      ]
     },
     "metadata": {},
     "output_type": "display_data"
    },
    {
     "data": {
      "text/html": [
       "<font color=\"#F40A00\">falls</font> <font color=\"#6B9300\">are</font> <font color=\"#5EA000\">one</font> <font color=\"#AF4F00\">kind</font> <font color=\"#14EA00\">of</font> <font color=\"#6B9300\">accident</font> <font color=\"#EA1400\">you</font> <font color=\"#56A800\">can</font> <font color=\"#A85600\">help</font> <font color=\"#BA4400\">prevent</font>"
      ]
     },
     "metadata": {},
     "output_type": "display_data"
    },
    {
     "data": {
      "text/html": [
       "<font color=\"#BA4400\">models</font> <font color=\"#0AF400\">of</font> <font color=\"#E81600\">atoms</font> <font color=\"#4CB200\">are</font> <font color=\"#A35B00\">much</font> <font color=\"#0AF400\">larger</font> <font color=\"#23DB00\">than</font> <font color=\"#54AA00\">the</font> <font color=\"#D82600\">real</font> <font color=\"#47B700\">thing</font>"
      ]
     },
     "metadata": {},
     "output_type": "display_data"
    },
    {
     "data": {
      "text/html": [
       "<font color=\"#3AC400\">you</font> <font color=\"#669900\">get</font> <font color=\"#669900\">that</font> <font color=\"#9E6000\">energy</font> <font color=\"#CC3200\">when</font> <font color=\"#21DD00\">you</font> <font color=\"#C63800\">eat</font> <font color=\"#D82600\">foods</font> <font color=\"#BF3F00\">from</font> <font color=\"#916D00\">animals</font>"
      ]
     },
     "metadata": {},
     "output_type": "display_data"
    },
    {
     "data": {
      "text/html": [
       "<font color=\"#8C7200\">now</font> <font color=\"#5EA000\">she</font> <font color=\"#A05E00\">wondered</font> <font color=\"#2BD300\">if</font> <font color=\"#33CC00\">he</font> <font color=\"#D12D00\">cared</font> <font color=\"#16E800\">about</font> <font color=\"#4FAF00\">anything</font> <font color=\"#AA5400\">she</font> <font color=\"#D62800\">did</font>"
      ]
     },
     "metadata": {},
     "output_type": "display_data"
    },
    {
     "data": {
      "text/html": [
       "<font color=\"#0AF400\">the</font> <font color=\"#9E6000\">two</font> <font color=\"#5EA000\">major</font> <font color=\"#8C7200\">forms</font> <font color=\"#1CE200\">of</font> <font color=\"#E21C00\">drama</font> <font color=\"#936B00\">are</font> <font color=\"#F70700\">tragedy</font> <font color=\"#7C8200\">and</font> <font color=\"#2DD100\">comedy</font>"
      ]
     },
     "metadata": {},
     "output_type": "display_data"
    },
    {
     "data": {
      "text/html": [
       "<font color=\"#35C900\">consumers</font> <font color=\"#B24C00\">look</font> <font color=\"#28D600\">for</font> <font color=\"#35C900\">the</font> <font color=\"#4FAF00\">best</font> <font color=\"#9E6000\">buys</font> <font color=\"#639B00\">in</font> <font color=\"#B74700\">an</font> <font color=\"#6D9100\">open</font> <font color=\"#16E800\">market</font>"
      ]
     },
     "metadata": {},
     "output_type": "display_data"
    },
    {
     "data": {
      "text/html": [
       "<font color=\"#728C00\">all</font> <font color=\"#49B500\">experiments</font> <font color=\"#758900\">must</font> <font color=\"#BF3F00\">test</font> <font color=\"#A05E00\">only</font> <font color=\"#59A500\">one</font> <font color=\"#DD2100\">factor</font> <font color=\"#BF3F00\">at</font> <font color=\"#B74700\">a</font> <font color=\"#8C7200\">time</font>"
      ]
     },
     "metadata": {},
     "output_type": "display_data"
    },
    {
     "data": {
      "text/html": [
       "<font color=\"#11ED00\">the</font> <font color=\"#E81600\">oceans</font> <font color=\"#59A500\">of</font> <font color=\"#16E800\">the</font> <font color=\"#05F900\">world</font> <font color=\"#DB2300\">provide</font> <font color=\"#9B6300\">us</font> <font color=\"#28D600\">with</font> <font color=\"#8E7000\">many</font> <font color=\"#A35B00\">things</font>"
      ]
     },
     "metadata": {},
     "output_type": "display_data"
    },
    {
     "data": {
      "text/html": [
       "<font color=\"#38C600\">a</font> <font color=\"#54AA00\">contract</font> <font color=\"#2BD300\">is</font> <font color=\"#49B500\">an</font> <font color=\"#02FC00\">agreement</font> <font color=\"#9E6000\">which</font> <font color=\"#51AD00\">is</font> <font color=\"#CE3000\">enforced</font> <font color=\"#6B9300\">by</font> <font color=\"#DD2100\">law</font>"
      ]
     },
     "metadata": {},
     "output_type": "display_data"
    },
    {
     "data": {
      "text/html": [
       "<font color=\"#916D00\">then</font> <font color=\"#30CE00\">she</font> <font color=\"#639B00\">would</font> <font color=\"#758900\">walk</font> <font color=\"#897500\">slowly</font> <font color=\"#6D9100\">and</font> <font color=\"#BF3F00\">smoothly</font> <font color=\"#A85600\">to</font> <font color=\"#877700\">the</font> <font color=\"#DB2300\">park</font>"
      ]
     },
     "metadata": {},
     "output_type": "display_data"
    },
    {
     "data": {
      "text/html": [
       "<font color=\"#3DC100\">they</font> <font color=\"#639B00\">found</font> <font color=\"#23DB00\">that</font> <font color=\"#609E00\">they</font> <font color=\"#23DB00\">had</font> <font color=\"#A35B00\">many</font> <font color=\"#9B6300\">of</font> <font color=\"#42BC00\">the</font> <font color=\"#9B6300\">same</font> <font color=\"#C63800\">interests</font>"
      ]
     },
     "metadata": {},
     "output_type": "display_data"
    },
    {
     "data": {
      "text/html": [
       "<font color=\"#16E800\">he</font> <font color=\"#689600\">could</font> <font color=\"#19E500\">see</font> <font color=\"#47B700\">that</font> <font color=\"#9B6300\">they</font> <font color=\"#28D600\">were</font> <font color=\"#778700\">determined</font> <font color=\"#35C900\">to</font> <font color=\"#C43A00\">turn</font> <font color=\"#BC4200\">back</font>"
      ]
     },
     "metadata": {},
     "output_type": "display_data"
    }
   ],
   "source": [
    "wdfs$me_predicted = predict(mixed_model, wdf, type='response')\n",
    "initial_sentences = subset(wdfs, upstream_pointer ==-1 & global_chain ==0)\n",
    "\n",
    "colHTMLStore = mat.or.vec(20,1)\n",
    "for (sid in c(0:39)){\n",
    "    target_index = unique(subset(initial_sentences, stimulus_id == sid)$sentence_index)\n",
    "    \n",
    "    if (sid <= 20){\n",
    "         colHTMLStore[sid] = colorizeSentence(wdfs, target_index, format='latex')   \n",
    "    }\n",
    "    colorHTML = colorizeSentence(wdfs,target_index)\n",
    "    display_html(colorHTML)\n",
    "}\n",
    "\n",
    "write(paste0(colHTMLStore, collapse='\\n \\\\\\\\ \\n'), file = \"figures/logisticRegression.txt\")"
   ]
  },
  {
   "cell_type": "code",
   "execution_count": 25,
   "metadata": {},
   "outputs": [
    {
     "name": "stderr",
     "output_type": "stream",
     "text": [
      "Setting levels: control = 0, case = 1\n",
      "\n",
      "Setting direction: controls < cases\n",
      "\n"
     ]
    },
    {
     "name": "stdout",
     "output_type": "stream",
     "text": [
      "\n",
      "Call:\n",
      "roc.formula(formula = change ~ prob, data = df)\n",
      "\n",
      "Data: prob in 22482 controls (change 0) < 4808 cases (change 1).\n",
      "Area under the curve: 0.7237\n"
     ]
    },
    {
     "data": {
      "text/html": [
       "0.723725093034309"
      ],
      "text/latex": [
       "0.723725093034309"
      ],
      "text/markdown": [
       "0.723725093034309"
      ],
      "text/plain": [
       "Area under the curve: 0.7237"
      ]
     },
     "metadata": {},
     "output_type": "display_data"
    },
    {
     "data": {
      "image/png": "[encoded data removed]",
      "text/plain": [
       "plot without title"
      ]
     },
     "metadata": {
      "image/png": {
       "height": 420,
       "width": 420
      },
      "text/plain": {
       "height": 420,
       "width": 420
      }
     },
     "output_type": "display_data"
    }
   ],
   "source": [
    "wdfs$me_predicted = predict(mixed_model, wdf, type='response')\n",
    "df = data.frame(prob=wdfs$me_predicted, change=wdfs$change)\n",
    "g <- roc(change ~prob, data = df)\n",
    "print(plot(g))\n",
    "auc(g)"
   ]
  },
  {
   "cell_type": "code",
   "execution_count": 26,
   "metadata": {},
   "outputs": [],
   "source": [
    "mixed_model_nolms <- glmer(changed ~ sCounter + kpm_aoa_kup + kpm_nphon + kpm_nsyll + conc_conc_m + pld20 \n",
    "+ (1|subject_id) + (1|upstream_subject_id)\n",
    ",family=binomial(link='logit'),data=wdf, control=glmerControl(optimizer=\"bobyqa\",\n",
    "                            optCtrl=list(maxfun=2e5)))"
   ]
  },
  {
   "cell_type": "code",
   "execution_count": 27,
   "metadata": {},
   "outputs": [
    {
     "name": "stderr",
     "output_type": "stream",
     "text": [
      "Setting levels: control = 0, case = 1\n",
      "\n",
      "Setting direction: controls < cases\n",
      "\n"
     ]
    },
    {
     "name": "stdout",
     "output_type": "stream",
     "text": [
      "\n",
      "Call:\n",
      "roc.formula(formula = change ~ prob, data = df)\n",
      "\n",
      "Data: prob in 22482 controls (change 0) < 4808 cases (change 1).\n",
      "Area under the curve: 0.6876\n"
     ]
    },
    {
     "data": {
      "text/html": [
       "0.687633190301548"
      ],
      "text/latex": [
       "0.687633190301548"
      ],
      "text/markdown": [
       "0.687633190301548"
      ],
      "text/plain": [
       "Area under the curve: 0.6876"
      ]
     },
     "metadata": {},
     "output_type": "display_data"
    },
    {
     "data": {
      "image/png": "[encoded data removed]",
      "text/plain": [
       "plot without title"
      ]
     },
     "metadata": {
      "image/png": {
       "height": 420,
       "width": 420
      },
      "text/plain": {
       "height": 420,
       "width": 420
      }
     },
     "output_type": "display_data"
    }
   ],
   "source": [
    "wdfs$nolms_predicted = predict(mixed_model_nolms, wdf, type='response')\n",
    "df = data.frame(prob=wdfs$nolms_predicted, change=wdfs$change)\n",
    "g <- roc(change ~prob, data = df)\n",
    "print(plot(g))\n",
    "auc(g)"
   ]
  },
  {
   "cell_type": "code",
   "execution_count": 28,
   "metadata": {},
   "outputs": [
    {
     "name": "stderr",
     "output_type": "stream",
     "text": [
      "\n",
      "Attaching package: ‘lmerTest’\n",
      "\n",
      "\n",
      "The following object is masked from ‘package:lme4’:\n",
      "\n",
      "    lmer\n",
      "\n",
      "\n",
      "The following object is masked from ‘package:stats’:\n",
      "\n",
      "    step\n",
      "\n",
      "\n"
     ]
    },
    {
     "name": "stdout",
     "output_type": "stream",
     "text": [
      " [1] \"(Intercept)\"                                \n",
      " [2] \"BNC unigram surprisal\"                      \n",
      " [3] \"Residualized BNC trigram surprisal\"         \n",
      " [4] \"Residualized Roark PCFG syntactic surprisal\"\n",
      " [5] \"Residualized Big LM surprisal\"              \n",
      " [6] \"Residualized DS 5-gram surprisal\"           \n",
      " [7] \"Position in sentence\"                       \n",
      " [8] \"Age of acquisition\"                         \n",
      " [9] \"Number of phonemes\"                         \n",
      "[10] \"Number of syllables\"                        \n",
      "[11] \"Concreteness\"                               \n",
      "[12] \"Phonological Neighborhood Density (PLD20)\"  \n",
      "$names\n",
      "[1] \"subject_id\"          \"upstream_subject_id\"\n",
      "\n",
      "$sc\n",
      "[1] 1\n",
      "\n",
      "$useSc\n",
      "[1] FALSE\n",
      "\n",
      "$class\n",
      "[1] \"VarCorr.merMod\"\n",
      "\n",
      "[1] \"Alisases for random variables\"\n",
      "[1] \"Listener ID\" \"Speaker ID\" \n"
     ]
    }
   ],
   "source": [
    "# output the graph\n",
    "source('telephone_analysis.R')\n",
    "\n",
    "replacements = list()\n",
    "replacements[['bnc_unigram_prob']] = 'BNC unigram surprisal'\n",
    "replacements[['resid_bnc_trigram_prob']] = 'Residualized BNC trigram surprisal'\n",
    "replacements[['resid_roark_scores_SynSp']] = 'Residualized Roark PCFG syntactic surprisal'\n",
    "replacements[['resid_big_lm_scores_prob']] = 'Residualized Big LM surprisal'\n",
    "replacements[['resid_kenlm_scores_prob']] = 'Residualized DS 5-gram surprisal'\n",
    "replacements[['sCounter']] = 'Position in sentence'\n",
    "replacements[['kpm_aoa_kup']] = 'Age of acquisition'\n",
    "replacements[['kpm_nphon']] = 'Number of phonemes'\n",
    "replacements[['kpm_nsyll']] = 'Number of syllables'\n",
    "replacements[['conc_conc_m']] = 'Concreteness'\n",
    "replacements[['pld20']] = 'Phonological Neighborhood Density (PLD20)'\n",
    "replacements[['upstream_subject_id']] = 'Speaker ID'\n",
    "replacements[['subject_id']] = 'Listener ID'\n",
    "\n",
    "modelName = \"wordLevel\"\n",
    "wordLevelCaption = 'Mixed-effects logistic regression predicting whether a word will be transmitted successfully on the basis of its surprisal under various language models as well as other word properties. Significance of fixed-effects is computed following \\\\citet{satterthwaite1946}.'\n",
    "wordLevelLabel = 'tab:wordlevel_lm'\n",
    "\n",
    "modelToTable('mixed_logistic', modelName, mixed_model, replacements=replacements,file=paste0('LMs/',modelName,'_lm.tex'), \n",
    "        printVars = T, caption = wordLevelCaption, label = wordLevelLabel, where= 't')\n"
   ]
  },
  {
   "cell_type": "markdown",
   "metadata": {},
   "source": [
    "Cross-validation "
   ]
  },
  {
   "cell_type": "code",
   "execution_count": null,
   "metadata": {},
   "outputs": [],
   "source": [
    "# propotion matches per user"
   ]
  },
  {
   "cell_type": "code",
   "execution_count": 23,
   "metadata": {},
   "outputs": [
    {
     "data": {
      "text/html": [
       "<style>\n",
       ".list-inline {list-style: none; margin:0; padding: 0}\n",
       ".list-inline>li {display: inline-block}\n",
       ".list-inline>li:not(:last-child)::after {content: \"\\00b7\"; padding: 0 .5ex}\n",
       "</style>\n",
       "<ol class=list-inline><li>'M'</li><li>'D'</li><li>'S'</li></ol>\n"
      ],
      "text/latex": [
       "\\begin{enumerate*}\n",
       "\\item 'M'\n",
       "\\item 'D'\n",
       "\\item 'S'\n",
       "\\end{enumerate*}\n"
      ],
      "text/markdown": [
       "1. 'M'\n",
       "2. 'D'\n",
       "3. 'S'\n",
       "\n",
       "\n"
      ],
      "text/plain": [
       "[1] \"M\" \"D\" \"S\""
      ]
     },
     "metadata": {},
     "output_type": "display_data"
    }
   ],
   "source": [
    "(wdfs$code)"
   ]
  },
  {
   "cell_type": "code",
   "execution_count": 32,
   "metadata": {},
   "outputs": [
    {
     "data": {
      "text/html": [
       "<style>\n",
       ".list-inline {list-style: none; margin:0; padding: 0}\n",
       ".list-inline>li {display: inline-block}\n",
       ".list-inline>li:not(:last-child)::after {content: \"\\00b7\"; padding: 0 .5ex}\n",
       "</style>\n",
       "<ol class=list-inline><li>'X'</li><li>'bnc_unigram_index'</li><li>'bnc_unigram_prob'</li><li>'bnc_unigram_word'</li><li>'bnc_trigram_index'</li><li>'bnc_trigram_prob'</li><li>'bnc_trigram_word'</li><li>'roark_scores_prefix'</li><li>'roark_scores_word'</li><li>'roark_scores_prefix.1'</li><li>'roark_scores_srprsl'</li><li>'roark_scores_SynSp'</li><li>'roark_scores_LexSp'</li><li>'roark_scores_ambig'</li><li>'roark_scores_open'</li><li>'roark_scores_rernk'</li><li>'roark_scores_toprr'</li><li>'roark_scores_stps'</li><li>'big_lm_scores_Unnamed..0'</li><li>'big_lm_scores_prob'</li><li>'big_lm_scores_word'</li><li>'kenlm_scores_prob'</li><li>'kenlm_scores_preceding'</li><li>'kenlm_scores_unk'</li><li>'kenlm_scores_words'</li><li>'sCounter'</li><li>'sentence_index'</li><li>'word'</li><li>'code'</li><li>'conc_bigram'</li><li>'conc_conc_m'</li><li>'conc_conc_sd'</li><li>'conc_unknown'</li><li>'conc_total'</li><li>'conc_percent_known'</li><li>'conc_subtlex'</li><li>'conc_dom_pos'</li><li>'kpm_alternative_spelling'</li><li>'kpm_freq_pm'</li><li>'kpm_dom_pos_subtlex'</li><li>'kpm_nletters'</li><li>'kpm_nphon'</li><li>'kpm_nsyll'</li><li>'kpm_lemma_highest_pos'</li><li>'kpm_aoa_kup'</li><li>'kpm_perc_known'</li><li>'kpm_aoa_kup_lem'</li><li>'kpm_perc_known_lem'</li><li>'kpm_aoa_bird_lem'</li><li>'kpm_aoa_bristol_lem'</li><li>'kpm_aoa_cort_lem'</li><li>'kpm_aoa_schock'</li><li>'pic_ipa'</li><li>'pic_ipa_ss_array'</li><li>'pic_ipa_ss'</li><li>'pic_ipa_n'</li><li>'pic_ortho'</li><li>'pic_ortho_ss_array'</li><li>'pic_ortho_ss'</li><li>'pic_ortho_n'</li><li>'pic_character'</li><li>'pic_character_ss_array'</li><li>'pic_character_ss'</li><li>'pic_character_n'</li><li>'lic_mean_surprisal_weighted'</li><li>'lic_mean_surprisal_unweighted'</li><li>'lic_frequency'</li><li>'lic_numcontexts'</li><li>'lic_retrievaltime'</li><li>'childes_parentProb'</li><li>'childes_parentUnigramSurprisal'</li><li>'childes_childProb'</li><li>'childes_childUnigramSurprisal'</li><li>'childes_childEarliestUse'</li><li>'wordbank_median_aoa'</li><li>'propuse_childes_24'</li><li>'wordbank_prop_use'</li><li>'propuse_combined'</li><li>'in_mcdi'</li><li>'wn_lemma'</li><li>'aspell_inDictionary'</li><li>'has_apostrophe'</li><li>'pld20'</li><li>'SUBTLCD'</li><li>'Unnamed..0'</li><li>'chain'</li><li>'character_levdau'</li><li>'check_time'</li><li>'condition'</li><li>'flag_type'</li><li>'gold_candidate_transcription'</li><li>'gold_comparison_transcription'</li><li>'gold_dist'</li><li>'length_accept'</li><li>'reason'</li><li>'run'</li><li>'stimulus'</li><li>'stimulus_id'</li><li>'subject_id'</li><li>'target_length'</li><li>'upload_time'</li><li>'upstream_pointer'</li><li>'upstream_subject_id'</li><li>'user'</li><li>'user_candidate_transcription'</li><li>'user_comparison_transcription'</li><li>'user_dist'</li><li>'user_short'</li><li>'word_distances'</li><li>'unique_chain_identifier'</li><li>'global_chain'</li><li>'BNC_KNN_trigramProb'</li><li>'BNC_KNN_unigramProb'</li><li>'WSJ_gt_unigramProb'</li><li>'WSJ_gt_trigramProb'</li><li>'WSJ_gt_5gramProb'</li><li>'WSJ_Roark_Negative.Log.Probability'</li><li>'biglm_probability'</li><li>'kenlm_probability'</li><li>'bllip_probability'</li><li>'bllip_wsj_probability'</li><li>'mikolov_wsj_probability'</li><li>'length_in_words'</li><li>'normalized_biglm_probability'</li><li>'normalized_WSJ_Roark_Negative.Log.Probability'</li><li>'normalized_BNC_KNN_unigramProb'</li><li>'normalized_BNC_KNN_trigramProb'</li><li>'normalized_kenlm_probability'</li><li>'normalized_bllip_probability'</li><li>'normalized_bllip_wsj_probability'</li><li>'normalized_mikolov_wsj_probability'</li><li>'normalized_WSJ_gt_unigramProb'</li><li>'normalized_WSJ_gt_trigramProb'</li><li>'normalized_WSJ_gt_5gramProb'</li><li>'initial_biglm_probability'</li><li>'initial_biglm_probability_rank'</li><li>'initial_biglm_probability_quartile'</li><li>'initial_WSJ_Roark_Negative.Log.Probability'</li><li>'initial_WSJ_Roark_Negative.Log.Probability_rank'</li><li>'initial_WSJ_Roark_Negative.Log.Probability_quartile'</li><li>'initial_BNC_KNN_unigramProb'</li><li>'initial_BNC_KNN_unigramProb_rank'</li><li>'initial_BNC_KNN_unigramProb_quartile'</li><li>'initial_BNC_KNN_trigramProb'</li><li>'initial_BNC_KNN_trigramProb_rank'</li><li>'initial_BNC_KNN_trigramProb_quartile'</li><li>'initial_kenlm_probability'</li><li>'initial_kenlm_probability_rank'</li><li>'initial_kenlm_probability_quartile'</li><li>'initial_bllip_probability'</li><li>'initial_bllip_probability_rank'</li><li>'initial_bllip_probability_quartile'</li><li>'initial_bllip_wsj_probability'</li><li>'initial_bllip_wsj_probability_rank'</li><li>'initial_bllip_wsj_probability_quartile'</li><li>'initial_mikolov_wsj_probability'</li><li>'initial_mikolov_wsj_probability_rank'</li><li>'initial_mikolov_wsj_probability_quartile'</li><li>'initial_WSJ_gt_unigramProb'</li><li>'initial_WSJ_gt_unigramProb_rank'</li><li>'initial_WSJ_gt_unigramProb_quartile'</li><li>'initial_WSJ_gt_trigramProb'</li><li>'initial_WSJ_gt_trigramProb_rank'</li><li>'initial_WSJ_gt_trigramProb_quartile'</li><li>'initial_WSJ_gt_5gramProb'</li><li>'initial_WSJ_gt_5gramProb_rank'</li><li>'initial_WSJ_gt_5gramProb_quartile'</li><li>'thread_id'</li><li>'chain_length'</li><li>'change'</li><li>'one'</li></ol>\n"
      ],
      "text/latex": [
       "\\begin{enumerate*}\n",
       "\\item 'X'\n",
       "\\item 'bnc\\_unigram\\_index'\n",
       "\\item 'bnc\\_unigram\\_prob'\n",
       "\\item 'bnc\\_unigram\\_word'\n",
       "\\item 'bnc\\_trigram\\_index'\n",
       "\\item 'bnc\\_trigram\\_prob'\n",
       "\\item 'bnc\\_trigram\\_word'\n",
       "\\item 'roark\\_scores\\_prefix'\n",
       "\\item 'roark\\_scores\\_word'\n",
       "\\item 'roark\\_scores\\_prefix.1'\n",
       "\\item 'roark\\_scores\\_srprsl'\n",
       "\\item 'roark\\_scores\\_SynSp'\n",
       "\\item 'roark\\_scores\\_LexSp'\n",
       "\\item 'roark\\_scores\\_ambig'\n",
       "\\item 'roark\\_scores\\_open'\n",
       "\\item 'roark\\_scores\\_rernk'\n",
       "\\item 'roark\\_scores\\_toprr'\n",
       "\\item 'roark\\_scores\\_stps'\n",
       "\\item 'big\\_lm\\_scores\\_Unnamed..0'\n",
       "\\item 'big\\_lm\\_scores\\_prob'\n",
       "\\item 'big\\_lm\\_scores\\_word'\n",
       "\\item 'kenlm\\_scores\\_prob'\n",
       "\\item 'kenlm\\_scores\\_preceding'\n",
       "\\item 'kenlm\\_scores\\_unk'\n",
       "\\item 'kenlm\\_scores\\_words'\n",
       "\\item 'sCounter'\n",
       "\\item 'sentence\\_index'\n",
       "\\item 'word'\n",
       "\\item 'code'\n",
       "\\item 'conc\\_bigram'\n",
       "\\item 'conc\\_conc\\_m'\n",
       "\\item 'conc\\_conc\\_sd'\n",
       "\\item 'conc\\_unknown'\n",
       "\\item 'conc\\_total'\n",
       "\\item 'conc\\_percent\\_known'\n",
       "\\item 'conc\\_subtlex'\n",
       "\\item 'conc\\_dom\\_pos'\n",
       "\\item 'kpm\\_alternative\\_spelling'\n",
       "\\item 'kpm\\_freq\\_pm'\n",
       "\\item 'kpm\\_dom\\_pos\\_subtlex'\n",
       "\\item 'kpm\\_nletters'\n",
       "\\item 'kpm\\_nphon'\n",
       "\\item 'kpm\\_nsyll'\n",
       "\\item 'kpm\\_lemma\\_highest\\_pos'\n",
       "\\item 'kpm\\_aoa\\_kup'\n",
       "\\item 'kpm\\_perc\\_known'\n",
       "\\item 'kpm\\_aoa\\_kup\\_lem'\n",
       "\\item 'kpm\\_perc\\_known\\_lem'\n",
       "\\item 'kpm\\_aoa\\_bird\\_lem'\n",
       "\\item 'kpm\\_aoa\\_bristol\\_lem'\n",
       "\\item 'kpm\\_aoa\\_cort\\_lem'\n",
       "\\item 'kpm\\_aoa\\_schock'\n",
       "\\item 'pic\\_ipa'\n",
       "\\item 'pic\\_ipa\\_ss\\_array'\n",
       "\\item 'pic\\_ipa\\_ss'\n",
       "\\item 'pic\\_ipa\\_n'\n",
       "\\item 'pic\\_ortho'\n",
       "\\item 'pic\\_ortho\\_ss\\_array'\n",
       "\\item 'pic\\_ortho\\_ss'\n",
       "\\item 'pic\\_ortho\\_n'\n",
       "\\item 'pic\\_character'\n",
       "\\item 'pic\\_character\\_ss\\_array'\n",
       "\\item 'pic\\_character\\_ss'\n",
       "\\item 'pic\\_character\\_n'\n",
       "\\item 'lic\\_mean\\_surprisal\\_weighted'\n",
       "\\item 'lic\\_mean\\_surprisal\\_unweighted'\n",
       "\\item 'lic\\_frequency'\n",
       "\\item 'lic\\_numcontexts'\n",
       "\\item 'lic\\_retrievaltime'\n",
       "\\item 'childes\\_parentProb'\n",
       "\\item 'childes\\_parentUnigramSurprisal'\n",
       "\\item 'childes\\_childProb'\n",
       "\\item 'childes\\_childUnigramSurprisal'\n",
       "\\item 'childes\\_childEarliestUse'\n",
       "\\item 'wordbank\\_median\\_aoa'\n",
       "\\item 'propuse\\_childes\\_24'\n",
       "\\item 'wordbank\\_prop\\_use'\n",
       "\\item 'propuse\\_combined'\n",
       "\\item 'in\\_mcdi'\n",
       "\\item 'wn\\_lemma'\n",
       "\\item 'aspell\\_inDictionary'\n",
       "\\item 'has\\_apostrophe'\n",
       "\\item 'pld20'\n",
       "\\item 'SUBTLCD'\n",
       "\\item 'Unnamed..0'\n",
       "\\item 'chain'\n",
       "\\item 'character\\_levdau'\n",
       "\\item 'check\\_time'\n",
       "\\item 'condition'\n",
       "\\item 'flag\\_type'\n",
       "\\item 'gold\\_candidate\\_transcription'\n",
       "\\item 'gold\\_comparison\\_transcription'\n",
       "\\item 'gold\\_dist'\n",
       "\\item 'length\\_accept'\n",
       "\\item 'reason'\n",
       "\\item 'run'\n",
       "\\item 'stimulus'\n",
       "\\item 'stimulus\\_id'\n",
       "\\item 'subject\\_id'\n",
       "\\item 'target\\_length'\n",
       "\\item 'upload\\_time'\n",
       "\\item 'upstream\\_pointer'\n",
       "\\item 'upstream\\_subject\\_id'\n",
       "\\item 'user'\n",
       "\\item 'user\\_candidate\\_transcription'\n",
       "\\item 'user\\_comparison\\_transcription'\n",
       "\\item 'user\\_dist'\n",
       "\\item 'user\\_short'\n",
       "\\item 'word\\_distances'\n",
       "\\item 'unique\\_chain\\_identifier'\n",
       "\\item 'global\\_chain'\n",
       "\\item 'BNC\\_KNN\\_trigramProb'\n",
       "\\item 'BNC\\_KNN\\_unigramProb'\n",
       "\\item 'WSJ\\_gt\\_unigramProb'\n",
       "\\item 'WSJ\\_gt\\_trigramProb'\n",
       "\\item 'WSJ\\_gt\\_5gramProb'\n",
       "\\item 'WSJ\\_Roark\\_Negative.Log.Probability'\n",
       "\\item 'biglm\\_probability'\n",
       "\\item 'kenlm\\_probability'\n",
       "\\item 'bllip\\_probability'\n",
       "\\item 'bllip\\_wsj\\_probability'\n",
       "\\item 'mikolov\\_wsj\\_probability'\n",
       "\\item 'length\\_in\\_words'\n",
       "\\item 'normalized\\_biglm\\_probability'\n",
       "\\item 'normalized\\_WSJ\\_Roark\\_Negative.Log.Probability'\n",
       "\\item 'normalized\\_BNC\\_KNN\\_unigramProb'\n",
       "\\item 'normalized\\_BNC\\_KNN\\_trigramProb'\n",
       "\\item 'normalized\\_kenlm\\_probability'\n",
       "\\item 'normalized\\_bllip\\_probability'\n",
       "\\item 'normalized\\_bllip\\_wsj\\_probability'\n",
       "\\item 'normalized\\_mikolov\\_wsj\\_probability'\n",
       "\\item 'normalized\\_WSJ\\_gt\\_unigramProb'\n",
       "\\item 'normalized\\_WSJ\\_gt\\_trigramProb'\n",
       "\\item 'normalized\\_WSJ\\_gt\\_5gramProb'\n",
       "\\item 'initial\\_biglm\\_probability'\n",
       "\\item 'initial\\_biglm\\_probability\\_rank'\n",
       "\\item 'initial\\_biglm\\_probability\\_quartile'\n",
       "\\item 'initial\\_WSJ\\_Roark\\_Negative.Log.Probability'\n",
       "\\item 'initial\\_WSJ\\_Roark\\_Negative.Log.Probability\\_rank'\n",
       "\\item 'initial\\_WSJ\\_Roark\\_Negative.Log.Probability\\_quartile'\n",
       "\\item 'initial\\_BNC\\_KNN\\_unigramProb'\n",
       "\\item 'initial\\_BNC\\_KNN\\_unigramProb\\_rank'\n",
       "\\item 'initial\\_BNC\\_KNN\\_unigramProb\\_quartile'\n",
       "\\item 'initial\\_BNC\\_KNN\\_trigramProb'\n",
       "\\item 'initial\\_BNC\\_KNN\\_trigramProb\\_rank'\n",
       "\\item 'initial\\_BNC\\_KNN\\_trigramProb\\_quartile'\n",
       "\\item 'initial\\_kenlm\\_probability'\n",
       "\\item 'initial\\_kenlm\\_probability\\_rank'\n",
       "\\item 'initial\\_kenlm\\_probability\\_quartile'\n",
       "\\item 'initial\\_bllip\\_probability'\n",
       "\\item 'initial\\_bllip\\_probability\\_rank'\n",
       "\\item 'initial\\_bllip\\_probability\\_quartile'\n",
       "\\item 'initial\\_bllip\\_wsj\\_probability'\n",
       "\\item 'initial\\_bllip\\_wsj\\_probability\\_rank'\n",
       "\\item 'initial\\_bllip\\_wsj\\_probability\\_quartile'\n",
       "\\item 'initial\\_mikolov\\_wsj\\_probability'\n",
       "\\item 'initial\\_mikolov\\_wsj\\_probability\\_rank'\n",
       "\\item 'initial\\_mikolov\\_wsj\\_probability\\_quartile'\n",
       "\\item 'initial\\_WSJ\\_gt\\_unigramProb'\n",
       "\\item 'initial\\_WSJ\\_gt\\_unigramProb\\_rank'\n",
       "\\item 'initial\\_WSJ\\_gt\\_unigramProb\\_quartile'\n",
       "\\item 'initial\\_WSJ\\_gt\\_trigramProb'\n",
       "\\item 'initial\\_WSJ\\_gt\\_trigramProb\\_rank'\n",
       "\\item 'initial\\_WSJ\\_gt\\_trigramProb\\_quartile'\n",
       "\\item 'initial\\_WSJ\\_gt\\_5gramProb'\n",
       "\\item 'initial\\_WSJ\\_gt\\_5gramProb\\_rank'\n",
       "\\item 'initial\\_WSJ\\_gt\\_5gramProb\\_quartile'\n",
       "\\item 'thread\\_id'\n",
       "\\item 'chain\\_length'\n",
       "\\item 'change'\n",
       "\\item 'one'\n",
       "\\end{enumerate*}\n"
      ],
      "text/markdown": [
       "1. 'X'\n",
       "2. 'bnc_unigram_index'\n",
       "3. 'bnc_unigram_prob'\n",
       "4. 'bnc_unigram_word'\n",
       "5. 'bnc_trigram_index'\n",
       "6. 'bnc_trigram_prob'\n",
       "7. 'bnc_trigram_word'\n",
       "8. 'roark_scores_prefix'\n",
       "9. 'roark_scores_word'\n",
       "10. 'roark_scores_prefix.1'\n",
       "11. 'roark_scores_srprsl'\n",
       "12. 'roark_scores_SynSp'\n",
       "13. 'roark_scores_LexSp'\n",
       "14. 'roark_scores_ambig'\n",
       "15. 'roark_scores_open'\n",
       "16. 'roark_scores_rernk'\n",
       "17. 'roark_scores_toprr'\n",
       "18. 'roark_scores_stps'\n",
       "19. 'big_lm_scores_Unnamed..0'\n",
       "20. 'big_lm_scores_prob'\n",
       "21. 'big_lm_scores_word'\n",
       "22. 'kenlm_scores_prob'\n",
       "23. 'kenlm_scores_preceding'\n",
       "24. 'kenlm_scores_unk'\n",
       "25. 'kenlm_scores_words'\n",
       "26. 'sCounter'\n",
       "27. 'sentence_index'\n",
       "28. 'word'\n",
       "29. 'code'\n",
       "30. 'conc_bigram'\n",
       "31. 'conc_conc_m'\n",
       "32. 'conc_conc_sd'\n",
       "33. 'conc_unknown'\n",
       "34. 'conc_total'\n",
       "35. 'conc_percent_known'\n",
       "36. 'conc_subtlex'\n",
       "37. 'conc_dom_pos'\n",
       "38. 'kpm_alternative_spelling'\n",
       "39. 'kpm_freq_pm'\n",
       "40. 'kpm_dom_pos_subtlex'\n",
       "41. 'kpm_nletters'\n",
       "42. 'kpm_nphon'\n",
       "43. 'kpm_nsyll'\n",
       "44. 'kpm_lemma_highest_pos'\n",
       "45. 'kpm_aoa_kup'\n",
       "46. 'kpm_perc_known'\n",
       "47. 'kpm_aoa_kup_lem'\n",
       "48. 'kpm_perc_known_lem'\n",
       "49. 'kpm_aoa_bird_lem'\n",
       "50. 'kpm_aoa_bristol_lem'\n",
       "51. 'kpm_aoa_cort_lem'\n",
       "52. 'kpm_aoa_schock'\n",
       "53. 'pic_ipa'\n",
       "54. 'pic_ipa_ss_array'\n",
       "55. 'pic_ipa_ss'\n",
       "56. 'pic_ipa_n'\n",
       "57. 'pic_ortho'\n",
       "58. 'pic_ortho_ss_array'\n",
       "59. 'pic_ortho_ss'\n",
       "60. 'pic_ortho_n'\n",
       "61. 'pic_character'\n",
       "62. 'pic_character_ss_array'\n",
       "63. 'pic_character_ss'\n",
       "64. 'pic_character_n'\n",
       "65. 'lic_mean_surprisal_weighted'\n",
       "66. 'lic_mean_surprisal_unweighted'\n",
       "67. 'lic_frequency'\n",
       "68. 'lic_numcontexts'\n",
       "69. 'lic_retrievaltime'\n",
       "70. 'childes_parentProb'\n",
       "71. 'childes_parentUnigramSurprisal'\n",
       "72. 'childes_childProb'\n",
       "73. 'childes_childUnigramSurprisal'\n",
       "74. 'childes_childEarliestUse'\n",
       "75. 'wordbank_median_aoa'\n",
       "76. 'propuse_childes_24'\n",
       "77. 'wordbank_prop_use'\n",
       "78. 'propuse_combined'\n",
       "79. 'in_mcdi'\n",
       "80. 'wn_lemma'\n",
       "81. 'aspell_inDictionary'\n",
       "82. 'has_apostrophe'\n",
       "83. 'pld20'\n",
       "84. 'SUBTLCD'\n",
       "85. 'Unnamed..0'\n",
       "86. 'chain'\n",
       "87. 'character_levdau'\n",
       "88. 'check_time'\n",
       "89. 'condition'\n",
       "90. 'flag_type'\n",
       "91. 'gold_candidate_transcription'\n",
       "92. 'gold_comparison_transcription'\n",
       "93. 'gold_dist'\n",
       "94. 'length_accept'\n",
       "95. 'reason'\n",
       "96. 'run'\n",
       "97. 'stimulus'\n",
       "98. 'stimulus_id'\n",
       "99. 'subject_id'\n",
       "100. 'target_length'\n",
       "101. 'upload_time'\n",
       "102. 'upstream_pointer'\n",
       "103. 'upstream_subject_id'\n",
       "104. 'user'\n",
       "105. 'user_candidate_transcription'\n",
       "106. 'user_comparison_transcription'\n",
       "107. 'user_dist'\n",
       "108. 'user_short'\n",
       "109. 'word_distances'\n",
       "110. 'unique_chain_identifier'\n",
       "111. 'global_chain'\n",
       "112. 'BNC_KNN_trigramProb'\n",
       "113. 'BNC_KNN_unigramProb'\n",
       "114. 'WSJ_gt_unigramProb'\n",
       "115. 'WSJ_gt_trigramProb'\n",
       "116. 'WSJ_gt_5gramProb'\n",
       "117. 'WSJ_Roark_Negative.Log.Probability'\n",
       "118. 'biglm_probability'\n",
       "119. 'kenlm_probability'\n",
       "120. 'bllip_probability'\n",
       "121. 'bllip_wsj_probability'\n",
       "122. 'mikolov_wsj_probability'\n",
       "123. 'length_in_words'\n",
       "124. 'normalized_biglm_probability'\n",
       "125. 'normalized_WSJ_Roark_Negative.Log.Probability'\n",
       "126. 'normalized_BNC_KNN_unigramProb'\n",
       "127. 'normalized_BNC_KNN_trigramProb'\n",
       "128. 'normalized_kenlm_probability'\n",
       "129. 'normalized_bllip_probability'\n",
       "130. 'normalized_bllip_wsj_probability'\n",
       "131. 'normalized_mikolov_wsj_probability'\n",
       "132. 'normalized_WSJ_gt_unigramProb'\n",
       "133. 'normalized_WSJ_gt_trigramProb'\n",
       "134. 'normalized_WSJ_gt_5gramProb'\n",
       "135. 'initial_biglm_probability'\n",
       "136. 'initial_biglm_probability_rank'\n",
       "137. 'initial_biglm_probability_quartile'\n",
       "138. 'initial_WSJ_Roark_Negative.Log.Probability'\n",
       "139. 'initial_WSJ_Roark_Negative.Log.Probability_rank'\n",
       "140. 'initial_WSJ_Roark_Negative.Log.Probability_quartile'\n",
       "141. 'initial_BNC_KNN_unigramProb'\n",
       "142. 'initial_BNC_KNN_unigramProb_rank'\n",
       "143. 'initial_BNC_KNN_unigramProb_quartile'\n",
       "144. 'initial_BNC_KNN_trigramProb'\n",
       "145. 'initial_BNC_KNN_trigramProb_rank'\n",
       "146. 'initial_BNC_KNN_trigramProb_quartile'\n",
       "147. 'initial_kenlm_probability'\n",
       "148. 'initial_kenlm_probability_rank'\n",
       "149. 'initial_kenlm_probability_quartile'\n",
       "150. 'initial_bllip_probability'\n",
       "151. 'initial_bllip_probability_rank'\n",
       "152. 'initial_bllip_probability_quartile'\n",
       "153. 'initial_bllip_wsj_probability'\n",
       "154. 'initial_bllip_wsj_probability_rank'\n",
       "155. 'initial_bllip_wsj_probability_quartile'\n",
       "156. 'initial_mikolov_wsj_probability'\n",
       "157. 'initial_mikolov_wsj_probability_rank'\n",
       "158. 'initial_mikolov_wsj_probability_quartile'\n",
       "159. 'initial_WSJ_gt_unigramProb'\n",
       "160. 'initial_WSJ_gt_unigramProb_rank'\n",
       "161. 'initial_WSJ_gt_unigramProb_quartile'\n",
       "162. 'initial_WSJ_gt_trigramProb'\n",
       "163. 'initial_WSJ_gt_trigramProb_rank'\n",
       "164. 'initial_WSJ_gt_trigramProb_quartile'\n",
       "165. 'initial_WSJ_gt_5gramProb'\n",
       "166. 'initial_WSJ_gt_5gramProb_rank'\n",
       "167. 'initial_WSJ_gt_5gramProb_quartile'\n",
       "168. 'thread_id'\n",
       "169. 'chain_length'\n",
       "170. 'change'\n",
       "171. 'one'\n",
       "\n",
       "\n"
      ],
      "text/plain": [
       "  [1] \"X\"                                                  \n",
       "  [2] \"bnc_unigram_index\"                                  \n",
       "  [3] \"bnc_unigram_prob\"                                   \n",
       "  [4] \"bnc_unigram_word\"                                   \n",
       "  [5] \"bnc_trigram_index\"                                  \n",
       "  [6] \"bnc_trigram_prob\"                                   \n",
       "  [7] \"bnc_trigram_word\"                                   \n",
       "  [8] \"roark_scores_prefix\"                                \n",
       "  [9] \"roark_scores_word\"                                  \n",
       " [10] \"roark_scores_prefix.1\"                              \n",
       " [11] \"roark_scores_srprsl\"                                \n",
       " [12] \"roark_scores_SynSp\"                                 \n",
       " [13] \"roark_scores_LexSp\"                                 \n",
       " [14] \"roark_scores_ambig\"                                 \n",
       " [15] \"roark_scores_open\"                                  \n",
       " [16] \"roark_scores_rernk\"                                 \n",
       " [17] \"roark_scores_toprr\"                                 \n",
       " [18] \"roark_scores_stps\"                                  \n",
       " [19] \"big_lm_scores_Unnamed..0\"                           \n",
       " [20] \"big_lm_scores_prob\"                                 \n",
       " [21] \"big_lm_scores_word\"                                 \n",
       " [22] \"kenlm_scores_prob\"                                  \n",
       " [23] \"kenlm_scores_preceding\"                             \n",
       " [24] \"kenlm_scores_unk\"                                   \n",
       " [25] \"kenlm_scores_words\"                                 \n",
       " [26] \"sCounter\"                                           \n",
       " [27] \"sentence_index\"                                     \n",
       " [28] \"word\"                                               \n",
       " [29] \"code\"                                               \n",
       " [30] \"conc_bigram\"                                        \n",
       " [31] \"conc_conc_m\"                                        \n",
       " [32] \"conc_conc_sd\"                                       \n",
       " [33] \"conc_unknown\"                                       \n",
       " [34] \"conc_total\"                                         \n",
       " [35] \"conc_percent_known\"                                 \n",
       " [36] \"conc_subtlex\"                                       \n",
       " [37] \"conc_dom_pos\"                                       \n",
       " [38] \"kpm_alternative_spelling\"                           \n",
       " [39] \"kpm_freq_pm\"                                        \n",
       " [40] \"kpm_dom_pos_subtlex\"                                \n",
       " [41] \"kpm_nletters\"                                       \n",
       " [42] \"kpm_nphon\"                                          \n",
       " [43] \"kpm_nsyll\"                                          \n",
       " [44] \"kpm_lemma_highest_pos\"                              \n",
       " [45] \"kpm_aoa_kup\"                                        \n",
       " [46] \"kpm_perc_known\"                                     \n",
       " [47] \"kpm_aoa_kup_lem\"                                    \n",
       " [48] \"kpm_perc_known_lem\"                                 \n",
       " [49] \"kpm_aoa_bird_lem\"                                   \n",
       " [50] \"kpm_aoa_bristol_lem\"                                \n",
       " [51] \"kpm_aoa_cort_lem\"                                   \n",
       " [52] \"kpm_aoa_schock\"                                     \n",
       " [53] \"pic_ipa\"                                            \n",
       " [54] \"pic_ipa_ss_array\"                                   \n",
       " [55] \"pic_ipa_ss\"                                         \n",
       " [56] \"pic_ipa_n\"                                          \n",
       " [57] \"pic_ortho\"                                          \n",
       " [58] \"pic_ortho_ss_array\"                                 \n",
       " [59] \"pic_ortho_ss\"                                       \n",
       " [60] \"pic_ortho_n\"                                        \n",
       " [61] \"pic_character\"                                      \n",
       " [62] \"pic_character_ss_array\"                             \n",
       " [63] \"pic_character_ss\"                                   \n",
       " [64] \"pic_character_n\"                                    \n",
       " [65] \"lic_mean_surprisal_weighted\"                        \n",
       " [66] \"lic_mean_surprisal_unweighted\"                      \n",
       " [67] \"lic_frequency\"                                      \n",
       " [68] \"lic_numcontexts\"                                    \n",
       " [69] \"lic_retrievaltime\"                                  \n",
       " [70] \"childes_parentProb\"                                 \n",
       " [71] \"childes_parentUnigramSurprisal\"                     \n",
       " [72] \"childes_childProb\"                                  \n",
       " [73] \"childes_childUnigramSurprisal\"                      \n",
       " [74] \"childes_childEarliestUse\"                           \n",
       " [75] \"wordbank_median_aoa\"                                \n",
       " [76] \"propuse_childes_24\"                                 \n",
       " [77] \"wordbank_prop_use\"                                  \n",
       " [78] \"propuse_combined\"                                   \n",
       " [79] \"in_mcdi\"                                            \n",
       " [80] \"wn_lemma\"                                           \n",
       " [81] \"aspell_inDictionary\"                                \n",
       " [82] \"has_apostrophe\"                                     \n",
       " [83] \"pld20\"                                              \n",
       " [84] \"SUBTLCD\"                                            \n",
       " [85] \"Unnamed..0\"                                         \n",
       " [86] \"chain\"                                              \n",
       " [87] \"character_levdau\"                                   \n",
       " [88] \"check_time\"                                         \n",
       " [89] \"condition\"                                          \n",
       " [90] \"flag_type\"                                          \n",
       " [91] \"gold_candidate_transcription\"                       \n",
       " [92] \"gold_comparison_transcription\"                      \n",
       " [93] \"gold_dist\"                                          \n",
       " [94] \"length_accept\"                                      \n",
       " [95] \"reason\"                                             \n",
       " [96] \"run\"                                                \n",
       " [97] \"stimulus\"                                           \n",
       " [98] \"stimulus_id\"                                        \n",
       " [99] \"subject_id\"                                         \n",
       "[100] \"target_length\"                                      \n",
       "[101] \"upload_time\"                                        \n",
       "[102] \"upstream_pointer\"                                   \n",
       "[103] \"upstream_subject_id\"                                \n",
       "[104] \"user\"                                               \n",
       "[105] \"user_candidate_transcription\"                       \n",
       "[106] \"user_comparison_transcription\"                      \n",
       "[107] \"user_dist\"                                          \n",
       "[108] \"user_short\"                                         \n",
       "[109] \"word_distances\"                                     \n",
       "[110] \"unique_chain_identifier\"                            \n",
       "[111] \"global_chain\"                                       \n",
       "[112] \"BNC_KNN_trigramProb\"                                \n",
       "[113] \"BNC_KNN_unigramProb\"                                \n",
       "[114] \"WSJ_gt_unigramProb\"                                 \n",
       "[115] \"WSJ_gt_trigramProb\"                                 \n",
       "[116] \"WSJ_gt_5gramProb\"                                   \n",
       "[117] \"WSJ_Roark_Negative.Log.Probability\"                 \n",
       "[118] \"biglm_probability\"                                  \n",
       "[119] \"kenlm_probability\"                                  \n",
       "[120] \"bllip_probability\"                                  \n",
       "[121] \"bllip_wsj_probability\"                              \n",
       "[122] \"mikolov_wsj_probability\"                            \n",
       "[123] \"length_in_words\"                                    \n",
       "[124] \"normalized_biglm_probability\"                       \n",
       "[125] \"normalized_WSJ_Roark_Negative.Log.Probability\"      \n",
       "[126] \"normalized_BNC_KNN_unigramProb\"                     \n",
       "[127] \"normalized_BNC_KNN_trigramProb\"                     \n",
       "[128] \"normalized_kenlm_probability\"                       \n",
       "[129] \"normalized_bllip_probability\"                       \n",
       "[130] \"normalized_bllip_wsj_probability\"                   \n",
       "[131] \"normalized_mikolov_wsj_probability\"                 \n",
       "[132] \"normalized_WSJ_gt_unigramProb\"                      \n",
       "[133] \"normalized_WSJ_gt_trigramProb\"                      \n",
       "[134] \"normalized_WSJ_gt_5gramProb\"                        \n",
       "[135] \"initial_biglm_probability\"                          \n",
       "[136] \"initial_biglm_probability_rank\"                     \n",
       "[137] \"initial_biglm_probability_quartile\"                 \n",
       "[138] \"initial_WSJ_Roark_Negative.Log.Probability\"         \n",
       "[139] \"initial_WSJ_Roark_Negative.Log.Probability_rank\"    \n",
       "[140] \"initial_WSJ_Roark_Negative.Log.Probability_quartile\"\n",
       "[141] \"initial_BNC_KNN_unigramProb\"                        \n",
       "[142] \"initial_BNC_KNN_unigramProb_rank\"                   \n",
       "[143] \"initial_BNC_KNN_unigramProb_quartile\"               \n",
       "[144] \"initial_BNC_KNN_trigramProb\"                        \n",
       "[145] \"initial_BNC_KNN_trigramProb_rank\"                   \n",
       "[146] \"initial_BNC_KNN_trigramProb_quartile\"               \n",
       "[147] \"initial_kenlm_probability\"                          \n",
       "[148] \"initial_kenlm_probability_rank\"                     \n",
       "[149] \"initial_kenlm_probability_quartile\"                 \n",
       "[150] \"initial_bllip_probability\"                          \n",
       "[151] \"initial_bllip_probability_rank\"                     \n",
       "[152] \"initial_bllip_probability_quartile\"                 \n",
       "[153] \"initial_bllip_wsj_probability\"                      \n",
       "[154] \"initial_bllip_wsj_probability_rank\"                 \n",
       "[155] \"initial_bllip_wsj_probability_quartile\"             \n",
       "[156] \"initial_mikolov_wsj_probability\"                    \n",
       "[157] \"initial_mikolov_wsj_probability_rank\"               \n",
       "[158] \"initial_mikolov_wsj_probability_quartile\"           \n",
       "[159] \"initial_WSJ_gt_unigramProb\"                         \n",
       "[160] \"initial_WSJ_gt_unigramProb_rank\"                    \n",
       "[161] \"initial_WSJ_gt_unigramProb_quartile\"                \n",
       "[162] \"initial_WSJ_gt_trigramProb\"                         \n",
       "[163] \"initial_WSJ_gt_trigramProb_rank\"                    \n",
       "[164] \"initial_WSJ_gt_trigramProb_quartile\"                \n",
       "[165] \"initial_WSJ_gt_5gramProb\"                           \n",
       "[166] \"initial_WSJ_gt_5gramProb_rank\"                      \n",
       "[167] \"initial_WSJ_gt_5gramProb_quartile\"                  \n",
       "[168] \"thread_id\"                                          \n",
       "[169] \"chain_length\"                                       \n",
       "[170] \"change\"                                             \n",
       "[171] \"one\"                                                "
      ]
     },
     "metadata": {},
     "output_type": "display_data"
    }
   ],
   "source": [
    "names(wdfs)"
   ]
  },
  {
   "cell_type": "markdown",
   "metadata": {},
   "source": [
    "# Flag Behavior vs. Edit Behavior"
   ]
  },
  {
   "cell_type": "code",
   "execution_count": 337,
   "metadata": {},
   "outputs": [],
   "source": [
    "propMatch = aggregate(code ~ output_subject, wdfs, function(x){sum(x == 'M') / length(x)})\n",
    "names(propMatch) = c('user','propMatch')\n",
    "numWords =  aggregate(code ~ output_subject, wdfs, function(x){numWords = length(x)})\n",
    "names(numWords)  = c('user', 'numWords')\n",
    "numSentences = aggregate(stimulus_id ~ input_subject, wdfs, function(x){length(unique(x))})\n",
    "names(numSentences) = c('user','numSentencesNotFlagged')\n",
    "wdfs_users = merge(merge(propMatch, numWords), numSentences)"
   ]
  },
  {
   "cell_type": "code",
   "execution_count": 335,
   "metadata": {},
   "outputs": [],
   "source": [
    "flag_behavior = rbind(\n",
    "    read.csv('output/180419_AMT_lengthLimitedGPU_flags.csv',\n",
    "    stringsAsFactors=F),\n",
    "    read.csv('output/180624_AMT_lengthLimitedGPU_flags.csv',\n",
    "    stringsAsFactors=F)\n",
    ")    "
   ]
  },
  {
   "cell_type": "code",
   "execution_count": 336,
   "metadata": {},
   "outputs": [],
   "source": [
    "stim_flags = subset(flag_behavior, flag_type == 'stimulus')"
   ]
  },
  {
   "cell_type": "code",
   "execution_count": 341,
   "metadata": {},
   "outputs": [],
   "source": [
    "flag_reasons = data.frame(table(stim_flags$reason))\n",
    "flag_reasons = flag_reasons[order(flag_reasons$Freq, decreasing=T),]"
   ]
  },
  {
   "cell_type": "code",
   "execution_count": 342,
   "metadata": {},
   "outputs": [],
   "source": [
    "flags_per_user  = aggregate(reason ~ user, stim_flags, length)\n",
    "names(flags_per_user) = c('user','numFlags')"
   ]
  },
  {
   "cell_type": "code",
   "execution_count": 343,
   "metadata": {},
   "outputs": [],
   "source": [
    "wdfs_users_with_flags = merge(wdfs_users, flags_per_user, all.x=T)\n",
    "#add back users with 0-counts\n",
    "wdfs_users_with_flags$numFlags[is.na(wdfs_users_with_flags$numFlags)] = 0\n",
    "wdfs_users_with_flags$propFlags = wdfs_users_with_flags$numFlags / \n",
    "(wdfs_users_with_flags$numFlags + wdfs_users_with_flags$numSentencesNotFlagged)"
   ]
  },
  {
   "cell_type": "code",
   "execution_count": 330,
   "metadata": {},
   "outputs": [],
   "source": [
    "numFlagsAndUnflagged = sum(wdfs_users_with_flags$numSentencesNotFlagged\n",
    "                          ) + sum(wdfs_users_with_flags$numFlags)"
   ]
  },
  {
   "cell_type": "code",
   "execution_count": 345,
   "metadata": {},
   "outputs": [
    {
     "data": {
      "text/html": [
       "0.15333534560821"
      ],
      "text/latex": [
       "0.15333534560821"
      ],
      "text/markdown": [
       "0.15333534560821"
      ],
      "text/plain": [
       "[1] 0.1533353"
      ]
     },
     "metadata": {},
     "output_type": "display_data"
    }
   ],
   "source": [
    "# Proportion of inputs from other participants which were flagged\n",
    "sum(wdfs_users_with_flags$numFlags)  / numFlagsAndUnflagged"
   ]
  },
  {
   "cell_type": "code",
   "execution_count": 346,
   "metadata": {},
   "outputs": [
    {
     "data": {
      "text/html": [
       "<table>\n",
       "<caption>A data.frame: 10 × 4</caption>\n",
       "<thead>\n",
       "\t<tr><th></th><th scope=col>Var1</th><th scope=col>Freq</th><th scope=col>propOfInputs</th><th scope=col>propOfFlags</th></tr>\n",
       "\t<tr><th></th><th scope=col>&lt;fct&gt;</th><th scope=col>&lt;int&gt;</th><th scope=col>&lt;dbl&gt;</th><th scope=col>&lt;dbl&gt;</th></tr>\n",
       "</thead>\n",
       "<tbody>\n",
       "\t<tr><th scope=row>2</th><td>Contains speech errors                                 </td><td>149</td><td>0.0449743435</td><td>0.261403509</td></tr>\n",
       "\t<tr><th scope=row>249</th><td>Speech stops or starts abruptly / speech sounds cut off</td><td>119</td><td>0.0359191065</td><td>0.208771930</td></tr>\n",
       "\t<tr><th scope=row>80</th><td>Other: Couldn't hear anything over the background noise</td><td>  9</td><td>0.0027165711</td><td>0.015789474</td></tr>\n",
       "\t<tr><th scope=row>1</th><td>Contains obscenities or objectionable content          </td><td>  5</td><td>0.0015092062</td><td>0.008771930</td></tr>\n",
       "\t<tr><th scope=row>93</th><td>Other: Drowned out.                                    </td><td>  5</td><td>0.0015092062</td><td>0.008771930</td></tr>\n",
       "\t<tr><th scope=row>220</th><td>Other: Too hard to hear                                </td><td>  5</td><td>0.0015092062</td><td>0.008771930</td></tr>\n",
       "\t<tr><th scope=row>35</th><td>Other: Can't hear it                                   </td><td>  4</td><td>0.0012073649</td><td>0.007017544</td></tr>\n",
       "\t<tr><th scope=row>91</th><td>Other: difficult to understand                         </td><td>  4</td><td>0.0012073649</td><td>0.007017544</td></tr>\n",
       "\t<tr><th scope=row>116</th><td>Other: I could not understand anything that was said   </td><td>  4</td><td>0.0012073649</td><td>0.007017544</td></tr>\n",
       "\t<tr><th scope=row>10</th><td>Other: background noise is too loud                    </td><td>  3</td><td>0.0009055237</td><td>0.005263158</td></tr>\n",
       "</tbody>\n",
       "</table>\n"
      ],
      "text/latex": [
       "A data.frame: 10 × 4\n",
       "\\begin{tabular}{r|llll}\n",
       "  & Var1 & Freq & propOfInputs & propOfFlags\\\\\n",
       "  & <fct> & <int> & <dbl> & <dbl>\\\\\n",
       "\\hline\n",
       "\t2 & Contains speech errors                                  & 149 & 0.0449743435 & 0.261403509\\\\\n",
       "\t249 & Speech stops or starts abruptly / speech sounds cut off & 119 & 0.0359191065 & 0.208771930\\\\\n",
       "\t80 & Other: Couldn't hear anything over the background noise &   9 & 0.0027165711 & 0.015789474\\\\\n",
       "\t1 & Contains obscenities or objectionable content           &   5 & 0.0015092062 & 0.008771930\\\\\n",
       "\t93 & Other: Drowned out.                                     &   5 & 0.0015092062 & 0.008771930\\\\\n",
       "\t220 & Other: Too hard to hear                                 &   5 & 0.0015092062 & 0.008771930\\\\\n",
       "\t35 & Other: Can't hear it                                    &   4 & 0.0012073649 & 0.007017544\\\\\n",
       "\t91 & Other: difficult to understand                          &   4 & 0.0012073649 & 0.007017544\\\\\n",
       "\t116 & Other: I could not understand anything that was said    &   4 & 0.0012073649 & 0.007017544\\\\\n",
       "\t10 & Other: background noise is too loud                     &   3 & 0.0009055237 & 0.005263158\\\\\n",
       "\\end{tabular}\n"
      ],
      "text/markdown": [
       "\n",
       "A data.frame: 10 × 4\n",
       "\n",
       "| <!--/--> | Var1 &lt;fct&gt; | Freq &lt;int&gt; | propOfInputs &lt;dbl&gt; | propOfFlags &lt;dbl&gt; |\n",
       "|---|---|---|---|---|\n",
       "| 2 | Contains speech errors                                  | 149 | 0.0449743435 | 0.261403509 |\n",
       "| 249 | Speech stops or starts abruptly / speech sounds cut off | 119 | 0.0359191065 | 0.208771930 |\n",
       "| 80 | Other: Couldn't hear anything over the background noise |   9 | 0.0027165711 | 0.015789474 |\n",
       "| 1 | Contains obscenities or objectionable content           |   5 | 0.0015092062 | 0.008771930 |\n",
       "| 93 | Other: Drowned out.                                     |   5 | 0.0015092062 | 0.008771930 |\n",
       "| 220 | Other: Too hard to hear                                 |   5 | 0.0015092062 | 0.008771930 |\n",
       "| 35 | Other: Can't hear it                                    |   4 | 0.0012073649 | 0.007017544 |\n",
       "| 91 | Other: difficult to understand                          |   4 | 0.0012073649 | 0.007017544 |\n",
       "| 116 | Other: I could not understand anything that was said    |   4 | 0.0012073649 | 0.007017544 |\n",
       "| 10 | Other: background noise is too loud                     |   3 | 0.0009055237 | 0.005263158 |\n",
       "\n"
      ],
      "text/plain": [
       "    Var1                                                    Freq propOfInputs\n",
       "2   Contains speech errors                                  149  0.0449743435\n",
       "249 Speech stops or starts abruptly / speech sounds cut off 119  0.0359191065\n",
       "80  Other: Couldn't hear anything over the background noise   9  0.0027165711\n",
       "1   Contains obscenities or objectionable content             5  0.0015092062\n",
       "93  Other: Drowned out.                                       5  0.0015092062\n",
       "220 Other: Too hard to hear                                   5  0.0015092062\n",
       "35  Other: Can't hear it                                      4  0.0012073649\n",
       "91  Other: difficult to understand                            4  0.0012073649\n",
       "116 Other: I could not understand anything that was said      4  0.0012073649\n",
       "10  Other: background noise is too loud                       3  0.0009055237\n",
       "    propOfFlags\n",
       "2   0.261403509\n",
       "249 0.208771930\n",
       "80  0.015789474\n",
       "1   0.008771930\n",
       "93  0.008771930\n",
       "220 0.008771930\n",
       "35  0.007017544\n",
       "91  0.007017544\n",
       "116 0.007017544\n",
       "10  0.005263158"
      ]
     },
     "metadata": {},
     "output_type": "display_data"
    }
   ],
   "source": [
    "flag_reasons$propOfInputs = flag_reasons$Freq / numFlagsAndUnflagged\n",
    "flag_reasons$propOfFlags = flag_reasons$Freq / sum(flag_reasons$Freq)\n",
    "head(flag_reasons, n=10)"
   ]
  },
  {
   "cell_type": "code",
   "execution_count": 347,
   "metadata": {},
   "outputs": [
    {
     "name": "stdout",
     "output_type": "stream",
     "text": [
      "\n",
      "Call:\n",
      "lm(formula = (1 - propMatch) ~ numFlags, data = subset(wdfs_users_with_flags, \n",
      "    numWords > 25))\n",
      "\n",
      "Residuals:\n",
      "     Min       1Q   Median       3Q      Max \n",
      "-0.17964 -0.04493 -0.00374  0.04107  0.34612 \n",
      "\n",
      "Coefficients:\n",
      "             Estimate Std. Error t value Pr(>|t|)    \n",
      "(Intercept)  0.181655   0.006332  28.686   <2e-16 ***\n",
      "numFlags    -0.002011   0.001414  -1.423    0.157    \n",
      "---\n",
      "Signif. codes:  0 ‘***’ 0.001 ‘**’ 0.01 ‘*’ 0.05 ‘.’ 0.1 ‘ ’ 1\n",
      "\n",
      "Residual standard error: 0.07282 on 167 degrees of freedom\n",
      "Multiple R-squared:  0.01197,\tAdjusted R-squared:  0.006056 \n",
      "F-statistic: 2.024 on 1 and 167 DF,  p-value: 0.1567\n",
      "\n"
     ]
    }
   ],
   "source": [
    "lm1 = lm((1 - propMatch) ~ numFlags, subset(wdfs_users_with_flags, numWords > 25))\n",
    "m = summary(lm1)\n",
    "print(m)"
   ]
  },
  {
   "cell_type": "code",
   "execution_count": 348,
   "metadata": {},
   "outputs": [
    {
     "data": {
      "text/html": [
       "'italic(y) == \"0.18\" + \"-0.002\" %.% italic(x) * \",\" ~ ~italic(R)^2 ~ \"=\" ~ 0.006 ~ \",\" ~ ~italic(p) ~ \"=\" ~ 0.157'"
      ],
      "text/latex": [
       "'italic(y) == \"0.18\" + \"-0.002\" \\%.\\% italic(x) * \",\" \\textasciitilde{} \\textasciitilde{}italic(R)\\textasciicircum{}2 \\textasciitilde{} \"=\" \\textasciitilde{} 0.006 \\textasciitilde{} \",\" \\textasciitilde{} \\textasciitilde{}italic(p) \\textasciitilde{} \"=\" \\textasciitilde{} 0.157'"
      ],
      "text/markdown": [
       "'italic(y) == \"0.18\" + \"-0.002\" %.% italic(x) * \",\" ~ ~italic(R)^2 ~ \"=\" ~ 0.006 ~ \",\" ~ ~italic(p) ~ \"=\" ~ 0.157'"
      ],
      "text/plain": [
       "[1] \"italic(y) == \\\"0.18\\\" + \\\"-0.002\\\" %.% italic(x) * \\\",\\\" ~ ~italic(R)^2 ~ \\\"=\\\" ~ 0.006 ~ \\\",\\\" ~ ~italic(p) ~ \\\"=\\\" ~ 0.157\""
      ]
     },
     "metadata": {},
     "output_type": "display_data"
    }
   ],
   "source": [
    "eq <- substitute(italic(y) == a + b %.% italic(x)*\",\"~~italic(R)^2~\"=\"~r2~\",\"~~italic(p)~\"=\"~pval, \n",
    "         list(a = format(coef(m)[1], digits = 2), \n",
    "              b = format(coef(m)[2], digits = 2), \n",
    "             r2 = round(m$adj.r.squared, 3),\n",
    "            pval = unname(round(pf(m$fstatistic[1], m$fstatistic[2], m$fstatistic[3],\n",
    "      lower.tail = FALSE), 3))\n",
    "             ))\n",
    "\n",
    "eq = as.character(as.expression(eq))               \n",
    "eq"
   ]
  },
  {
   "cell_type": "code",
   "execution_count": 349,
   "metadata": {},
   "outputs": [
    {
     "name": "stderr",
     "output_type": "stream",
     "text": [
      "`geom_smooth()` using formula 'y ~ s(x, bs = \"cs\")'\n",
      "\n",
      "`geom_smooth()` using formula 'y ~ s(x, bs = \"cs\")'\n",
      "\n"
     ]
    },
    {
     "data": {
      "image/png": "[encoded data removed]",
      "text/plain": [
       "plot without title"
      ]
     },
     "metadata": {
      "image/png": {
       "height": 420,
       "width": 420
      },
      "text/plain": {
       "height": 420,
       "width": 420
      }
     },
     "output_type": "display_data"
    }
   ],
   "source": [
    "p1= ggplot(subset(wdfs_users_with_flags, numWords > 25)) + geom_point(aes(x=propFlags, y= 1 - propMatch)\n",
    ") + geom_smooth(aes(x=propFlags, y=1 - propMatch), method='gam') + ylab(\n",
    "'Proportion of Words Changed By Partcipant\\n(Participant Accepted Sentences)') + xlab(\n",
    "'Proportion of Input Sentences Flagged by Participant\\n(Participant Rejected Sentences)'\n",
    ") + theme_classic() + annotate(\"text\", x = .4, y = .4, label = eq, parse = TRUE, \n",
    "    color='red', size=5)\n",
    "p1 = ggMarginal(p1, type=\"histogram\")\n",
    "print(p1)"
   ]
  },
  {
   "cell_type": "code",
   "execution_count": 297,
   "metadata": {},
   "outputs": [],
   "source": [
    "ggsave( 'figures/wordChangesVsFlags.pdf', plot= p1, width=6, height=6)\n",
    "ggsave( 'figures/wordChangesVsFlags.png', plot= p1, width=6, height=6)"
   ]
  }
 ],
 "metadata": {
  "kernelspec": {
   "display_name": "R 3.6",
   "language": "R",
   "name": "ir32"
  },
  "language_info": {
   "codemirror_mode": "r",
   "file_extension": ".r",
   "mimetype": "text/x-r-source",
   "name": "R",
   "pygments_lexer": "r",
   "version": "3.6.3"
  }
 },
 "nbformat": 4,
 "nbformat_minor": 2
}
