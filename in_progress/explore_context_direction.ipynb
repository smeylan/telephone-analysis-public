{
 "cells": [
  {
   "cell_type": "code",
   "execution_count": 10,
   "metadata": {},
   "outputs": [],
   "source": [
    "RESULTS_FOLDER = './intermediate_results/new_models_probs'\n",
    "\n",
    "import transformers\n",
    "from transformers import GPT2LMHeadModel, GPT2Tokenizer, BertForMaskedLM, BertTokenizer, BartForConditionalGeneration, BartTokenizer\n",
    "\n",
    "import os\n",
    "from os.path import join, exists\n",
    "\n",
    "os.chdir('/home/nwong/chompsky/serial_chain/telephone-analysis-public')\n",
    "\n",
    "from new_models import prep_probs, model_score_funcs, model_score_utils, sub_analysis\n",
    "\n",
    "import importlib\n",
    "import load_runs\n",
    "\n",
    "import pandas as pd\n",
    "import numpy as np\n",
    "import matplotlib.pyplot as plt\n",
    "import seaborn as sns\n",
    "\n",
    "import torch\n",
    "from collections import defaultdict\n"
   ]
  },
  {
   "cell_type": "markdown",
   "metadata": {},
   "source": [
    "Checking whether right-side context is responsible for BERT \"telephone\" case"
   ]
  },
  {
   "cell_type": "code",
   "execution_count": 137,
   "metadata": {},
   "outputs": [],
   "source": [
    "\n",
    "\n",
    "def get_attention_bert(raw_sentence, word, pos, mod, tok, pref):\n",
    "    \n",
    "    sentence = model_score_utils.prepSentence(raw_sentence)\n",
    "    position = sub_analysis.find_true_token_position(sentence, word, pos, tok)\n",
    "\n",
    "    # Note: above position is NOT with CLS added. This is accounted for in process_single_substitution. \n",
    "\n",
    "    if position == -2: return None\n",
    "    # The desired token was probably fragmented by the tokenizer.\n",
    "    # That is, the changed word couldn't be found in whole form after tokenization.\n",
    "\n",
    "    position = position + 1\n",
    "    # This is because CLS is not accounted for in the original index. This is for correctness of the prefixes.\n",
    "\n",
    "    token_prefix, orig_tokens = pref(sentence, tok, [position])\n",
    "\n",
    "    # Run the actual prediction\n",
    "\n",
    "    this_input = torch.Tensor(token_prefix)\n",
    "    with torch.no_grad():\n",
    "        raw_outputs = mod(this_input.long().unsqueeze(0) if len(this_input.shape) == 1 else this_input.long(), output_attentions=True)\n",
    "        attn = raw_outputs['attentions']\n",
    "        \n",
    "    return attn\n",
    "        "
   ]
  },
  {
   "cell_type": "code",
   "execution_count": 139,
   "metadata": {},
   "outputs": [],
   "source": [
    "# Because BERT so position = logit position\n",
    "\n",
    "# CLS and SEP have high values that can \"wash out\" the differences in the word attentions.\n",
    "# The same is true for \"MASK\"\n",
    "\n",
    "def plot_bert_attentions(attn, tok, ground_truth_word, orig_tokens, attn_threshold = None, omit_cls_end_mask = False):\n",
    "\n",
    "    if not omit_cls_end_mask:\n",
    "        input_attn = torch.mean(attn[0][:, :, position, :], axis = 1)\n",
    "        num_x_ticks = this_input.shape[1]\n",
    "        display_words = token_words\n",
    "    else:    \n",
    "        input_attn = torch.mean(attn[0][:, :, position, 1:-1], axis = 1)\n",
    "        num_x_ticks = this_input.shape[1] - 2\n",
    "        display_words = this_token_words[1:-1]\n",
    "\n",
    "    if attn_threshold is not None:\n",
    "        input_attn = torch.clip(input_attn, 0, attn_threshold)\n",
    "\n",
    "\n",
    "    # For text annotations and color bar\n",
    "    # 6/2 : https://www.pythonprogramming.in/heatmap-with-intermediate-color-text-annotations.html\n",
    "\n",
    "    fig, ax = plt.subplots(figsize=(10, 6))\n",
    "    plt.title(f'Input attention activations for word: {ground_truth_word}, values clipped to 0.08')\n",
    "\n",
    "    im = ax.imshow(input_attn, cmap = \"YlGnBu\")\n",
    "    fig.colorbar(im)\n",
    "\n",
    "    textcolors = [\"k\", \"w\"]\n",
    "\n",
    "    #6/2 hide ticks: https://www.delftstack.com/howto/matplotlib/how-to-hide-axis-text-ticks-and-or-tick-labels-in-matplotlib/\n",
    "    #6/2 rotation: https://www.delftstack.com/howto/matplotlib/how-to-rotate-x-axis-tick-label-text-in-matplotlib/\n",
    "    #6/2 xtick text: https://www.mathworks.com/help/matlab/creating_plots/change-tick-marks-and-tick-labels-of-graph-1.html\n",
    "    \n",
    "    plt.yticks(color = 'w')\n",
    "    plt.xticks(range(num_x_ticks), display_words, rotation = 45)\n",
    "    threshold = 20/255\n",
    "    for j in range(num_x_ticks):\n",
    "        this_val = round(input_attn[0][j].item(), 3)\n",
    "        ax.text(j, 0, this_val, ha=\"center\", va=\"center\", color=textcolors[this_val > threshold])\n",
    "\n",
    "    # End taken code\n",
    "    \n",
    "    plt.show()\n"
   ]
  },
  {
   "cell_type": "code",
   "execution_count": 133,
   "metadata": {},
   "outputs": [],
   "source": [
    "# To change the case that this is run on, change the below line:\n",
    "\n",
    "def calc_and_plot_bert_attention(case_info, this_mod, this_tok, this_pref, attn_threshold = None):\n",
    "    \n",
    "    this_raw_sentence, this_word, this_pos = case_info\n",
    "    \n",
    "    this_token_prefix, this_orig_tokens = this_pref(this_sentence, this_tok, [this_pos])\n",
    "\n",
    "    this_token_words = this_tok.convert_ids_to_tokens(this_token_prefix[0])\n",
    "    this_ground_truth_word = this_tok.convert_ids_to_tokens([this_orig_tokens[this_pos]])[0]\n",
    "\n",
    "    this_attn = get_attention_bert(this_raw_sentence, this_word, this_pos, this_mod, this_tok, this_pref)\n",
    "\n",
    "    plot_bert_attentions(this_attn, this_tok, this_ground_truth_word, this_orig_tokens,\n",
    "                         attn_threshold = attn_threshold, omit_cls_end_mask = False)\n",
    "    "
   ]
  },
  {
   "cell_type": "code",
   "execution_count": null,
   "metadata": {},
   "outputs": [],
   "source": [
    "bert_args = model_score_funcs.get_bert_modules()"
   ]
  },
  {
   "cell_type": "code",
   "execution_count": 140,
   "metadata": {},
   "outputs": [
    {
     "data": {
      "image/png": "[encoded data removed]",
      "text/plain": [
       "<Figure size 720x432 with 2 Axes>"
      ]
     },
     "metadata": {},
     "output_type": "display_data"
    }
   ],
   "source": [
    "# attn_threshold: Manually chosen to be a little bit above the max attention after the CLS SEP and MASK, 0.079\n",
    "book_phone_case = (\"each nonfiction book has a call number on its spine\", 'book', 2)\n",
    "calc_and_plot_bert_attention(book_phone_case, *bert_args, 0.08)"
   ]
  }
 ],
 "metadata": {
  "kernelspec": {
   "display_name": "telephone-env-3",
   "language": "python",
   "name": "telephone-env-3"
  }
 },
 "nbformat": 4,
 "nbformat_minor": 2
}
